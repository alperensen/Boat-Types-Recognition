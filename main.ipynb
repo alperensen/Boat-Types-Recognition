{
 "cells": [
  {
   "cell_type": "markdown",
   "id": "70e77f79",
   "metadata": {},
   "source": [
    "## Utku Alperen ŞEN\n",
    "\n",
    "## 20200805602\n",
    "\n",
    "## Boat Types Recognition"
   ]
  },
  {
   "cell_type": "code",
   "execution_count": null,
   "id": "af1724c4",
   "metadata": {},
   "outputs": [],
   "source": [
    "import numpy as np\n",
    "import pandas as pd\n",
    "import matplotlib.pyplot as plt\n",
    "import os, shutil\n",
    "import tensorflow as tf\n",
    "import copy\n",
    "from keras import models\n",
    "from keras import layers\n",
    "from keras import optimizers\n",
    "from keras import losses\n",
    "from keras import metrics\n",
    "from keras.utils import to_categorical\n",
    "from keras.preprocessing.image import ImageDataGenerator\n",
    "from keras.preprocessing import image\n",
    "from keras.applications import VGG16\n",
    "from keras import backend as K\n",
    "from keras.applications.vgg16 import preprocess_input, decode_predictions"
   ]
  },
  {
   "cell_type": "markdown",
   "id": "ec92a952",
   "metadata": {},
   "source": [
    "## 1.(A) İlk olarak gerekli kütüphaneleri tanımladıktan sonra dataset verilerimi train, validation ve test olarak üç bölüme ayırdım."
   ]
  },
  {
   "cell_type": "code",
   "execution_count": 3,
   "id": "fdfad6c7",
   "metadata": {},
   "outputs": [],
   "source": [
    "original_buoy = \"C:\\DeepLearning\\dataset/buoy\" #Orjinal buoy datasetini içeren klasör dizini\n",
    "original_cruiseship = \"C:\\DeepLearning\\dataset/cruise ship\" #Orjinal cruise ship datasetini içeren klasör dizini\n",
    "original_ferryboat = \"C:\\DeepLearning\\dataset/ferry boat\"   #Orjinal ferry boat datasetini içeren klasör dizini\n",
    "original_freightboat = \"C:\\DeepLearning\\dataset/freight boat\"   #Orjinal freight boat datasetini içeren klasör dizini\n",
    "original_gondola = \"C:\\DeepLearning\\dataset/gondola\"    #Orjinal gondola datasetini içeren klasör dizini\n",
    "original_inflatableboat = \"C:\\DeepLearning\\dataset/inflatable boat\" #Orjinal inflatable boat datasetini içeren klasör dizini\n",
    "original_kayak = \"C:\\DeepLearning\\dataset/kayak\"    #Orjinal kayak datasetini içeren klasör dizini\n",
    "original_paperboat = \"C:\\DeepLearning\\dataset/paper boat\"   #Orjinal paper boat datasetini içeren klasör dizini\n",
    "original_sailboat = \"C:\\DeepLearning\\dataset/sailboat\"  #Orjinal sailboat datasetini içeren klasör dizini\n",
    "\n",
    "base_dir = \"C:\\DeepLearning\\splits\" #Üç bölmeye ayırmak için oluşturacağımız klasör dizini\n",
    "os.mkdir(base_dir) #Train,Validation,Test için klasör oluşturuldu"
   ]
  },
  {
   "cell_type": "code",
   "execution_count": 4,
   "id": "80b1812e",
   "metadata": {},
   "outputs": [],
   "source": [
    "train_dir = os.path.join(base_dir, 'train')\n",
    "os.mkdir(train_dir)\n",
    "validation_dir= os.path.join(base_dir, 'validation')\n",
    "os.mkdir(validation_dir)\n",
    "test_dir= os.path.join(base_dir, 'test')\n",
    "os.mkdir(test_dir)\n",
    "\n",
    "#Train dosyaları için datasetteki verilerin oluşturulduğu dosyalar\n",
    "train_buoy = os.path.join(train_dir, 'buoy')\n",
    "os.mkdir(train_buoy)\n",
    "train_cruiseship = os.path.join(train_dir, 'cruise ship')\n",
    "os.mkdir(train_cruiseship)\n",
    "train_ferryboat = os.path.join(train_dir, 'ferry boat')\n",
    "os.mkdir(train_ferryboat)\n",
    "train_freightboat = os.path.join(train_dir, 'freight boat')\n",
    "os.mkdir(train_freightboat)\n",
    "train_gondola = os.path.join(train_dir, 'gondola')\n",
    "os.mkdir(train_gondola)\n",
    "train_inflatableboat = os.path.join(train_dir, 'inflatable boat')\n",
    "os.mkdir(train_inflatableboat)\n",
    "train_kayak = os.path.join(train_dir, 'kayak')\n",
    "os.mkdir(train_kayak)\n",
    "train_paperboat = os.path.join(train_dir, 'paper boat')\n",
    "os.mkdir(train_paperboat)\n",
    "train_sailboat = os.path.join(train_dir, 'sail boat')\n",
    "os.mkdir(train_sailboat)\n",
    "\n",
    "#Validation dosyaları için datasetteki verilerin oluşturulduğu dosyalar\n",
    "val_buoy = os.path.join(validation_dir, 'buoy')\n",
    "os.mkdir(val_buoy)\n",
    "val_cruiseship = os.path.join(validation_dir, 'cruise ship')\n",
    "os.mkdir(val_cruiseship)\n",
    "val_ferryboat = os.path.join(validation_dir, 'ferry boat')\n",
    "os.mkdir(val_ferryboat)\n",
    "val_freightboat = os.path.join(validation_dir, 'freight boat')\n",
    "os.mkdir(val_freightboat)\n",
    "val_gondola = os.path.join(validation_dir, 'gondola')\n",
    "os.mkdir(val_gondola)\n",
    "val_inflatableboat = os.path.join(validation_dir, 'inflatable boat')\n",
    "os.mkdir(val_inflatableboat)\n",
    "val_kayak = os.path.join(validation_dir, 'kayak')\n",
    "os.mkdir(val_kayak)\n",
    "val_paperboat = os.path.join(validation_dir, 'paper boat')\n",
    "os.mkdir(val_paperboat)\n",
    "val_sailboat = os.path.join(validation_dir, 'sail boat')\n",
    "os.mkdir(val_sailboat)\n",
    "\n",
    "#Test dosyaları için datasetteki verilerin oluşturulduğu dosyalar\n",
    "test_buoy = os.path.join(test_dir, 'buoy')\n",
    "os.mkdir(test_buoy)\n",
    "test_cruiseship = os.path.join(test_dir, 'cruise ship')\n",
    "os.mkdir(test_cruiseship)\n",
    "test_ferryboat = os.path.join(test_dir, 'ferry boat')\n",
    "os.mkdir(test_ferryboat)\n",
    "test_freightboat = os.path.join(test_dir, 'freight boat')\n",
    "os.mkdir(test_freightboat)\n",
    "test_gondola = os.path.join(test_dir, 'gondola')\n",
    "os.mkdir(test_gondola)\n",
    "test_inflatableboat = os.path.join(test_dir, 'inflatable boat')\n",
    "os.mkdir(test_inflatableboat)\n",
    "test_kayak = os.path.join(test_dir, 'kayak')\n",
    "os.mkdir(test_kayak)\n",
    "test_paperboat = os.path.join(test_dir, 'paper boat')\n",
    "os.mkdir(test_paperboat)\n",
    "test_sailboat = os.path.join(test_dir, 'sail boat')\n",
    "os.mkdir(test_sailboat)"
   ]
  },
  {
   "cell_type": "markdown",
   "id": "749d51c7",
   "metadata": {},
   "source": [
    "## 1.(B) Klasörlerin içerisindeki .jpg uzantılı dosyaları farklı bir dosyaya kopyalayabilmek için .jpg dosyalarının isimlerini liste içerisine aldım."
   ]
  },
  {
   "cell_type": "code",
   "execution_count": 5,
   "id": "6537de2c",
   "metadata": {},
   "outputs": [],
   "source": [
    "buoy_list = os.listdir(original_buoy)\n",
    "cruiseship_list = os.listdir(original_cruiseship)\n",
    "ferryboat_list = os.listdir(original_ferryboat)\n",
    "freightboat_list = os.listdir(original_freightboat)     #Asıl datasetimin dosyalarını .jpg uzantılı dosyaların isimlerini alabilmek için bir liste içerisine aldım\n",
    "gondola_list = os.listdir(original_gondola)\n",
    "inflatableboat_list = os.listdir(original_inflatableboat)\n",
    "kayak_list = os.listdir(original_kayak)\n",
    "paperboat_list = os.listdir(original_paperboat)\n",
    "sailboat_list = os.listdir(original_sailboat)"
   ]
  },
  {
   "cell_type": "markdown",
   "id": "7d2aee49",
   "metadata": {},
   "source": [
    "## 1.(C) .jpg uzantılı dosyaların kopyalandığı kod bölümü."
   ]
  },
  {
   "cell_type": "code",
   "execution_count": 6,
   "id": "97506762",
   "metadata": {},
   "outputs": [],
   "source": [
    "#Dosyaları orjinal buoy dataset içerisinden train,validation,test dosyalarının içerisine kopyaladım\n",
    "fnames = ['{}'.format(i) for i in buoy_list[:30]]\n",
    "for fname in fnames:\n",
    "    src = os.path.join(original_buoy, fname)\n",
    "    dst = os.path.join(train_buoy, fname)\n",
    "    shutil.copyfile(src, dst)\n",
    "\n",
    "fnames = ['{}'.format(i) for i in buoy_list[30:55]]\n",
    "for fname in fnames:\n",
    "    src = os.path.join(original_buoy, fname)                                #BUOY\n",
    "    dst = os.path.join(val_buoy, fname)\n",
    "    shutil.copyfile(src, dst)\n",
    "\n",
    "fnames = ['{}'.format(i) for i in buoy_list[55:68]]\n",
    "for fname in fnames:\n",
    "    src = os.path.join(original_buoy, fname)\n",
    "    dst = os.path.join(test_buoy, fname)\n",
    "    shutil.copyfile(src, dst)\n",
    "\n",
    "\n",
    "#Dosyaları orjinal cruise ship dataset içerisinden train,validation,test dosyalarının içerisine kopyaladım\n",
    "fnames = ['{}'.format(i) for i in cruiseship_list[:150]]\n",
    "for fname in fnames:\n",
    "    src = os.path.join(original_cruiseship, fname)\n",
    "    dst = os.path.join(train_cruiseship, fname)\n",
    "    shutil.copyfile(src, dst)\n",
    "\n",
    "fnames = ['{}'.format(i) for i in cruiseship_list[170:205]]            #CRUISE SHIP\n",
    "for fname in fnames:\n",
    "    src = os.path.join(original_cruiseship, fname)\n",
    "    dst = os.path.join(val_cruiseship, fname)\n",
    "    shutil.copyfile(src, dst)\n",
    "\n",
    "fnames = ['{}'.format(i) for i in cruiseship_list[205:239]]\n",
    "for fname in fnames:\n",
    "    src = os.path.join(original_cruiseship, fname)\n",
    "    dst = os.path.join(test_cruiseship, fname)\n",
    "    shutil.copyfile(src, dst)\n",
    "\n",
    "\n",
    "#Dosyaları orjinal ferry boat dataset içerisinden train,validation,test dosyalarının içerisine kopyaladım\n",
    "fnames = ['{}'.format(i) for i in ferryboat_list[:54]]\n",
    "for fname in fnames:\n",
    "    src = os.path.join(original_ferryboat, fname)\n",
    "    dst = os.path.join(train_ferryboat, fname)\n",
    "    shutil.copyfile(src, dst)\n",
    "\n",
    "fnames = ['{}'.format(i) for i in ferryboat_list[54:70]]          #FERRY BOAT\n",
    "for fname in fnames:\n",
    "    src = os.path.join(original_ferryboat, fname)\n",
    "    dst = os.path.join(val_ferryboat, fname)\n",
    "    shutil.copyfile(src, dst)\n",
    "\n",
    "fnames = ['{}'.format(i) for i in ferryboat_list[70:81]]\n",
    "for fname in fnames:\n",
    "    src = os.path.join(original_ferryboat, fname)\n",
    "    dst = os.path.join(test_ferryboat, fname)\n",
    "    shutil.copyfile(src, dst)\n",
    "\n",
    "\n",
    "#Dosyaları orjinal freight boat dataset içerisinden train,validation,test dosyalarının içerisine kopyaladım\n",
    "fnames = ['{}'.format(i) for i in freightboat_list[:20]]\n",
    "for fname in fnames:\n",
    "    src = os.path.join(original_freightboat, fname)\n",
    "    dst = os.path.join(train_freightboat, fname)\n",
    "    shutil.copyfile(src, dst)\n",
    "\n",
    "fnames = ['{}'.format(i) for i in freightboat_list[20:25]]                #FREIGHT BOAT\n",
    "for fname in fnames:\n",
    "    src = os.path.join(original_freightboat, fname)\n",
    "    dst = os.path.join(val_freightboat, fname)\n",
    "    shutil.copyfile(src, dst)\n",
    "\n",
    "fnames = ['{}'.format(i) for i in freightboat_list[25:29]]\n",
    "for fname in fnames:\n",
    "    src = os.path.join(original_freightboat, fname)\n",
    "    dst = os.path.join(test_freightboat, fname)\n",
    "    shutil.copyfile(src, dst)\n",
    "\n",
    "\n",
    "#Dosyaları orjinal gondola dataset içerisinden train,validation,test dosyalarının içerisine kopyaladım\n",
    "fnames = ['{}'.format(i) for i in gondola_list[:160]]\n",
    "for fname in fnames:\n",
    "    src = os.path.join(original_gondola, fname)\n",
    "    dst = os.path.join(train_gondola, fname)\n",
    "    shutil.copyfile(src, dst)\n",
    "\n",
    "fnames = ['{}'.format(i) for i in gondola_list[160:200]]           #GONDOLA\n",
    "for fname in fnames:\n",
    "    src = os.path.join(original_gondola, fname)\n",
    "    dst = os.path.join(val_gondola, fname)\n",
    "    shutil.copyfile(src, dst)\n",
    "\n",
    "fnames = ['{}'.format(i) for i in gondola_list[200:242]]\n",
    "for fname in fnames:\n",
    "    src = os.path.join(original_gondola, fname)\n",
    "    dst = os.path.join(test_gondola, fname)\n",
    "    shutil.copyfile(src, dst)\n",
    "\n",
    "\n",
    "#Dosyaları orjinal inflatable boat dataset içerisinden train,validation,test dosyalarının içerisine kopyaladım\n",
    "fnames = ['{}'.format(i) for i in inflatableboat_list[:14]]\n",
    "for fname in fnames:\n",
    "    src = os.path.join(original_inflatableboat, fname)\n",
    "    dst = os.path.join(train_inflatableboat, fname)\n",
    "    shutil.copyfile(src, dst)\n",
    "\n",
    "fnames = ['{}'.format(i) for i in inflatableboat_list[14:18]]          #INFLATABLE BOAT\n",
    "for fname in fnames:\n",
    "    src = os.path.join(original_inflatableboat, fname)\n",
    "    dst = os.path.join(val_inflatableboat, fname)\n",
    "    shutil.copyfile(src, dst)\n",
    "\n",
    "fnames = ['{}'.format(i) for i in inflatableboat_list[18:21]]\n",
    "for fname in fnames:\n",
    "    src = os.path.join(original_inflatableboat, fname)\n",
    "    dst = os.path.join(test_inflatableboat, fname)\n",
    "    shutil.copyfile(src, dst)\n",
    "\n",
    "\n",
    "#Dosyaları orjinal kayak dataset içerisinden train,validation,test dosyalarının içerisine kopyaladım\n",
    "fnames = ['{}'.format(i) for i in kayak_list[:155]]\n",
    "for fname in fnames:\n",
    "    src = os.path.join(original_kayak, fname)\n",
    "    dst = os.path.join(train_kayak, fname)\n",
    "    shutil.copyfile(src, dst)\n",
    "\n",
    "fnames = ['{}'.format(i) for i in kayak_list[155:205]]                     #KAYAK\n",
    "for fname in fnames:\n",
    "    src = os.path.join(original_kayak, fname)\n",
    "    dst = os.path.join(val_kayak, fname)\n",
    "    shutil.copyfile(src, dst)\n",
    "\n",
    "fnames = ['{}'.format(i) for i in kayak_list[205:254]]\n",
    "for fname in fnames:\n",
    "    src = os.path.join(original_kayak, fname)\n",
    "    dst = os.path.join(test_kayak, fname)\n",
    "    shutil.copyfile(src, dst)\n",
    "\n",
    "\n",
    "#Dosyaları orjinal paper boat dataset içerisinden train,validation,test dosyalarının içerisine kopyaladım\n",
    "fnames = ['{}'.format(i) for i in paperboat_list[:24]]\n",
    "for fname in fnames:\n",
    "    src = os.path.join(original_paperboat, fname)\n",
    "    dst = os.path.join(train_paperboat, fname)\n",
    "    shutil.copyfile(src, dst)\n",
    "\n",
    "fnames = ['{}'.format(i) for i in paperboat_list[24:32]]                  #PAPER BOAT\n",
    "for fname in fnames:\n",
    "    src = os.path.join(original_paperboat, fname)\n",
    "    dst = os.path.join(val_paperboat, fname)\n",
    "    shutil.copyfile(src, dst)\n",
    "\n",
    "fnames = ['{}'.format(i) for i in paperboat_list[32:40]]\n",
    "for fname in fnames:\n",
    "    src = os.path.join(original_paperboat, fname)\n",
    "    dst = os.path.join(test_paperboat, fname)\n",
    "    shutil.copyfile(src, dst)\n",
    "\n",
    "\n",
    "#Dosyaları orjinal sail boat dataset içerisinden train,validation,test dosyalarının içerisine kopyaladım\n",
    "fnames = ['{}'.format(i) for i in sailboat_list[:293]]\n",
    "for fname in fnames:\n",
    "    src = os.path.join(original_sailboat, fname)\n",
    "    dst = os.path.join(train_sailboat, fname)\n",
    "    shutil.copyfile(src, dst)\n",
    "\n",
    "fnames = ['{}'.format(i) for i in sailboat_list[293:390]]                 #SAIL BOAT\n",
    "for fname in fnames:\n",
    "    src = os.path.join(original_sailboat, fname)\n",
    "    dst = os.path.join(val_sailboat, fname)\n",
    "    shutil.copyfile(src, dst)\n",
    "\n",
    "fnames = ['{}'.format(i) for i in sailboat_list[390:488]]\n",
    "for fname in fnames:\n",
    "    src = os.path.join(original_sailboat, fname)\n",
    "    dst = os.path.join(test_sailboat, fname)\n",
    "    shutil.copyfile(src, dst)"
   ]
  },
  {
   "cell_type": "markdown",
   "id": "bc66df76",
   "metadata": {},
   "source": [
    "## 2. Common sense baseline hesaplaması için basit bir olasılık hesaplaması yaptım. Benim datasetimde toplam 9 class ve 1462 adet .jpg uzantılı dosya bulunuyor. Yapay zeka programımın her bir class'ı seçme olasılığı ile seçmeme olasılığını toplayıp 100 ile çarptığımda bir olasılık değeri gelmiş oldu. Hesaplamalarım sonucunda %32 değerini buldum. Modelimin yenmesi gerektiği ve minimum başarı oranı %32 oranını geçtikten sonra olmaktadır."
   ]
  },
  {
   "cell_type": "code",
   "execution_count": null,
   "id": "9d303393",
   "metadata": {},
   "outputs": [],
   "source": [
    "# Seçme Olasılığı: ((68/1462)*(239/1462)*(81/1462)*(29/1462)*(242/1462)*(21/1462)*(254/1462)*(40/1462)*(488/1462))\n",
    "# Seçmeme Olasılığı: ((1-(68/1462))*(1-(239/1462)*(1-(81/1462)*(1-(29/1462)*(1-(242/1462)*(1-(21/1462)\n",
    "#  *(1-(254/1462)*(1-(40/1462)*(1-(488/1462))\n",
    "# Toplam olasılık: (Seçme Olasılığı + Seçmeme Olasılığı) * 100"
   ]
  },
  {
   "cell_type": "markdown",
   "id": "f86356c2",
   "metadata": {},
   "source": [
    "## 3. Projeme tanımladığım CNN Modeli."
   ]
  },
  {
   "cell_type": "code",
   "execution_count": 58,
   "id": "2aa7e4cc",
   "metadata": {},
   "outputs": [],
   "source": [
    "#Oluşturulan Model\n",
    "\n",
    "model = models.Sequential()\n",
    "model.add(layers.Conv2D(32, (3, 3), activation='relu',\n",
    "                        input_shape=(150, 150, 3)))\n",
    "model.add(layers.MaxPooling2D((2, 2)))\n",
    "model.add(layers.Conv2D(64, (3, 3), activation='relu'))\n",
    "model.add(layers.MaxPooling2D((2,2)))\n",
    "model.add(layers.Conv2D(128, (3, 3), activation='relu'))\n",
    "model.add(layers.MaxPooling2D((2,2)))\n",
    "model.add(layers.Conv2D(128, (3, 3), activation='relu'))\n",
    "model.add(layers.MaxPooling2D((2,2)))\n",
    "model.add(layers.Flatten())\n",
    "model.add(layers.Dense(512, activation='relu'))\n",
    "model.add(layers.Dense(9, activation='softmax'))"
   ]
  },
  {
   "cell_type": "markdown",
   "id": "25797f46",
   "metadata": {},
   "source": [
    "## 4. Modelimin katmanlarının özet çıktısı."
   ]
  },
  {
   "cell_type": "code",
   "execution_count": 18,
   "id": "effac960",
   "metadata": {
    "scrolled": true
   },
   "outputs": [
    {
     "name": "stdout",
     "output_type": "stream",
     "text": [
      "Model: \"sequential\"\n",
      "_________________________________________________________________\n",
      " Layer (type)                Output Shape              Param #   \n",
      "=================================================================\n",
      " conv2d (Conv2D)             (None, 148, 148, 32)      896       \n",
      "                                                                 \n",
      " max_pooling2d (MaxPooling2D  (None, 74, 74, 32)       0         \n",
      " )                                                               \n",
      "                                                                 \n",
      " conv2d_1 (Conv2D)           (None, 72, 72, 64)        18496     \n",
      "                                                                 \n",
      " max_pooling2d_1 (MaxPooling  (None, 36, 36, 64)       0         \n",
      " 2D)                                                             \n",
      "                                                                 \n",
      " conv2d_2 (Conv2D)           (None, 34, 34, 128)       73856     \n",
      "                                                                 \n",
      " max_pooling2d_2 (MaxPooling  (None, 17, 17, 128)      0         \n",
      " 2D)                                                             \n",
      "                                                                 \n",
      " conv2d_3 (Conv2D)           (None, 15, 15, 128)       147584    \n",
      "                                                                 \n",
      " max_pooling2d_3 (MaxPooling  (None, 7, 7, 128)        0         \n",
      " 2D)                                                             \n",
      "                                                                 \n",
      " flatten (Flatten)           (None, 6272)              0         \n",
      "                                                                 \n",
      " dense (Dense)               (None, 512)               3211776   \n",
      "                                                                 \n",
      " dense_1 (Dense)             (None, 9)                 4617      \n",
      "                                                                 \n",
      "=================================================================\n",
      "Total params: 3,457,225\n",
      "Trainable params: 3,457,225\n",
      "Non-trainable params: 0\n",
      "_________________________________________________________________\n"
     ]
    }
   ],
   "source": [
    "model.summary()  #Modelimizin özeti"
   ]
  },
  {
   "cell_type": "markdown",
   "id": "5390ba23",
   "metadata": {},
   "source": [
    "## 5.(A) Modelimi eğitebilmek için öncelikle derliyorum."
   ]
  },
  {
   "cell_type": "code",
   "execution_count": 19,
   "id": "ed2bd3cf",
   "metadata": {},
   "outputs": [],
   "source": [
    "#Modelimizi derliyoruz\n",
    "model.compile(loss='categorical_crossentropy',\n",
    "              optimizer=optimizers.Adam(learning_rate=0.001),\n",
    "              metrics=['acc'])"
   ]
  },
  {
   "cell_type": "markdown",
   "id": "02db12ab",
   "metadata": {},
   "source": [
    "## 5.(B) Train ve Validation dosyalarımın boyutlarını ve batch_size değerlerini veriyorum."
   ]
  },
  {
   "cell_type": "code",
   "execution_count": 20,
   "id": "258186e5",
   "metadata": {},
   "outputs": [
    {
     "name": "stdout",
     "output_type": "stream",
     "text": [
      "Found 900 images belonging to 9 classes.\n",
      "Found 280 images belonging to 9 classes.\n"
     ]
    }
   ],
   "source": [
    "#ImageDataGenerator sınıfı ile normalizasyon işlemini gerçekleştiriyorum\n",
    "train_data_gen = ImageDataGenerator(rescale=1./255)\n",
    "test_data_gen = ImageDataGenerator(rescale=1./255)\n",
    "\n",
    "train_generator = train_data_gen.flow_from_directory(\n",
    "    train_dir,\n",
    "    target_size=(150, 150),\n",
    "    batch_size=20,\n",
    "    class_mode='categorical')\n",
    "\n",
    "val_generator = test_data_gen.flow_from_directory(\n",
    "    validation_dir,\n",
    "    target_size=(150, 150),\n",
    "    batch_size=20,\n",
    "    class_mode='categorical')"
   ]
  },
  {
   "cell_type": "markdown",
   "id": "701dea7c",
   "metadata": {},
   "source": [
    "## 5.(C) Verilerimin hangi boyutta olduğunu kontrol ettiğim kısım"
   ]
  },
  {
   "cell_type": "code",
   "execution_count": 21,
   "id": "f8f350a6",
   "metadata": {},
   "outputs": [
    {
     "name": "stdout",
     "output_type": "stream",
     "text": [
      "data batch shape: (20, 150, 150, 3)\n",
      "labels batch shape: (20, 9)\n",
      "data batch shape: (20, 150, 150, 3)\n",
      "labels batch shape: (20, 9)\n"
     ]
    }
   ],
   "source": [
    "#Batch Shape\n",
    "for data_batch, labels_batch in train_generator:\n",
    "    print('data batch shape:', data_batch.shape)\n",
    "    print('labels batch shape:', labels_batch.shape)\n",
    "    break\n",
    "for data_batch, labels_batch in val_generator:\n",
    "    print('data batch shape:', data_batch.shape)\n",
    "    print('labels batch shape:', labels_batch.shape)\n",
    "    break"
   ]
  },
  {
   "cell_type": "markdown",
   "id": "87bc733f",
   "metadata": {},
   "source": [
    "## 5.(D) Modelimin eğitimini gerçekleştiriyorum."
   ]
  },
  {
   "cell_type": "code",
   "execution_count": 22,
   "id": "b23ac30f",
   "metadata": {},
   "outputs": [
    {
     "name": "stderr",
     "output_type": "stream",
     "text": [
      "C:\\Users\\ALPEREN\\AppData\\Local\\Temp\\ipykernel_19436\\248505733.py:2: UserWarning: `Model.fit_generator` is deprecated and will be removed in a future version. Please use `Model.fit`, which supports generators.\n",
      "  history = model.fit_generator(\n"
     ]
    },
    {
     "name": "stdout",
     "output_type": "stream",
     "text": [
      "Epoch 1/20\n",
      "20/20 [==============================] - 13s 633ms/step - loss: 1.9360 - acc: 0.2950 - val_loss: 1.9114 - val_acc: 0.2950\n",
      "Epoch 2/20\n",
      "20/20 [==============================] - 11s 546ms/step - loss: 1.7719 - acc: 0.3625 - val_loss: 1.7852 - val_acc: 0.3700\n",
      "Epoch 3/20\n",
      "20/20 [==============================] - 10s 527ms/step - loss: 1.7056 - acc: 0.3725 - val_loss: 1.7444 - val_acc: 0.3750\n",
      "Epoch 4/20\n",
      "20/20 [==============================] - 10s 509ms/step - loss: 1.5688 - acc: 0.4275 - val_loss: 1.7829 - val_acc: 0.4400\n",
      "Epoch 5/20\n",
      "20/20 [==============================] - 10s 487ms/step - loss: 1.5526 - acc: 0.4925 - val_loss: 1.6115 - val_acc: 0.4600\n",
      "Epoch 6/20\n",
      "20/20 [==============================] - 10s 498ms/step - loss: 1.5155 - acc: 0.4775 - val_loss: 1.6531 - val_acc: 0.4700\n",
      "Epoch 7/20\n",
      "20/20 [==============================] - 10s 485ms/step - loss: 1.5122 - acc: 0.4725 - val_loss: 1.6588 - val_acc: 0.4450\n",
      "Epoch 8/20\n",
      "20/20 [==============================] - 10s 501ms/step - loss: 1.3796 - acc: 0.5625 - val_loss: 1.5413 - val_acc: 0.4800\n",
      "Epoch 9/20\n",
      "20/20 [==============================] - 10s 500ms/step - loss: 1.3747 - acc: 0.5500 - val_loss: 1.6924 - val_acc: 0.4500\n",
      "Epoch 10/20\n",
      "20/20 [==============================] - 10s 496ms/step - loss: 1.2979 - acc: 0.5350 - val_loss: 1.5658 - val_acc: 0.5200\n",
      "Epoch 11/20\n",
      "20/20 [==============================] - 10s 486ms/step - loss: 1.2637 - acc: 0.5775 - val_loss: 1.3806 - val_acc: 0.5550\n",
      "Epoch 12/20\n",
      "20/20 [==============================] - 10s 481ms/step - loss: 1.0903 - acc: 0.6625 - val_loss: 1.7148 - val_acc: 0.4450\n",
      "Epoch 13/20\n",
      "20/20 [==============================] - 10s 477ms/step - loss: 1.0141 - acc: 0.6600 - val_loss: 1.6477 - val_acc: 0.5300\n",
      "Epoch 14/20\n",
      "20/20 [==============================] - 10s 481ms/step - loss: 0.9275 - acc: 0.7025 - val_loss: 1.4841 - val_acc: 0.4550\n",
      "Epoch 15/20\n",
      "20/20 [==============================] - 10s 484ms/step - loss: 0.8386 - acc: 0.7450 - val_loss: 1.8523 - val_acc: 0.4900\n",
      "Epoch 16/20\n",
      "20/20 [==============================] - 10s 484ms/step - loss: 0.7309 - acc: 0.7525 - val_loss: 1.9260 - val_acc: 0.4050\n",
      "Epoch 17/20\n",
      "20/20 [==============================] - 10s 484ms/step - loss: 0.6911 - acc: 0.7575 - val_loss: 1.8256 - val_acc: 0.4750\n",
      "Epoch 18/20\n",
      "20/20 [==============================] - 10s 483ms/step - loss: 0.5860 - acc: 0.8000 - val_loss: 2.1150 - val_acc: 0.4950\n",
      "Epoch 19/20\n",
      "20/20 [==============================] - 10s 481ms/step - loss: 0.4777 - acc: 0.8300 - val_loss: 1.9710 - val_acc: 0.5150\n",
      "Epoch 20/20\n",
      "20/20 [==============================] - 10s 488ms/step - loss: 0.3954 - acc: 0.8775 - val_loss: 2.7877 - val_acc: 0.4650\n"
     ]
    }
   ],
   "source": [
    "#Modelimizin eğitimini gerçekleştiriyoruz\n",
    "history = model.fit_generator(\n",
    "    train_generator,\n",
    "    steps_per_epoch=20,\n",
    "    epochs=20,\n",
    "    validation_data=val_generator,\n",
    "    validation_steps=10)"
   ]
  },
  {
   "cell_type": "code",
   "execution_count": 23,
   "id": "7d818659",
   "metadata": {
    "scrolled": true
   },
   "outputs": [
    {
     "name": "stderr",
     "output_type": "stream",
     "text": [
      "WARNING:absl:Found untraced functions such as _jit_compiled_convolution_op, _jit_compiled_convolution_op, _jit_compiled_convolution_op, _jit_compiled_convolution_op while saving (showing 4 of 4). These functions will not be directly callable after loading.\n"
     ]
    },
    {
     "name": "stdout",
     "output_type": "stream",
     "text": [
      "INFO:tensorflow:Assets written to: C:/DeepLearning/boats\\assets\n"
     ]
    },
    {
     "name": "stderr",
     "output_type": "stream",
     "text": [
      "INFO:tensorflow:Assets written to: C:/DeepLearning/boats\\assets\n"
     ]
    }
   ],
   "source": [
    "#Modelimin sonradan tekrardan kullanılabilmesi için kaydediyorum\n",
    "model.save('C:/DeepLearning/boats')"
   ]
  },
  {
   "cell_type": "markdown",
   "id": "8c312314",
   "metadata": {},
   "source": [
    "## 5.(E) Modelimin Training Loss ve Validation Loss , Training Accuracy ve Validation Accuracy grafiğini çizdiriyorum. Grafiğe baktığımda overfitting durumunun 11. epochdan sonra olduğunu tespit ettim."
   ]
  },
  {
   "cell_type": "code",
   "execution_count": 24,
   "id": "288733df",
   "metadata": {
    "scrolled": true
   },
   "outputs": [
    {
     "data": {
      "image/png": "[encoded data removed]",
      "text/plain": [
       "<Figure size 640x480 with 1 Axes>"
      ]
     },
     "metadata": {},
     "output_type": "display_data"
    },
    {
     "data": {
      "image/png": "[encoded data removed]",
      "text/plain": [
       "<Figure size 640x480 with 1 Axes>"
      ]
     },
     "metadata": {},
     "output_type": "display_data"
    }
   ],
   "source": [
    "#Training acc,Validation acc, Training loss, Validation loss çizdirmek için\n",
    "\n",
    "acc = history.history['acc']\n",
    "val_acc = history.history['val_acc']\n",
    "loss = history.history['loss']\n",
    "val_loss = history.history['val_loss']\n",
    "\n",
    "epochs = range(1, len(acc) + 1)\n",
    "\n",
    "plt.plot(epochs, acc, 'bo', label='Training acc')\n",
    "plt.plot(epochs, val_acc, 'b', label='Validation acc')\n",
    "plt.title('Training and validation accuracy')\n",
    "plt.legend()\n",
    "\n",
    "plt.figure()\n",
    "\n",
    "plt.plot(epochs, loss, 'bo', label='Training loss')\n",
    "plt.plot(epochs, val_loss, 'b', label='Validation loss')\n",
    "plt.title('Training and validation loss')\n",
    "plt.legend()\n",
    "\n",
    "plt.show()"
   ]
  },
  {
   "cell_type": "markdown",
   "id": "ce0e2f74",
   "metadata": {},
   "source": [
    "## 6.(A) Train ve Validation verilerini bir araya getirebilmek için yeniden bir dosya açıp tüm train ve validation verilerimi dosyanın içerisine kopyaladım."
   ]
  },
  {
   "cell_type": "code",
   "execution_count": 52,
   "id": "5a971200",
   "metadata": {},
   "outputs": [],
   "source": [
    "#Train ve Validation verilerini birleştirebilmek için yeniden dosya dizinleri oluşturuyorum ve\n",
    "# verilerimi bunların içerisinde topluyorum.\n",
    "train_val_dir = r\"C:\\DeepLearning\\splits\\train_val_total\"\n",
    "os.mkdir(train_val_dir)\n",
    "\n",
    "train_val_buoy = os.path.join(train_val_dir, \"train_val_buoy\")\n",
    "os.mkdir(train_val_buoy)\n",
    "train_val_cruiseship = os.path.join(train_val_dir, \"train_val_cruiseship\")\n",
    "os.mkdir(train_val_cruiseship)\n",
    "train_val_ferryboat = os.path.join(train_val_dir, \"train_val_ferryboat\")\n",
    "os.mkdir(train_val_ferryboat)\n",
    "train_val_freightboat = os.path.join(train_val_dir, \"train_val_freightboat\")\n",
    "os.mkdir(train_val_freightboat)\n",
    "train_val_gondola = os.path.join(train_val_dir, \"train_val_gondola\")\n",
    "os.mkdir(train_val_gondola)\n",
    "train_val_inflatableboat = os.path.join(train_val_dir, \"train_val_inflatableboat\")\n",
    "os.mkdir(train_val_inflatableboat)\n",
    "train_val_kayak = os.path.join(train_val_dir, \"train_val_kayak\")\n",
    "os.mkdir(train_val_kayak)\n",
    "train_val_paperboat = os.path.join(train_val_dir, \"train_val_paperboat\")\n",
    "os.mkdir(train_val_paperboat)\n",
    "train_val_sailboat = os.path.join(train_val_dir, \"train_val_sailboat\")\n",
    "os.mkdir(train_val_sailboat)"
   ]
  },
  {
   "cell_type": "code",
   "execution_count": 53,
   "id": "06edb02c",
   "metadata": {
    "scrolled": true
   },
   "outputs": [],
   "source": [
    "#Train verilerini yeni oluşturduğum train_val_total dosyasına kopyalıyorum\n",
    "\n",
    "fnames = ['{}'.format(i) for i in os.listdir(train_buoy)]\n",
    "for fname in fnames:\n",
    "    src = os.path.join(train_buoy, fname)\n",
    "    dst = os.path.join(train_val_buoy, fname)\n",
    "    shutil.copyfile(src, dst)\n",
    "\n",
    "fnames = ['{}'.format(i) for i in os.listdir(train_cruiseship)]\n",
    "for fname in fnames:\n",
    "    src = os.path.join(train_cruiseship, fname)                                \n",
    "    dst = os.path.join(train_val_cruiseship, fname)\n",
    "    shutil.copyfile(src, dst)\n",
    "\n",
    "fnames = ['{}'.format(i) for i in os.listdir(train_ferryboat)]\n",
    "for fname in fnames:\n",
    "    src = os.path.join(train_ferryboat, fname)\n",
    "    dst = os.path.join(train_val_ferryboat, fname)\n",
    "    shutil.copyfile(src, dst)\n",
    "\n",
    "fnames = ['{}'.format(i) for i in os.listdir(train_freightboat)]\n",
    "for fname in fnames:\n",
    "    src = os.path.join(train_freightboat, fname)\n",
    "    dst = os.path.join(train_val_freightboat, fname)\n",
    "    shutil.copyfile(src, dst)\n",
    "\n",
    "fnames = ['{}'.format(i) for i in os.listdir(train_gondola)]\n",
    "for fname in fnames:\n",
    "    src = os.path.join(train_gondola, fname)\n",
    "    dst = os.path.join(train_val_gondola, fname)\n",
    "    shutil.copyfile(src, dst)\n",
    "\n",
    "fnames = ['{}'.format(i) for i in os.listdir(train_inflatableboat)]\n",
    "for fname in fnames:\n",
    "    src = os.path.join(train_inflatableboat, fname)\n",
    "    dst = os.path.join(train_val_inflatableboat, fname)\n",
    "    shutil.copyfile(src, dst)\n",
    "\n",
    "fnames = ['{}'.format(i) for i in os.listdir(train_kayak)]\n",
    "for fname in fnames:\n",
    "    src = os.path.join(train_kayak, fname)\n",
    "    dst = os.path.join(train_val_kayak, fname)\n",
    "    shutil.copyfile(src, dst)\n",
    "\n",
    "fnames = ['{}'.format(i) for i in os.listdir(train_paperboat)]\n",
    "for fname in fnames:\n",
    "    src = os.path.join(train_paperboat, fname)\n",
    "    dst = os.path.join(train_val_paperboat, fname)\n",
    "    shutil.copyfile(src, dst)\n",
    "\n",
    "fnames = ['{}'.format(i) for i in os.listdir(train_sailboat)]\n",
    "for fname in fnames:\n",
    "    src = os.path.join(train_sailboat, fname)\n",
    "    dst = os.path.join(train_val_sailboat, fname)\n",
    "    shutil.copyfile(src, dst)"
   ]
  },
  {
   "cell_type": "code",
   "execution_count": 54,
   "id": "745efc5a",
   "metadata": {},
   "outputs": [],
   "source": [
    "#Validation değerlerini oluşturduğum yeni train_val_total klasörüne kopyalıyorum\n",
    "\n",
    "fnames = ['{}'.format(i) for i in os.listdir(val_buoy)]\n",
    "for fname in fnames:\n",
    "    src = os.path.join(val_buoy, fname)\n",
    "    dst = os.path.join(train_val_buoy, fname)\n",
    "    shutil.copyfile(src, dst)\n",
    "\n",
    "fnames = ['{}'.format(i) for i in os.listdir(val_cruiseship)]\n",
    "for fname in fnames:\n",
    "    src = os.path.join(val_cruiseship, fname)                                \n",
    "    dst = os.path.join(train_val_cruiseship, fname)\n",
    "    shutil.copyfile(src, dst)\n",
    "\n",
    "fnames = ['{}'.format(i) for i in os.listdir(val_ferryboat)]\n",
    "for fname in fnames:\n",
    "    src = os.path.join(val_ferryboat, fname)\n",
    "    dst = os.path.join(train_val_ferryboat, fname)\n",
    "    shutil.copyfile(src, dst)\n",
    "\n",
    "fnames = ['{}'.format(i) for i in os.listdir(val_freightboat)]\n",
    "for fname in fnames:\n",
    "    src = os.path.join(val_freightboat, fname)\n",
    "    dst = os.path.join(train_val_freightboat, fname)\n",
    "    shutil.copyfile(src, dst)\n",
    "\n",
    "fnames = ['{}'.format(i) for i in os.listdir(val_gondola)]\n",
    "for fname in fnames:\n",
    "    src = os.path.join(val_gondola, fname)\n",
    "    dst = os.path.join(train_val_gondola, fname)\n",
    "    shutil.copyfile(src, dst)\n",
    "\n",
    "fnames = ['{}'.format(i) for i in os.listdir(val_inflatableboat)]\n",
    "for fname in fnames:\n",
    "    src = os.path.join(val_inflatableboat, fname)\n",
    "    dst = os.path.join(train_val_inflatableboat, fname)\n",
    "    shutil.copyfile(src, dst)\n",
    "\n",
    "fnames = ['{}'.format(i) for i in os.listdir(val_kayak)]\n",
    "for fname in fnames:\n",
    "    src = os.path.join(val_kayak, fname)\n",
    "    dst = os.path.join(train_val_kayak, fname)\n",
    "    shutil.copyfile(src, dst)\n",
    "\n",
    "fnames = ['{}'.format(i) for i in os.listdir(val_paperboat)]\n",
    "for fname in fnames:\n",
    "    src = os.path.join(val_paperboat, fname)\n",
    "    dst = os.path.join(train_val_paperboat, fname)\n",
    "    shutil.copyfile(src, dst)\n",
    "\n",
    "fnames = ['{}'.format(i) for i in os.listdir(val_sailboat)]\n",
    "for fname in fnames:\n",
    "    src = os.path.join(val_sailboat, fname)\n",
    "    dst = os.path.join(train_val_sailboat, fname)\n",
    "    shutil.copyfile(src, dst)"
   ]
  },
  {
   "cell_type": "markdown",
   "id": "a577f34d",
   "metadata": {},
   "source": [
    "## 6.(B) Tekrardan dosyamın boyutunu düzenleyip modelimi eğitiyorum."
   ]
  },
  {
   "cell_type": "code",
   "execution_count": 65,
   "id": "12d4ca43",
   "metadata": {},
   "outputs": [
    {
     "name": "stdout",
     "output_type": "stream",
     "text": [
      "Found 1180 images belonging to 9 classes.\n"
     ]
    }
   ],
   "source": [
    "#Tekrardan verileri generatorden geçiriyorum\n",
    "train_datagen = ImageDataGenerator(rescale=1./255)\n",
    "train_val_generator = train_datagen.flow_from_directory(\n",
    "        train_val_dir,\n",
    "        target_size=(150,150),\n",
    "        batch_size=20,\n",
    "        class_mode='categorical')"
   ]
  },
  {
   "cell_type": "code",
   "execution_count": 66,
   "id": "68f46a78",
   "metadata": {},
   "outputs": [],
   "source": [
    "#Modelimizi derliyoruz\n",
    "model.compile(loss='categorical_crossentropy',\n",
    "              optimizer=optimizers.Adam(learning_rate=0.001),\n",
    "              metrics=['acc'])"
   ]
  },
  {
   "cell_type": "code",
   "execution_count": 70,
   "id": "d6274732",
   "metadata": {
    "scrolled": true
   },
   "outputs": [
    {
     "name": "stdout",
     "output_type": "stream",
     "text": [
      "Epoch 1/25\n",
      "20/20 [==============================] - 7s 356ms/step - loss: 0.3378 - acc: 0.8975\n",
      "Epoch 2/25\n",
      "20/20 [==============================] - 7s 343ms/step - loss: 0.3337 - acc: 0.8775\n",
      "Epoch 3/25\n",
      "20/20 [==============================] - 7s 353ms/step - loss: 0.2898 - acc: 0.9050\n",
      "Epoch 4/25\n",
      "20/20 [==============================] - 7s 352ms/step - loss: 0.1900 - acc: 0.9375\n",
      "Epoch 5/25\n",
      "20/20 [==============================] - 8s 379ms/step - loss: 0.2176 - acc: 0.9175\n",
      "Epoch 6/25\n",
      "20/20 [==============================] - 8s 379ms/step - loss: 0.1804 - acc: 0.9400\n",
      "Epoch 7/25\n",
      "20/20 [==============================] - 8s 378ms/step - loss: 0.1578 - acc: 0.9575\n",
      "Epoch 8/25\n",
      "20/20 [==============================] - 8s 379ms/step - loss: 0.1851 - acc: 0.9325\n",
      "Epoch 9/25\n",
      "20/20 [==============================] - 8s 382ms/step - loss: 0.1811 - acc: 0.9300\n",
      "Epoch 10/25\n",
      "20/20 [==============================] - 8s 386ms/step - loss: 0.2337 - acc: 0.9350\n",
      "Epoch 11/25\n",
      "20/20 [==============================] - 8s 386ms/step - loss: 0.1846 - acc: 0.9400\n",
      "Epoch 12/25\n",
      "20/20 [==============================] - 8s 387ms/step - loss: 0.1165 - acc: 0.9575\n",
      "Epoch 13/25\n",
      "20/20 [==============================] - 8s 387ms/step - loss: 0.1080 - acc: 0.9575\n",
      "Epoch 14/25\n",
      "20/20 [==============================] - 8s 391ms/step - loss: 0.0660 - acc: 0.9850\n",
      "Epoch 15/25\n",
      "20/20 [==============================] - 8s 391ms/step - loss: 0.0896 - acc: 0.9725\n",
      "Epoch 16/25\n",
      "20/20 [==============================] - 8s 398ms/step - loss: 0.0443 - acc: 0.9875\n",
      "Epoch 17/25\n",
      "20/20 [==============================] - 8s 396ms/step - loss: 0.0387 - acc: 0.9925\n",
      "Epoch 18/25\n",
      "20/20 [==============================] - 8s 394ms/step - loss: 0.0850 - acc: 0.9800\n",
      "Epoch 19/25\n",
      "20/20 [==============================] - 8s 395ms/step - loss: 0.0284 - acc: 0.9850\n",
      "Epoch 20/25\n",
      "20/20 [==============================] - 8s 409ms/step - loss: 0.0131 - acc: 0.9975\n",
      "Epoch 21/25\n",
      "20/20 [==============================] - 8s 386ms/step - loss: 0.0186 - acc: 0.9925\n",
      "Epoch 22/25\n",
      "20/20 [==============================] - 8s 393ms/step - loss: 0.0156 - acc: 0.9950\n",
      "Epoch 23/25\n",
      "20/20 [==============================] - 8s 371ms/step - loss: 0.0202 - acc: 0.9950\n",
      "Epoch 24/25\n",
      "20/20 [==============================] - 8s 397ms/step - loss: 0.0202 - acc: 0.9975\n",
      "Epoch 25/25\n",
      "20/20 [==============================] - 8s 374ms/step - loss: 0.0265 - acc: 0.9925\n"
     ]
    }
   ],
   "source": [
    "history = model.fit(\n",
    "    train_val_generator,\n",
    "    steps_per_epoch=20,\n",
    "    epochs=25)"
   ]
  },
  {
   "cell_type": "markdown",
   "id": "af1f02b3",
   "metadata": {},
   "source": [
    "## 7. Modelimin test verileri üzerindeki performansını gözlemledim."
   ]
  },
  {
   "cell_type": "code",
   "execution_count": 71,
   "id": "6168b93e",
   "metadata": {},
   "outputs": [
    {
     "name": "stdout",
     "output_type": "stream",
     "text": [
      "Found 262 images belonging to 9 classes.\n"
     ]
    }
   ],
   "source": [
    "#Test verilerini generatör işleminden geçiriyorum\n",
    "test_datagen = ImageDataGenerator(rescale=1./255)\n",
    "test_generator = test_datagen.flow_from_directory(\n",
    "        test_dir,\n",
    "        target_size=(150,150),\n",
    "        batch_size=20,\n",
    "        class_mode='categorical')"
   ]
  },
  {
   "cell_type": "code",
   "execution_count": 72,
   "id": "8e106dea",
   "metadata": {},
   "outputs": [
    {
     "name": "stdout",
     "output_type": "stream",
     "text": [
      "14/14 [==============================] - 5s 327ms/step - loss: 3.8677 - acc: 0.5153\n",
      "0.5152671933174133\n"
     ]
    }
   ],
   "source": [
    "#Test verilerinin performansını deniyorum\n",
    "test_loss,test_acc=model.evaluate(test_generator)\n",
    "print(test_acc)"
   ]
  },
  {
   "cell_type": "markdown",
   "id": "343002e5",
   "metadata": {},
   "source": [
    "## 8.(A) Modelimde oluşan overfitting durumunu giderebilmek için modelime Dropout ekledim. Ardından modelimi tekrar eğitip grafiklerini çizdirdim."
   ]
  },
  {
   "cell_type": "code",
   "execution_count": 73,
   "id": "d84b5af1",
   "metadata": {},
   "outputs": [],
   "source": [
    "#Overfitting gidermek için modelime DropOut ekliyorum\n",
    "\n",
    "model = models.Sequential()\n",
    "model.add(layers.Conv2D(32, (3, 3), activation='relu',\n",
    "                        input_shape=(150, 150, 3)))\n",
    "model.add(layers.MaxPooling2D((2, 2)))\n",
    "model.add(layers.Conv2D(64, (3, 3), activation='relu'))\n",
    "model.add(layers.MaxPooling2D((2,2)))\n",
    "model.add(layers.Conv2D(128, (3, 3), activation='relu'))\n",
    "model.add(layers.MaxPooling2D((2,2)))\n",
    "model.add(layers.Conv2D(128, (3, 3), activation='relu'))\n",
    "model.add(layers.MaxPooling2D((2,2)))\n",
    "model.add(layers.Flatten())\n",
    "model.add(layers.Dropout(0.5))\n",
    "model.add(layers.Dense(512, activation='relu'))\n",
    "model.add(layers.Dense(9, activation='softmax'))\n",
    "\n",
    "model.compile(loss='categorical_crossentropy',\n",
    "              optimizer=optimizers.Adam(learning_rate=0.001),\n",
    "              metrics=['acc'])"
   ]
  },
  {
   "cell_type": "code",
   "execution_count": 80,
   "id": "6c3c972c",
   "metadata": {
    "scrolled": false
   },
   "outputs": [
    {
     "name": "stdout",
     "output_type": "stream",
     "text": [
      "Found 900 images belonging to 9 classes.\n",
      "Found 280 images belonging to 9 classes.\n"
     ]
    },
    {
     "name": "stderr",
     "output_type": "stream",
     "text": [
      "C:\\Users\\ALPEREN\\AppData\\Local\\Temp\\ipykernel_19436\\2751355377.py:19: UserWarning: `Model.fit_generator` is deprecated and will be removed in a future version. Please use `Model.fit`, which supports generators.\n",
      "  history = model.fit_generator(\n"
     ]
    },
    {
     "name": "stdout",
     "output_type": "stream",
     "text": [
      "Epoch 1/50\n",
      "20/20 [==============================] - 11s 551ms/step - loss: 0.8521 - acc: 0.7025 - val_loss: 2.1464 - val_acc: 0.4400\n",
      "Epoch 2/50\n",
      "20/20 [==============================] - 12s 602ms/step - loss: 1.0170 - acc: 0.6700 - val_loss: 1.9546 - val_acc: 0.4600\n",
      "Epoch 3/50\n",
      "20/20 [==============================] - 11s 563ms/step - loss: 0.8990 - acc: 0.6825 - val_loss: 2.4771 - val_acc: 0.4300\n",
      "Epoch 4/50\n",
      "20/20 [==============================] - 11s 566ms/step - loss: 0.8780 - acc: 0.7100 - val_loss: 2.3588 - val_acc: 0.4450\n",
      "Epoch 5/50\n",
      "20/20 [==============================] - 12s 577ms/step - loss: 0.8886 - acc: 0.7325 - val_loss: 2.2093 - val_acc: 0.4150\n",
      "Epoch 6/50\n",
      "20/20 [==============================] - 11s 554ms/step - loss: 0.8152 - acc: 0.7200 - val_loss: 2.2539 - val_acc: 0.3600\n",
      "Epoch 7/50\n",
      "20/20 [==============================] - 10s 506ms/step - loss: 0.6955 - acc: 0.7725 - val_loss: 2.5376 - val_acc: 0.4100\n",
      "Epoch 8/50\n",
      "20/20 [==============================] - 10s 483ms/step - loss: 0.7295 - acc: 0.7675 - val_loss: 2.2718 - val_acc: 0.4200\n",
      "Epoch 9/50\n",
      "20/20 [==============================] - 10s 510ms/step - loss: 0.7047 - acc: 0.7525 - val_loss: 2.2792 - val_acc: 0.3600\n",
      "Epoch 10/50\n",
      "20/20 [==============================] - 11s 542ms/step - loss: 0.5605 - acc: 0.7950 - val_loss: 2.1019 - val_acc: 0.4700\n",
      "Epoch 11/50\n",
      "20/20 [==============================] - 10s 515ms/step - loss: 0.6549 - acc: 0.8000 - val_loss: 2.1326 - val_acc: 0.4800\n",
      "Epoch 12/50\n",
      "20/20 [==============================] - 12s 611ms/step - loss: 0.4796 - acc: 0.8325 - val_loss: 2.2795 - val_acc: 0.4250\n",
      "Epoch 13/50\n",
      "20/20 [==============================] - 10s 505ms/step - loss: 0.4676 - acc: 0.8150 - val_loss: 2.3311 - val_acc: 0.4050\n",
      "Epoch 14/50\n",
      "20/20 [==============================] - 11s 545ms/step - loss: 0.4342 - acc: 0.8400 - val_loss: 2.2342 - val_acc: 0.4800\n",
      "Epoch 15/50\n",
      "20/20 [==============================] - 12s 583ms/step - loss: 0.3068 - acc: 0.8975 - val_loss: 2.7081 - val_acc: 0.4200\n",
      "Epoch 16/50\n",
      "20/20 [==============================] - 12s 578ms/step - loss: 0.3481 - acc: 0.8825 - val_loss: 2.6054 - val_acc: 0.4650\n",
      "Epoch 17/50\n",
      "20/20 [==============================] - 11s 560ms/step - loss: 0.3100 - acc: 0.9025 - val_loss: 3.1853 - val_acc: 0.3950\n",
      "Epoch 18/50\n",
      "20/20 [==============================] - 10s 491ms/step - loss: 0.3100 - acc: 0.9050 - val_loss: 3.3324 - val_acc: 0.3850\n",
      "Epoch 19/50\n",
      "20/20 [==============================] - 10s 489ms/step - loss: 0.2188 - acc: 0.9275 - val_loss: 3.2556 - val_acc: 0.4900\n",
      "Epoch 20/50\n",
      "20/20 [==============================] - 11s 570ms/step - loss: 0.2136 - acc: 0.9325 - val_loss: 3.3800 - val_acc: 0.4850\n",
      "Epoch 21/50\n",
      "20/20 [==============================] - 11s 571ms/step - loss: 0.2764 - acc: 0.9050 - val_loss: 2.7513 - val_acc: 0.4500\n",
      "Epoch 22/50\n",
      "20/20 [==============================] - 11s 565ms/step - loss: 0.3998 - acc: 0.9000 - val_loss: 3.9510 - val_acc: 0.3700\n",
      "Epoch 23/50\n",
      "20/20 [==============================] - 10s 486ms/step - loss: 0.2266 - acc: 0.9200 - val_loss: 3.0109 - val_acc: 0.4100\n",
      "Epoch 24/50\n",
      "20/20 [==============================] - 10s 517ms/step - loss: 0.1865 - acc: 0.9275 - val_loss: 3.0035 - val_acc: 0.4550\n",
      "Epoch 25/50\n",
      "20/20 [==============================] - 11s 573ms/step - loss: 0.2372 - acc: 0.9300 - val_loss: 2.8890 - val_acc: 0.4450\n",
      "Epoch 26/50\n",
      "20/20 [==============================] - 11s 558ms/step - loss: 0.1602 - acc: 0.9550 - val_loss: 3.6908 - val_acc: 0.4150\n",
      "Epoch 27/50\n",
      "20/20 [==============================] - 10s 522ms/step - loss: 0.2114 - acc: 0.9300 - val_loss: 3.5974 - val_acc: 0.4050\n",
      "Epoch 28/50\n",
      "20/20 [==============================] - 10s 481ms/step - loss: 0.1632 - acc: 0.9475 - val_loss: 3.7619 - val_acc: 0.5000\n",
      "Epoch 29/50\n",
      "20/20 [==============================] - 10s 483ms/step - loss: 0.1653 - acc: 0.9375 - val_loss: 3.4029 - val_acc: 0.4500\n",
      "Epoch 30/50\n",
      "20/20 [==============================] - 10s 487ms/step - loss: 0.0729 - acc: 0.9800 - val_loss: 3.8353 - val_acc: 0.4450\n",
      "Epoch 31/50\n",
      "20/20 [==============================] - 9s 475ms/step - loss: 0.1580 - acc: 0.9500 - val_loss: 3.5613 - val_acc: 0.4250\n",
      "Epoch 32/50\n",
      "20/20 [==============================] - 10s 478ms/step - loss: 0.1443 - acc: 0.9550 - val_loss: 4.0346 - val_acc: 0.4550\n",
      "Epoch 33/50\n",
      "20/20 [==============================] - 10s 480ms/step - loss: 0.1053 - acc: 0.9725 - val_loss: 3.9897 - val_acc: 0.4600\n",
      "Epoch 34/50\n",
      "20/20 [==============================] - 9s 471ms/step - loss: 0.1264 - acc: 0.9600 - val_loss: 3.6104 - val_acc: 0.4650\n",
      "Epoch 35/50\n",
      "20/20 [==============================] - 9s 473ms/step - loss: 0.0988 - acc: 0.9725 - val_loss: 3.9421 - val_acc: 0.4800\n",
      "Epoch 36/50\n",
      "20/20 [==============================] - 9s 473ms/step - loss: 0.1073 - acc: 0.9575 - val_loss: 3.7915 - val_acc: 0.5050\n",
      "Epoch 37/50\n",
      "20/20 [==============================] - 9s 476ms/step - loss: 0.0892 - acc: 0.9675 - val_loss: 3.5234 - val_acc: 0.4900\n",
      "Epoch 38/50\n",
      "20/20 [==============================] - 10s 478ms/step - loss: 0.0489 - acc: 0.9850 - val_loss: 4.1216 - val_acc: 0.4700\n",
      "Epoch 39/50\n",
      "20/20 [==============================] - 10s 506ms/step - loss: 0.0509 - acc: 0.9850 - val_loss: 4.0411 - val_acc: 0.5050\n",
      "Epoch 40/50\n",
      "20/20 [==============================] - 12s 625ms/step - loss: 0.0690 - acc: 0.9850 - val_loss: 4.3123 - val_acc: 0.4300\n",
      "Epoch 41/50\n",
      "20/20 [==============================] - 12s 592ms/step - loss: 0.0798 - acc: 0.9800 - val_loss: 3.7529 - val_acc: 0.4700\n",
      "Epoch 42/50\n",
      "20/20 [==============================] - 12s 582ms/step - loss: 0.0596 - acc: 0.9825 - val_loss: 4.2557 - val_acc: 0.5150\n",
      "Epoch 43/50\n",
      "20/20 [==============================] - 11s 544ms/step - loss: 0.0623 - acc: 0.9850 - val_loss: 5.0012 - val_acc: 0.4650\n",
      "Epoch 44/50\n",
      "20/20 [==============================] - 11s 546ms/step - loss: 0.0478 - acc: 0.9825 - val_loss: 4.0825 - val_acc: 0.4750\n",
      "Epoch 45/50\n",
      "20/20 [==============================] - 10s 509ms/step - loss: 0.0382 - acc: 0.9925 - val_loss: 3.9686 - val_acc: 0.4700\n",
      "Epoch 46/50\n",
      "20/20 [==============================] - 11s 549ms/step - loss: 0.1665 - acc: 0.9650 - val_loss: 4.0580 - val_acc: 0.5050\n",
      "Epoch 47/50\n",
      "20/20 [==============================] - 10s 497ms/step - loss: 0.0547 - acc: 0.9800 - val_loss: 3.3547 - val_acc: 0.4900\n",
      "Epoch 48/50\n",
      "20/20 [==============================] - 10s 477ms/step - loss: 0.1603 - acc: 0.9600 - val_loss: 4.8822 - val_acc: 0.4150\n",
      "Epoch 49/50\n",
      "20/20 [==============================] - 10s 487ms/step - loss: 0.0898 - acc: 0.9750 - val_loss: 4.5552 - val_acc: 0.4950\n",
      "Epoch 50/50\n",
      "20/20 [==============================] - 11s 549ms/step - loss: 0.1118 - acc: 0.9675 - val_loss: 4.3801 - val_acc: 0.4450\n"
     ]
    }
   ],
   "source": [
    "#Overfitting gidermek için augmentation işlemi uyguluyorum\n",
    "#Augmentation işlemi\n",
    "\n",
    "train_datagen = ImageDataGenerator(1./255)\n",
    "test_datagen = ImageDataGenerator(1./255)\n",
    "\n",
    "trains_generator = train_datagen.flow_from_directory(\n",
    "    train_dir,\n",
    "    target_size=(150, 150),\n",
    "    batch_size=20,\n",
    "    class_mode='categorical'\n",
    ")\n",
    "validation_generator = test_datagen.flow_from_directory(\n",
    "    validation_dir,\n",
    "    target_size=(150, 150),\n",
    "    batch_size=20,\n",
    "    class_mode='categorical'\n",
    ")\n",
    "history = model.fit_generator(\n",
    "    trains_generator,\n",
    "    steps_per_epoch=20,\n",
    "    epochs=50,\n",
    "    validation_data=validation_generator,\n",
    "    validation_steps=10)\n"
   ]
  },
  {
   "cell_type": "markdown",
   "id": "64173d10",
   "metadata": {},
   "source": [
    "## 8.(B) Modelimin grafiğini çizdirdiğimde accuracy değerlerinin %96-%97 olduğunu gözlemledim ve overfitting durumunun kalkmış olduğunu gördüm."
   ]
  },
  {
   "cell_type": "code",
   "execution_count": 81,
   "id": "f05012d7",
   "metadata": {},
   "outputs": [
    {
     "data": {
      "image/png": "[encoded data removed]",
      "text/plain": [
       "<Figure size 640x480 with 1 Axes>"
      ]
     },
     "metadata": {},
     "output_type": "display_data"
    },
    {
     "data": {
      "image/png": "[encoded data removed]",
      "text/plain": [
       "<Figure size 640x480 with 1 Axes>"
      ]
     },
     "metadata": {},
     "output_type": "display_data"
    }
   ],
   "source": [
    "acc = history.history['acc']\n",
    "val_acc = history.history['val_acc']\n",
    "loss = history.history['loss']\n",
    "val_loss = history.history['val_loss']\n",
    "\n",
    "epochs = range(1, len(acc) + 1)\n",
    "\n",
    "plt.plot(epochs, acc, 'bo', label='Training acc')\n",
    "plt.plot(epochs, val_acc, 'b', label='Validation acc')\n",
    "plt.title('Training and validation accuracy')\n",
    "plt.legend()\n",
    "\n",
    "plt.figure()\n",
    "\n",
    "plt.plot(epochs, loss, 'bo', label='Training loss')\n",
    "plt.plot(epochs, val_loss, 'b', label='Validation loss')\n",
    "plt.title('Training and validation loss')\n",
    "plt.legend()\n",
    "\n",
    "plt.show()"
   ]
  },
  {
   "cell_type": "code",
   "execution_count": 82,
   "id": "2c08455e",
   "metadata": {
    "scrolled": true
   },
   "outputs": [
    {
     "name": "stderr",
     "output_type": "stream",
     "text": [
      "WARNING:absl:Found untraced functions such as _jit_compiled_convolution_op, _jit_compiled_convolution_op, _jit_compiled_convolution_op, _jit_compiled_convolution_op while saving (showing 4 of 4). These functions will not be directly callable after loading.\n"
     ]
    },
    {
     "name": "stdout",
     "output_type": "stream",
     "text": [
      "INFO:tensorflow:Assets written to: C:/DeepLearning/overfitting_boats\\assets\n"
     ]
    },
    {
     "name": "stderr",
     "output_type": "stream",
     "text": [
      "INFO:tensorflow:Assets written to: C:/DeepLearning/overfitting_boats\\assets\n"
     ]
    }
   ],
   "source": [
    "#Modelimi kaydediyorum\n",
    "model.save('C:/DeepLearning/overfitting_boats')"
   ]
  },
  {
   "cell_type": "markdown",
   "id": "3a46bae8",
   "metadata": {},
   "source": [
    "## 8.(C) Dropout eklediğim modelimin test verileri üzerindeki performansını gözlemledim."
   ]
  },
  {
   "cell_type": "code",
   "execution_count": 85,
   "id": "e7a990a3",
   "metadata": {},
   "outputs": [
    {
     "name": "stdout",
     "output_type": "stream",
     "text": [
      "Found 262 images belonging to 9 classes.\n",
      "10/10 [==============================] - 3s 256ms/step - loss: 1.9718 - acc: 0.3550\n",
      "0.35499998927116394\n"
     ]
    }
   ],
   "source": [
    "test_datagen = ImageDataGenerator(rescale=1./255)\n",
    "test_generator = test_datagen.flow_from_directory(\n",
    "        test_dir,\n",
    "        target_size=(150,150),\n",
    "        batch_size=20,\n",
    "        class_mode='categorical')\n",
    "#Test verilerinin performansını deniyorum\n",
    "test_loss,test_acc=model.evaluate(test_generator, steps=10)\n",
    "print(test_acc)"
   ]
  },
  {
   "cell_type": "markdown",
   "id": "32c95396",
   "metadata": {},
   "source": [
    "## 9.(A) Imagenet üzerinde eğitilmiş VGG16 ağını projeme dahil ettim ve konvolüsyonel tabanını (convbase) aldım."
   ]
  },
  {
   "cell_type": "code",
   "execution_count": 41,
   "id": "b3f1a081",
   "metadata": {
    "scrolled": true
   },
   "outputs": [
    {
     "name": "stdout",
     "output_type": "stream",
     "text": [
      "Model: \"vgg16\"\n",
      "_________________________________________________________________\n",
      " Layer (type)                Output Shape              Param #   \n",
      "=================================================================\n",
      " input_3 (InputLayer)        [(None, 150, 150, 3)]     0         \n",
      "                                                                 \n",
      " block1_conv1 (Conv2D)       (None, 150, 150, 64)      1792      \n",
      "                                                                 \n",
      " block1_conv2 (Conv2D)       (None, 150, 150, 64)      36928     \n",
      "                                                                 \n",
      " block1_pool (MaxPooling2D)  (None, 75, 75, 64)        0         \n",
      "                                                                 \n",
      " block2_conv1 (Conv2D)       (None, 75, 75, 128)       73856     \n",
      "                                                                 \n",
      " block2_conv2 (Conv2D)       (None, 75, 75, 128)       147584    \n",
      "                                                                 \n",
      " block2_pool (MaxPooling2D)  (None, 37, 37, 128)       0         \n",
      "                                                                 \n",
      " block3_conv1 (Conv2D)       (None, 37, 37, 256)       295168    \n",
      "                                                                 \n",
      " block3_conv2 (Conv2D)       (None, 37, 37, 256)       590080    \n",
      "                                                                 \n",
      " block3_conv3 (Conv2D)       (None, 37, 37, 256)       590080    \n",
      "                                                                 \n",
      " block3_pool (MaxPooling2D)  (None, 18, 18, 256)       0         \n",
      "                                                                 \n",
      " block4_conv1 (Conv2D)       (None, 18, 18, 512)       1180160   \n",
      "                                                                 \n",
      " block4_conv2 (Conv2D)       (None, 18, 18, 512)       2359808   \n",
      "                                                                 \n",
      " block4_conv3 (Conv2D)       (None, 18, 18, 512)       2359808   \n",
      "                                                                 \n",
      " block4_pool (MaxPooling2D)  (None, 9, 9, 512)         0         \n",
      "                                                                 \n",
      " block5_conv1 (Conv2D)       (None, 9, 9, 512)         2359808   \n",
      "                                                                 \n",
      " block5_conv2 (Conv2D)       (None, 9, 9, 512)         2359808   \n",
      "                                                                 \n",
      " block5_conv3 (Conv2D)       (None, 9, 9, 512)         2359808   \n",
      "                                                                 \n",
      " block5_pool (MaxPooling2D)  (None, 4, 4, 512)         0         \n",
      "                                                                 \n",
      "=================================================================\n",
      "Total params: 14,714,688\n",
      "Trainable params: 14,714,688\n",
      "Non-trainable params: 0\n",
      "_________________________________________________________________\n"
     ]
    }
   ],
   "source": [
    "#VGG16\n",
    "from keras.applications import VGG16\n",
    "conv_base = VGG16(weights='imagenet',                       #Modeli imagenet üzerinde başlatıyorum       \n",
    "                 include_top=False,\n",
    "                 input_shape=(150, 150, 3))\n",
    "\n",
    "conv_base.summary()"
   ]
  },
  {
   "cell_type": "markdown",
   "id": "ced8d462",
   "metadata": {},
   "source": [
    "## 9.(B) Klasörlerimin içerisindeki veri sayısını gösterdiğim kısım."
   ]
  },
  {
   "cell_type": "code",
   "execution_count": 42,
   "id": "f1c99d28",
   "metadata": {},
   "outputs": [
    {
     "name": "stdout",
     "output_type": "stream",
     "text": [
      "13\n",
      "34\n",
      "11\n",
      "4\n",
      "42\n",
      "3\n",
      "49\n",
      "8\n",
      "98\n"
     ]
    }
   ],
   "source": [
    "print(len(os.listdir(r\"C:\\DeepLearning\\splits\\test\\buoy\")))\n",
    "print(len(os.listdir(r\"C:\\DeepLearning\\splits\\test\\cruise ship\")))\n",
    "print(len(os.listdir(r\"C:\\DeepLearning\\splits\\test\\ferry boat\")))\n",
    "print(len(os.listdir(r\"C:\\DeepLearning\\splits\\test\\freight boat\")))\n",
    "print(len(os.listdir(r\"C:\\DeepLearning\\splits\\test\\gondola\")))\n",
    "print(len(os.listdir(r\"C:\\DeepLearning\\splits\\test\\inflatable boat\")))\n",
    "print(len(os.listdir(r\"C:\\DeepLearning\\splits\\test\\kayak\")))\n",
    "print(len(os.listdir(r\"C:\\DeepLearning\\splits\\test\\paper boat\")))\n",
    "print(len(os.listdir(r\"C:\\DeepLearning\\splits\\test\\sail boat\")))"
   ]
  },
  {
   "cell_type": "markdown",
   "id": "b9a60185",
   "metadata": {},
   "source": [
    "## 9.(C) (None,None,None,None) boyutundan (None,None) boyutuna geçebilmek için bir fonksiyon ekledim."
   ]
  },
  {
   "cell_type": "code",
   "execution_count": 43,
   "id": "cdda5dbd",
   "metadata": {
    "scrolled": true
   },
   "outputs": [],
   "source": [
    "import numpy as np\n",
    "import os\n",
    "from keras.preprocessing.image import ImageDataGenerator\n",
    "\n",
    "datagen = ImageDataGenerator(rescale=1./255)\n",
    "batch_size = 100\n",
    "\n",
    "def extract_features(directory, sample_count):\n",
    "    features = np.zeros(shape=(sample_count, 4, 4, 512))\n",
    "    labels = np.zeros(shape=(sample_count,9))\n",
    "    \n",
    "    generator = datagen.flow_from_directory(\n",
    "        directory,\n",
    "        target_size=(150, 150),\n",
    "        batch_size= batch_size,\n",
    "        class_mode='categorical')\n",
    "    i=0\n",
    "    for inputs_batch, labels_batch in generator:\n",
    "        features_batch = conv_base.predict(inputs_batch)\n",
    "        features[i * batch_size : (i + 1) * batch_size] = features_batch\n",
    "        labels[i * batch_size : (i + 1) * batch_size] = labels_batch\n",
    "        i += 1\n",
    "        if i * batch_size >= sample_count:\n",
    "            break\n",
    "    return features, labels\n",
    "    \n",
    "    "
   ]
  },
  {
   "cell_type": "markdown",
   "id": "3f2dcd2f",
   "metadata": {},
   "source": [
    "## 9.(D) Dosyalarımın içerisinde bulunan  veri sayısını kontrol ettiğim kısım."
   ]
  },
  {
   "cell_type": "code",
   "execution_count": 44,
   "id": "1aabcf4a",
   "metadata": {
    "scrolled": true
   },
   "outputs": [
    {
     "name": "stdout",
     "output_type": "stream",
     "text": [
      "Found 900 images belonging to 9 classes.\n",
      "4/4 [==============================] - 3s 667ms/step\n",
      "4/4 [==============================] - 3s 794ms/step\n",
      "4/4 [==============================] - 3s 688ms/step\n",
      "4/4 [==============================] - 3s 688ms/step\n",
      "4/4 [==============================] - 4s 806ms/step\n",
      "4/4 [==============================] - 3s 758ms/step\n",
      "4/4 [==============================] - 3s 733ms/step\n",
      "4/4 [==============================] - 3s 816ms/step\n",
      "4/4 [==============================] - 3s 838ms/step\n",
      "Found 280 images belonging to 9 classes.\n",
      "4/4 [==============================] - 4s 937ms/step\n",
      "4/4 [==============================] - 3s 773ms/step\n",
      "3/3 [==============================] - 3s 811ms/step\n",
      "Found 262 images belonging to 9 classes.\n",
      "4/4 [==============================] - 3s 774ms/step\n",
      "4/4 [==============================] - 4s 917ms/step\n",
      "2/2 [==============================] - 3s 1s/step\n"
     ]
    }
   ],
   "source": [
    "train_features, train_labels = extract_features(train_dir, 900)\n",
    "validation_features, validation_labels = extract_features(validation_dir, 280)\n",
    "test_features, test_labels = extract_features(test_dir, 262)"
   ]
  },
  {
   "cell_type": "markdown",
   "id": "7691cba5",
   "metadata": {},
   "source": [
    "## 9.(E) Klasörlerimi yeniden boyutlandırdım ve öncelikle dropout eklenmiş CNN modelini gözlemlemek istedim."
   ]
  },
  {
   "cell_type": "code",
   "execution_count": 45,
   "id": "13564bf6",
   "metadata": {
    "scrolled": true
   },
   "outputs": [
    {
     "name": "stdout",
     "output_type": "stream",
     "text": [
      "Model: \"sequential_4\"\n",
      "_________________________________________________________________\n",
      " Layer (type)                Output Shape              Param #   \n",
      "=================================================================\n",
      " dense_8 (Dense)             (None, 256)               2097408   \n",
      "                                                                 \n",
      " dropout_3 (Dropout)         (None, 256)               0         \n",
      "                                                                 \n",
      " dense_9 (Dense)             (None, 9)                 2313      \n",
      "                                                                 \n",
      "=================================================================\n",
      "Total params: 2,099,721\n",
      "Trainable params: 2,099,721\n",
      "Non-trainable params: 0\n",
      "_________________________________________________________________\n",
      "Epoch 1/30\n",
      "45/45 [==============================] - 1s 15ms/step - loss: 1.5706 - acc: 0.4989 - val_loss: 1.2669 - val_acc: 0.6179\n",
      "Epoch 2/30\n",
      "45/45 [==============================] - 1s 12ms/step - loss: 1.1041 - acc: 0.6700 - val_loss: 1.1068 - val_acc: 0.6786\n",
      "Epoch 3/30\n",
      "45/45 [==============================] - 1s 12ms/step - loss: 0.9069 - acc: 0.7333 - val_loss: 1.0490 - val_acc: 0.6536\n",
      "Epoch 4/30\n",
      "45/45 [==============================] - 1s 13ms/step - loss: 0.7607 - acc: 0.7533 - val_loss: 1.0118 - val_acc: 0.6750\n",
      "Epoch 5/30\n",
      "45/45 [==============================] - 1s 13ms/step - loss: 0.6394 - acc: 0.8100 - val_loss: 0.9653 - val_acc: 0.7143\n",
      "Epoch 6/30\n",
      "45/45 [==============================] - 1s 12ms/step - loss: 0.5350 - acc: 0.8433 - val_loss: 0.9761 - val_acc: 0.7071\n",
      "Epoch 7/30\n",
      "45/45 [==============================] - 1s 12ms/step - loss: 0.4751 - acc: 0.8544 - val_loss: 0.9749 - val_acc: 0.7036\n",
      "Epoch 8/30\n",
      "45/45 [==============================] - 1s 12ms/step - loss: 0.4449 - acc: 0.8756 - val_loss: 1.0401 - val_acc: 0.6857\n",
      "Epoch 9/30\n",
      "45/45 [==============================] - 1s 13ms/step - loss: 0.3784 - acc: 0.8867 - val_loss: 0.9485 - val_acc: 0.7179\n",
      "Epoch 10/30\n",
      "45/45 [==============================] - 1s 12ms/step - loss: 0.3368 - acc: 0.9044 - val_loss: 0.9994 - val_acc: 0.7071\n",
      "Epoch 11/30\n",
      "45/45 [==============================] - 1s 13ms/step - loss: 0.2639 - acc: 0.9211 - val_loss: 1.0384 - val_acc: 0.7143\n",
      "Epoch 12/30\n",
      "45/45 [==============================] - 1s 13ms/step - loss: 0.2452 - acc: 0.9367 - val_loss: 1.0656 - val_acc: 0.6964\n",
      "Epoch 13/30\n",
      "45/45 [==============================] - 1s 12ms/step - loss: 0.2457 - acc: 0.9344 - val_loss: 0.9954 - val_acc: 0.7071\n",
      "Epoch 14/30\n",
      "45/45 [==============================] - 1s 12ms/step - loss: 0.1916 - acc: 0.9467 - val_loss: 1.0482 - val_acc: 0.7286\n",
      "Epoch 15/30\n",
      "45/45 [==============================] - 1s 13ms/step - loss: 0.1937 - acc: 0.9544 - val_loss: 1.0150 - val_acc: 0.7214\n",
      "Epoch 16/30\n",
      "45/45 [==============================] - 1s 13ms/step - loss: 0.1655 - acc: 0.9544 - val_loss: 1.1562 - val_acc: 0.7107\n",
      "Epoch 17/30\n",
      "45/45 [==============================] - 1s 12ms/step - loss: 0.1420 - acc: 0.9678 - val_loss: 1.0813 - val_acc: 0.7107\n",
      "Epoch 18/30\n",
      "45/45 [==============================] - 1s 13ms/step - loss: 0.1266 - acc: 0.9700 - val_loss: 1.0872 - val_acc: 0.7071\n",
      "Epoch 19/30\n",
      "45/45 [==============================] - 1s 12ms/step - loss: 0.1172 - acc: 0.9789 - val_loss: 1.1143 - val_acc: 0.7179\n",
      "Epoch 20/30\n",
      "45/45 [==============================] - 1s 14ms/step - loss: 0.1005 - acc: 0.9789 - val_loss: 1.0771 - val_acc: 0.7250\n",
      "Epoch 21/30\n",
      "45/45 [==============================] - 1s 12ms/step - loss: 0.0923 - acc: 0.9822 - val_loss: 1.1500 - val_acc: 0.7179\n",
      "Epoch 22/30\n",
      "45/45 [==============================] - 1s 13ms/step - loss: 0.0860 - acc: 0.9867 - val_loss: 1.1461 - val_acc: 0.7143\n",
      "Epoch 23/30\n",
      "45/45 [==============================] - 1s 12ms/step - loss: 0.0757 - acc: 0.9811 - val_loss: 1.1502 - val_acc: 0.7071\n",
      "Epoch 24/30\n",
      "45/45 [==============================] - 1s 13ms/step - loss: 0.0696 - acc: 0.9867 - val_loss: 1.1294 - val_acc: 0.7000\n",
      "Epoch 25/30\n",
      "45/45 [==============================] - 1s 13ms/step - loss: 0.0639 - acc: 0.9889 - val_loss: 1.3050 - val_acc: 0.7071\n",
      "Epoch 26/30\n",
      "45/45 [==============================] - 1s 12ms/step - loss: 0.0568 - acc: 0.9922 - val_loss: 1.3089 - val_acc: 0.7107\n",
      "Epoch 27/30\n",
      "45/45 [==============================] - 1s 12ms/step - loss: 0.0510 - acc: 0.9944 - val_loss: 1.2811 - val_acc: 0.7107\n",
      "Epoch 28/30\n",
      "45/45 [==============================] - 1s 12ms/step - loss: 0.0340 - acc: 0.9989 - val_loss: 1.2985 - val_acc: 0.7179\n",
      "Epoch 29/30\n",
      "45/45 [==============================] - 1s 12ms/step - loss: 0.0348 - acc: 0.9956 - val_loss: 1.2267 - val_acc: 0.7071\n",
      "Epoch 30/30\n",
      "45/45 [==============================] - 1s 12ms/step - loss: 0.0406 - acc: 0.9967 - val_loss: 1.2760 - val_acc: 0.7143\n"
     ]
    }
   ],
   "source": [
    "train_features = np.reshape(train_features, (900, 4*4* 512))\n",
    "validation_features = np.reshape(validation_features, (280, 4*4* 512))\n",
    "test_features = np.reshape(test_features, (262, 4*4* 512))\n",
    "\n",
    "from keras import models\n",
    "from keras import layers\n",
    "from keras import optimizers\n",
    "\n",
    "model = models.Sequential()\n",
    "model.add(layers.Dense(256, activation='relu', input_dim=4 * 4 * 512))\n",
    "model.add(layers.Dropout(0.5))\n",
    "model.add(layers.Dense(9, activation='softmax'))\n",
    "\n",
    "\n",
    "model.compile(loss='categorical_crossentropy',\n",
    "              optimizer= optimizers.RMSprop(1e-4),\n",
    "              metrics=['acc'])\n",
    "\n",
    "model.summary()\n",
    "history = model.fit(train_features, train_labels,\n",
    "                    epochs=30,\n",
    "                    batch_size=20,\n",
    "                    validation_data=(validation_features, validation_labels))"
   ]
  },
  {
   "cell_type": "markdown",
   "id": "fda66327",
   "metadata": {},
   "source": [
    "## 9.(F) Dropout eklenmiş CNN modelinin grafiğini çizdirdim."
   ]
  },
  {
   "cell_type": "code",
   "execution_count": 46,
   "id": "ef40e0e2",
   "metadata": {
    "scrolled": true
   },
   "outputs": [
    {
     "data": {
      "image/png": "[encoded data removed]",
      "text/plain": [
       "<Figure size 640x480 with 1 Axes>"
      ]
     },
     "metadata": {},
     "output_type": "display_data"
    },
    {
     "data": {
      "image/png": "[encoded data removed]",
      "text/plain": [
       "<Figure size 640x480 with 1 Axes>"
      ]
     },
     "metadata": {},
     "output_type": "display_data"
    }
   ],
   "source": [
    "import matplotlib.pyplot as plt\n",
    "\n",
    "acc = history.history['acc']\n",
    "val_acc = history.history['val_acc']\n",
    "loss = history.history['loss']\n",
    "val_loss = history.history['val_loss']\n",
    "epochs = range(1, len(acc) + 1)\n",
    "plt.plot(epochs, acc, 'bo', label='Training acc')\n",
    "plt.plot(epochs, val_acc, 'b', label='Validation acc')\n",
    "plt.title('Training and validation accuracy')\n",
    "plt.legend()\n",
    "plt.figure()\n",
    "plt.plot(epochs, loss, 'bo', label='Training loss')\n",
    "plt.plot(epochs, val_loss, 'b', label='Validation loss')\n",
    "plt.title('Training and validation loss')\n",
    "plt.legend()\n",
    "plt.show()\n"
   ]
  },
  {
   "cell_type": "markdown",
   "id": "077acd66",
   "metadata": {},
   "source": [
    "## 9.(G) Bu bölümde convbase üzerine kendi fully connected classifier modelimi ekledim."
   ]
  },
  {
   "cell_type": "code",
   "execution_count": 47,
   "id": "1fe8c36e",
   "metadata": {
    "scrolled": false
   },
   "outputs": [
    {
     "name": "stdout",
     "output_type": "stream",
     "text": [
      "Model: \"sequential_5\"\n",
      "_________________________________________________________________\n",
      " Layer (type)                Output Shape              Param #   \n",
      "=================================================================\n",
      " vgg16 (Functional)          (None, 4, 4, 512)         14714688  \n",
      "                                                                 \n",
      " flatten_1 (Flatten)         (None, 8192)              0         \n",
      "                                                                 \n",
      " dense_10 (Dense)            (None, 512)               4194816   \n",
      "                                                                 \n",
      " dense_11 (Dense)            (None, 9)                 4617      \n",
      "                                                                 \n",
      "=================================================================\n",
      "Total params: 18,914,121\n",
      "Trainable params: 18,914,121\n",
      "Non-trainable params: 0\n",
      "_________________________________________________________________\n"
     ]
    }
   ],
   "source": [
    "model = models.Sequential()\n",
    "model.add(conv_base)\n",
    "model.add(layers.Flatten()),\n",
    "model.add(layers.Dense(512,activation=\"relu\"))\n",
    "model.add(layers.Dense(9,activation=\"softmax\"))\n",
    "\n",
    "model.summary()\n"
   ]
  },
  {
   "cell_type": "markdown",
   "id": "fa9400b5",
   "metadata": {},
   "source": [
    "## 9.(H) Convbase tabanını dondurduğum kısım."
   ]
  },
  {
   "cell_type": "code",
   "execution_count": 48,
   "id": "9445aa16",
   "metadata": {},
   "outputs": [
    {
     "name": "stdout",
     "output_type": "stream",
     "text": [
      "30\n",
      "4\n"
     ]
    }
   ],
   "source": [
    "#CONVBASE Dondurmak için\n",
    "print(len(model.trainable_weights))\n",
    "conv_base.trainable=False\n",
    "print(len(model.trainable_weights))"
   ]
  },
  {
   "cell_type": "markdown",
   "id": "a8b1037e",
   "metadata": {},
   "source": [
    "## 9.(I) Ardından oluşturduğum modelimi eğittim."
   ]
  },
  {
   "cell_type": "code",
   "execution_count": 49,
   "id": "af525c7b",
   "metadata": {
    "scrolled": false
   },
   "outputs": [
    {
     "name": "stdout",
     "output_type": "stream",
     "text": [
      "Found 900 images belonging to 9 classes.\n",
      "Found 280 images belonging to 9 classes.\n"
     ]
    },
    {
     "name": "stderr",
     "output_type": "stream",
     "text": [
      "WARNING:absl:`lr` is deprecated, please use `learning_rate` instead, or use the legacy optimizer, e.g.,tf.keras.optimizers.legacy.RMSprop.\n",
      "C:\\Users\\ALPEREN\\AppData\\Local\\Temp\\ipykernel_18832\\443411093.py:24: UserWarning: `Model.fit_generator` is deprecated and will be removed in a future version. Please use `Model.fit`, which supports generators.\n",
      "  history = model.fit_generator(\n"
     ]
    },
    {
     "name": "stdout",
     "output_type": "stream",
     "text": [
      "Epoch 1/30\n",
      "20/20 [==============================] - 20s 994ms/step - loss: 3.5546 - acc: 0.4450 - val_loss: 2.1549 - val_acc: 0.4750\n",
      "Epoch 2/30\n",
      "20/20 [==============================] - 25s 1s/step - loss: 1.1542 - acc: 0.6475 - val_loss: 1.1622 - val_acc: 0.6050\n",
      "Epoch 3/30\n",
      "20/20 [==============================] - 24s 1s/step - loss: 0.7490 - acc: 0.7675 - val_loss: 1.4012 - val_acc: 0.6000\n",
      "Epoch 4/30\n",
      "20/20 [==============================] - 23s 1s/step - loss: 0.7933 - acc: 0.7700 - val_loss: 1.0535 - val_acc: 0.7300\n",
      "Epoch 5/30\n",
      "20/20 [==============================] - 23s 1s/step - loss: 0.6456 - acc: 0.8000 - val_loss: 1.8691 - val_acc: 0.5650\n",
      "Epoch 6/30\n",
      "20/20 [==============================] - 23s 1s/step - loss: 0.6087 - acc: 0.8050 - val_loss: 1.1136 - val_acc: 0.7050\n",
      "Epoch 7/30\n",
      "20/20 [==============================] - 23s 1s/step - loss: 0.3252 - acc: 0.8925 - val_loss: 2.0832 - val_acc: 0.5700\n",
      "Epoch 8/30\n",
      "20/20 [==============================] - 23s 1s/step - loss: 0.3708 - acc: 0.8700 - val_loss: 1.6447 - val_acc: 0.6150\n",
      "Epoch 9/30\n",
      "20/20 [==============================] - 22s 1s/step - loss: 0.3236 - acc: 0.8675 - val_loss: 1.1768 - val_acc: 0.7500\n",
      "Epoch 10/30\n",
      "20/20 [==============================] - 23s 1s/step - loss: 0.2929 - acc: 0.8950 - val_loss: 2.3201 - val_acc: 0.5400\n",
      "Epoch 11/30\n",
      "20/20 [==============================] - 23s 1s/step - loss: 0.3671 - acc: 0.8825 - val_loss: 1.0825 - val_acc: 0.7250\n",
      "Epoch 12/30\n",
      "20/20 [==============================] - 22s 1s/step - loss: 0.1776 - acc: 0.9475 - val_loss: 1.5576 - val_acc: 0.7200\n",
      "Epoch 13/30\n",
      "20/20 [==============================] - 23s 1s/step - loss: 0.1477 - acc: 0.9475 - val_loss: 1.5219 - val_acc: 0.6900\n",
      "Epoch 14/30\n",
      "20/20 [==============================] - 22s 1s/step - loss: 0.2157 - acc: 0.9225 - val_loss: 1.5607 - val_acc: 0.7000\n",
      "Epoch 15/30\n",
      "20/20 [==============================] - 22s 1s/step - loss: 0.1740 - acc: 0.9175 - val_loss: 2.4483 - val_acc: 0.5400\n",
      "Epoch 16/30\n",
      "20/20 [==============================] - 23s 1s/step - loss: 0.0903 - acc: 0.9675 - val_loss: 1.5941 - val_acc: 0.6900\n",
      "Epoch 17/30\n",
      "20/20 [==============================] - 22s 1s/step - loss: 0.1621 - acc: 0.9525 - val_loss: 1.3935 - val_acc: 0.7400\n",
      "Epoch 18/30\n",
      "20/20 [==============================] - 22s 1s/step - loss: 0.2062 - acc: 0.9450 - val_loss: 1.2325 - val_acc: 0.7100\n",
      "Epoch 19/30\n",
      "20/20 [==============================] - 23s 1s/step - loss: 0.0335 - acc: 0.9875 - val_loss: 1.3700 - val_acc: 0.7200\n",
      "Epoch 20/30\n",
      "20/20 [==============================] - 22s 1s/step - loss: 0.0849 - acc: 0.9700 - val_loss: 1.3517 - val_acc: 0.7300\n",
      "Epoch 21/30\n",
      "20/20 [==============================] - 22s 1s/step - loss: 0.1318 - acc: 0.9625 - val_loss: 1.3333 - val_acc: 0.6850\n",
      "Epoch 22/30\n",
      "20/20 [==============================] - 23s 1s/step - loss: 0.0125 - acc: 1.0000 - val_loss: 1.5319 - val_acc: 0.7050\n",
      "Epoch 23/30\n",
      "20/20 [==============================] - 24s 1s/step - loss: 0.1099 - acc: 0.9650 - val_loss: 2.4526 - val_acc: 0.6400\n",
      "Epoch 24/30\n",
      "20/20 [==============================] - 24s 1s/step - loss: 0.0112 - acc: 1.0000 - val_loss: 1.6936 - val_acc: 0.7200\n",
      "Epoch 25/30\n",
      "20/20 [==============================] - 23s 1s/step - loss: 0.1373 - acc: 0.9500 - val_loss: 1.4301 - val_acc: 0.7150\n",
      "Epoch 26/30\n",
      "20/20 [==============================] - 24s 1s/step - loss: 0.0191 - acc: 0.9900 - val_loss: 1.8954 - val_acc: 0.7100\n",
      "Epoch 27/30\n",
      "20/20 [==============================] - 24s 1s/step - loss: 0.0568 - acc: 0.9800 - val_loss: 2.1485 - val_acc: 0.5600\n",
      "Epoch 28/30\n",
      "20/20 [==============================] - 24s 1s/step - loss: 0.0628 - acc: 0.9850 - val_loss: 1.5211 - val_acc: 0.7500\n",
      "Epoch 29/30\n",
      "20/20 [==============================] - 25s 1s/step - loss: 0.0061 - acc: 1.0000 - val_loss: 2.1566 - val_acc: 0.6900\n",
      "Epoch 30/30\n",
      "20/20 [==============================] - 25s 1s/step - loss: 0.1595 - acc: 0.9525 - val_loss: 1.7871 - val_acc: 0.7000\n"
     ]
    }
   ],
   "source": [
    "from keras.preprocessing.image import ImageDataGenerator\n",
    "from keras import optimizers\n",
    "from tensorflow.keras.optimizers import RMSprop\n",
    "\n",
    "train_datagen = ImageDataGenerator(rescale=1./255)\n",
    "test_datagen = ImageDataGenerator(rescale=1./255)\n",
    "\n",
    "train_generator = train_datagen.flow_from_directory(\n",
    "                  train_dir,\n",
    "                  target_size=(150,150),\n",
    "                  batch_size=20,\n",
    "                  class_mode='categorical')\n",
    "\n",
    "validation_generator = test_datagen.flow_from_directory(\n",
    "                      validation_dir,\n",
    "                      target_size=(150, 150),\n",
    "                      batch_size=20,\n",
    "                      class_mode='categorical')\n",
    "\n",
    "model.compile(loss='categorical_crossentropy',\n",
    "              optimizer= RMSprop(lr=1e-4),\n",
    "              metrics=['acc'])\n",
    "\n",
    "history = model.fit_generator(\n",
    "          train_generator,\n",
    "          steps_per_epoch=20,\n",
    "          epochs=30,\n",
    "          validation_data=validation_generator,\n",
    "          validation_steps=10)"
   ]
  },
  {
   "cell_type": "markdown",
   "id": "bb0b3cca",
   "metadata": {},
   "source": [
    "## 9.(J) Modelimin grafiğini çizdirdim. Overfitting durumunun kalktığını gözlemledim."
   ]
  },
  {
   "cell_type": "code",
   "execution_count": 50,
   "id": "58d457e7",
   "metadata": {
    "scrolled": true
   },
   "outputs": [
    {
     "data": {
      "image/png": "[encoded data removed]",
      "text/plain": [
       "<Figure size 640x480 with 1 Axes>"
      ]
     },
     "metadata": {},
     "output_type": "display_data"
    },
    {
     "data": {
      "image/png": "[encoded data removed]",
      "text/plain": [
       "<Figure size 640x480 with 1 Axes>"
      ]
     },
     "metadata": {},
     "output_type": "display_data"
    }
   ],
   "source": [
    "import matplotlib.pyplot as plt\n",
    "\n",
    "acc = history.history['acc']\n",
    "val_acc = history.history['val_acc']\n",
    "loss = history.history['loss']\n",
    "val_loss = history.history['val_loss']\n",
    "\n",
    "epochs = range(1, len(acc) + 1)\n",
    "\n",
    "plt.plot(epochs, acc, 'bo', label='Training acc')\n",
    "plt.plot(epochs, val_acc, 'b-', label='Validation acc')\n",
    "plt.title('Training and validation accuracy')\n",
    "plt.legend()\n",
    "\n",
    "plt.figure()\n",
    "\n",
    "plt.plot(epochs, loss, 'bo', label='Training loss')\n",
    "plt.plot(epochs, val_loss, 'b-', label='Validation loss')\n",
    "plt.title('Training and validation loss')\n",
    "plt.legend()\n",
    "\n",
    "plt.show()\n"
   ]
  },
  {
   "cell_type": "markdown",
   "id": "ec8a39ac",
   "metadata": {},
   "source": [
    "## 9.(K) Train ve Validation verilerini birleştirip modeli eğittim."
   ]
  },
  {
   "cell_type": "code",
   "execution_count": 55,
   "id": "9c1f7a32",
   "metadata": {
    "scrolled": true
   },
   "outputs": [
    {
     "name": "stdout",
     "output_type": "stream",
     "text": [
      "Found 1180 images belonging to 9 classes.\n",
      "Epoch 1/25\n",
      "20/20 [==============================] - 14s 683ms/step - loss: 0.4768 - acc: 0.9025\n",
      "Epoch 2/25\n",
      "20/20 [==============================] - 13s 647ms/step - loss: 0.3228 - acc: 0.9200\n",
      "Epoch 3/25\n",
      "20/20 [==============================] - 15s 739ms/step - loss: 0.1741 - acc: 0.9425\n",
      "Epoch 4/25\n",
      "20/20 [==============================] - 16s 790ms/step - loss: 0.1745 - acc: 0.9575\n",
      "Epoch 5/25\n",
      "20/20 [==============================] - 15s 758ms/step - loss: 0.0956 - acc: 0.9725\n",
      "Epoch 6/25\n",
      "20/20 [==============================] - 15s 754ms/step - loss: 0.1240 - acc: 0.9575\n",
      "Epoch 7/25\n",
      "20/20 [==============================] - 16s 783ms/step - loss: 0.0802 - acc: 0.9850\n",
      "Epoch 8/25\n",
      "20/20 [==============================] - 17s 863ms/step - loss: 0.0185 - acc: 1.0000\n",
      "Epoch 9/25\n",
      "20/20 [==============================] - 17s 843ms/step - loss: 0.0664 - acc: 0.9875\n",
      "Epoch 10/25\n",
      "20/20 [==============================] - 17s 828ms/step - loss: 0.0324 - acc: 0.9950\n",
      "Epoch 11/25\n",
      "20/20 [==============================] - 17s 829ms/step - loss: 0.0395 - acc: 0.9925\n",
      "Epoch 12/25\n",
      "20/20 [==============================] - 17s 834ms/step - loss: 0.0452 - acc: 0.9850\n",
      "Epoch 13/25\n",
      "20/20 [==============================] - 17s 829ms/step - loss: 0.0264 - acc: 0.9925\n",
      "Epoch 14/25\n",
      "20/20 [==============================] - 17s 813ms/step - loss: 0.0122 - acc: 1.0000\n",
      "Epoch 15/25\n",
      "20/20 [==============================] - 16s 813ms/step - loss: 0.0118 - acc: 1.0000\n",
      "Epoch 16/25\n",
      "20/20 [==============================] - 15s 735ms/step - loss: 0.0065 - acc: 1.0000\n",
      "Epoch 17/25\n",
      "20/20 [==============================] - 15s 728ms/step - loss: 0.0069 - acc: 1.0000\n",
      "Epoch 18/25\n",
      "20/20 [==============================] - 15s 726ms/step - loss: 0.0038 - acc: 1.0000\n",
      "Epoch 19/25\n",
      "20/20 [==============================] - 15s 731ms/step - loss: 0.0048 - acc: 1.0000\n",
      "Epoch 20/25\n",
      "20/20 [==============================] - 15s 724ms/step - loss: 0.0026 - acc: 1.0000\n",
      "Epoch 21/25\n",
      "20/20 [==============================] - 15s 726ms/step - loss: 0.0035 - acc: 1.0000\n",
      "Epoch 22/25\n",
      "20/20 [==============================] - 15s 726ms/step - loss: 0.0038 - acc: 1.0000\n",
      "Epoch 23/25\n",
      "20/20 [==============================] - 15s 725ms/step - loss: 0.0016 - acc: 1.0000\n",
      "Epoch 24/25\n",
      "20/20 [==============================] - 15s 725ms/step - loss: 0.0019 - acc: 1.0000\n",
      "Epoch 25/25\n",
      "20/20 [==============================] - 15s 722ms/step - loss: 0.0043 - acc: 0.9975\n"
     ]
    }
   ],
   "source": [
    "train_datagen = ImageDataGenerator(rescale=1./255)\n",
    "train_val_generator = train_datagen.flow_from_directory(\n",
    "        train_val_dir,\n",
    "        target_size=(150,150),\n",
    "        batch_size=20,\n",
    "        class_mode='categorical')\n",
    "\n",
    "model.compile(loss='categorical_crossentropy',\n",
    "              optimizer=optimizers.Adam(learning_rate=0.001),\n",
    "              metrics=['acc'])\n",
    "\n",
    "history = model.fit(\n",
    "    train_val_generator,\n",
    "    steps_per_epoch=20,\n",
    "    epochs=25)\n"
   ]
  },
  {
   "cell_type": "markdown",
   "id": "1ef5ebc2",
   "metadata": {},
   "source": [
    "## 9.(L) Modelimdeki test verilerinin performansını gözlemlediğim kısım."
   ]
  },
  {
   "cell_type": "code",
   "execution_count": 51,
   "id": "0898942c",
   "metadata": {},
   "outputs": [
    {
     "name": "stdout",
     "output_type": "stream",
     "text": [
      "Found 262 images belonging to 9 classes.\n",
      "10/10 [==============================] - 6s 599ms/step - loss: 1.3173 - acc: 0.7250\n",
      "0.7250000238418579\n"
     ]
    }
   ],
   "source": [
    "test_datagen = ImageDataGenerator(rescale=1./255)\n",
    "test_generator = test_datagen.flow_from_directory(\n",
    "        test_dir,\n",
    "        target_size=(150,150),\n",
    "        batch_size=20,\n",
    "        class_mode='categorical')\n",
    "#Test verilerinin performansını deniyorum\n",
    "test_loss,test_acc=model.evaluate(test_generator, steps=10)\n",
    "print(test_acc)"
   ]
  },
  {
   "cell_type": "markdown",
   "id": "f77c8747",
   "metadata": {},
   "source": [
    "## 10. Öncelikle toplu şekilde gelen datasetimin verilerini üç bölüme ayırmam gerekti. Ardından modelimin yenmesi gerektiği minimum başarı oranını buldum. Elimde 9 class olduğu için başarı oranım bir miktar düşük çıktı. Amacım bir recognition olduğu için oluşturduğum modeller sınıflandırma(softmax) içermesi gerekiyordu. Modelimin katman çıktısını elimde kaç tane sınıf varsa ona göre düzenledim. Modelimde genellikle (150,150) boyutunu tercih ettim. İlk başta eğittiğim modelde belli bir epoch değerinin üzerine çıktığında overfitting durumu yaşanıyordu. Bunu giderebilmek için modelime bir kaç eklenti yaptım(dropout vb.). Bazı bölümlerde istenen accuracy ulaşamadım ancak bir kaç boyut düzenlemesi ve epoch düzenlemeleri ile bu sorunları giderdim.\n",
    "\n",
    "## Ödevde benden train ve validation verilerini birleştirip eğitmem isteniyordu. Önceden belirlediğim epoch değeriyle bu verilerimi eğittim ve test verilerinin performansına baktım. Accuracy değerlerinin iyi durumda olduğunu gördüm.\n",
    "\n",
    "## Imagenet üzerinde eğitilmiş olan VGG16 ağı ile çalışmaya başladığımda modelimin başarı oranın daha da arttığını gördüm. Sonuç olarak eğitilmiş bir yapay zeka modeli oluşturmaya çalıştım."
   ]
  }
 ],
 "metadata": {
  "kernelspec": {
   "display_name": "Python 3 (ipykernel)",
   "language": "python",
   "name": "python3"
  },
  "language_info": {
   "codemirror_mode": {
    "name": "ipython",
    "version": 3
   },
   "file_extension": ".py",
   "mimetype": "text/x-python",
   "name": "python",
   "nbconvert_exporter": "python",
   "pygments_lexer": "ipython3",
   "version": "3.9.13"
  }
 },
 "nbformat": 4,
 "nbformat_minor": 5
}
