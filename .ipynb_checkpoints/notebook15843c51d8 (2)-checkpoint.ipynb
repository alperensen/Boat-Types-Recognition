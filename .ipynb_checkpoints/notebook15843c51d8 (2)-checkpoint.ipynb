{
 "cells": [
  {
   "cell_type": "code",
   "execution_count": 1,
   "metadata": {
    "execution": {
     "iopub.execute_input": "2022-11-27T08:35:58.785779Z",
     "iopub.status.busy": "2022-11-27T08:35:58.784853Z",
     "iopub.status.idle": "2022-11-27T08:35:58.793535Z",
     "shell.execute_reply": "2022-11-27T08:35:58.792098Z",
     "shell.execute_reply.started": "2022-11-27T08:35:58.785739Z"
    }
   },
   "outputs": [],
   "source": [
    "import os, shutil\n",
    "from tensorflow.keras.models import Sequential \n",
    "from tensorflow.keras.layers import Conv2D, MaxPooling2D, Flatten, Dense\n",
    "from tensorflow.keras.datasets import cifar10\n",
    "from tensorflow.keras.optimizers import Adam\n",
    "from tensorflow.keras.losses import categorical_crossentropy\n",
    "from tensorflow.keras.utils import to_categorical\n",
    "from keras.preprocessing import image\n",
    "import tensorflow as tf\n",
    "import numpy as np\n",
    "from keras.applications import VGG16\n",
    "from keras import backend as K\n",
    "from keras.applications.vgg16 import preprocess_input, decode_predictions\n",
    "import matplotlib.pyplot as plt\n"
   ]
  },
  {
   "cell_type": "markdown",
   "metadata": {},
   "source": [
    "# 1. KISIM -A- Traning-Validation-Test Klasörlerini Oluşturma"
   ]
  },
  {
   "cell_type": "code",
   "execution_count": 3,
   "metadata": {
    "execution": {
     "iopub.execute_input": "2022-11-26T19:07:38.747665Z",
     "iopub.status.busy": "2022-11-26T19:07:38.747143Z",
     "iopub.status.idle": "2022-11-26T19:07:38.758561Z",
     "shell.execute_reply": "2022-11-26T19:07:38.757304Z",
     "shell.execute_reply.started": "2022-11-26T19:07:38.747615Z"
    }
   },
   "outputs": [],
   "source": [
    "original_espresso_dir= '/kaggle/input/coffee-images/256x/espresso'\n",
    "original_longblack_dir= '/kaggle/input/coffee-images/256x/longblack'\n",
    "base_dir= r'C:\\DeepLearning33\\splits'\n",
    "os.mkdir(base_dir) \n",
    "\n",
    "train_dir = os.path.join(base_dir, 'train')\n",
    "os.mkdir(train_dir)\n",
    "validation_dir = os.path.join(base_dir,'validation')\n",
    "os.mkdir(validation_dir)\n",
    "test_dir = os.path.join(base_dir,'test')\n",
    "os.mkdir(test_dir)\n",
    "\n",
    "train_espresso_dir = os.path.join(train_dir, 'espresso')\n",
    "os.mkdir(train_espresso_dir)\n",
    "\n",
    "train_longblack_dir = os.path.join(train_dir, 'longblack')\n",
    "os.mkdir(train_longblack_dir)\n",
    "\n",
    "validation_espresso_dir = os.path.join(validation_dir, 'espresso')\n",
    "os.mkdir(validation_espresso_dir)\n",
    "\n",
    "validation_longblack_dir = os.path.join(validation_dir, 'longblack')\n",
    "os.mkdir(validation_longblack_dir)\n",
    "\n",
    "test_espresso_dir = os.path.join(test_dir, 'espresso')\n",
    "os.mkdir(test_espresso_dir)\n",
    "\n",
    "test_longblack_dir = os.path.join(test_dir, 'longblack')\n",
    "os.mkdir(test_longblack_dir)\n"
   ]
  },
  {
   "cell_type": "markdown",
   "metadata": {},
   "source": [
    "# 1.KISIM -B- Resimleri oluşturduğum training-validation-test klasörlerine gönderme işlemi"
   ]
  },
  {
   "cell_type": "code",
   "execution_count": 4,
   "metadata": {
    "execution": {
     "iopub.execute_input": "2022-11-26T19:07:38.761334Z",
     "iopub.status.busy": "2022-11-26T19:07:38.760470Z",
     "iopub.status.idle": "2022-11-26T19:07:39.997647Z",
     "shell.execute_reply": "2022-11-26T19:07:39.996719Z",
     "shell.execute_reply.started": "2022-11-26T19:07:38.761278Z"
    }
   },
   "outputs": [],
   "source": [
    "espresso_list = os.listdir(original_espresso_dir)\n",
    "longblack_list = os.listdir(original_longblack_dir)\n",
    "\n",
    "fnames = ['{}'.format(i) for i in espresso_list[:81]]\n",
    "for fname in fnames:\n",
    " src = os.path.join(original_espresso_dir, fname)\n",
    " dst = os.path.join(train_espresso_dir, fname)\n",
    " shutil.copyfile(src, dst)\n",
    "\n",
    "fnames = ['{}'.format(i) for i in espresso_list[81:121]]\n",
    "for fname in fnames:\n",
    " src = os.path.join(original_espresso_dir, fname)\n",
    " dst = os.path.join(validation_espresso_dir, fname)\n",
    " shutil.copyfile(src, dst)\n",
    "\n",
    "fnames = ['{}'.format(i) for i in espresso_list[121:150]]\n",
    "for fname in fnames:\n",
    " src = os.path.join(original_espresso_dir, fname)\n",
    " dst = os.path.join(test_espresso_dir, fname)\n",
    " shutil.copyfile(src, dst)\n",
    "\n",
    " fnames = ['{}'.format(i) for i in longblack_list[:81]]\n",
    "for fname in fnames:\n",
    " src = os.path.join(original_longblack_dir, fname)\n",
    " dst = os.path.join(train_longblack_dir, fname)\n",
    " shutil.copyfile(src, dst)\n",
    "\n",
    "fnames = ['{}'.format(i) for i in longblack_list[81:121]]\n",
    "for fname in fnames:\n",
    " src = os.path.join(original_longblack_dir, fname)\n",
    " dst = os.path.join(validation_longblack_dir, fname)\n",
    " shutil.copyfile(src, dst)\n",
    "\n",
    "fnames = ['{}'.format(i) for i in longblack_list[121:150]]\n",
    "for fname in fnames:\n",
    " src = os.path.join(original_longblack_dir, fname)\n",
    " dst = os.path.join(test_longblack_dir, fname)\n",
    " shutil.copyfile(src, dst)"
   ]
  },
  {
   "cell_type": "markdown",
   "metadata": {},
   "source": [
    "# 1. KISIM -C- Oluşturduğum her training-validation-test klasörlerindeki fotoğraf sayısını gösterir"
   ]
  },
  {
   "cell_type": "code",
   "execution_count": 5,
   "metadata": {
    "execution": {
     "iopub.execute_input": "2022-11-26T19:07:39.999727Z",
     "iopub.status.busy": "2022-11-26T19:07:39.999289Z",
     "iopub.status.idle": "2022-11-26T19:07:40.009451Z",
     "shell.execute_reply": "2022-11-26T19:07:40.008154Z",
     "shell.execute_reply.started": "2022-11-26T19:07:39.999683Z"
    }
   },
   "outputs": [
    {
     "name": "stdout",
     "output_type": "stream",
     "text": [
      "total training espresso images: 81\n",
      "total training longblack images: 81\n",
      "total valid espresso images: 40\n",
      "total valid longblack images: 40\n",
      "total test espresso images: 29\n",
      "total test longblack images: 29\n"
     ]
    }
   ],
   "source": [
    "print('total training espresso images:', len(os.listdir(train_espresso_dir)))\n",
    "print('total training longblack images:', len(os.listdir(train_longblack_dir)))\n",
    "\n",
    "print('total valid espresso images:', len(os.listdir(validation_espresso_dir)))\n",
    "print('total valid longblack images:', len(os.listdir(validation_longblack_dir)))\n",
    "\n",
    "print('total test espresso images:', len(os.listdir(test_espresso_dir)))\n",
    "print('total test longblack images:', len(os.listdir(test_longblack_dir)))\n"
   ]
  },
  {
   "cell_type": "markdown",
   "metadata": {},
   "source": [
    "# 1. KISIM -D- Görevim sınıflanfırma olduğu için her sınıfa ait 1 fotoğraf gösterir"
   ]
  },
  {
   "cell_type": "code",
   "execution_count": 6,
   "metadata": {
    "execution": {
     "iopub.execute_input": "2022-11-26T19:07:40.012847Z",
     "iopub.status.busy": "2022-11-26T19:07:40.012524Z",
     "iopub.status.idle": "2022-11-26T19:07:40.451831Z",
     "shell.execute_reply": "2022-11-26T19:07:40.450588Z",
     "shell.execute_reply.started": "2022-11-26T19:07:40.012819Z"
    }
   },
   "outputs": [
    {
     "name": "stdout",
     "output_type": "stream",
     "text": [
      "1- Espresso:\n"
     ]
    },
    {
     "data": {
      "text/plain": [
       "<matplotlib.image.AxesImage at 0x7fb6c1a925d0>"
      ]
     },
     "execution_count": 6,
     "metadata": {},
     "output_type": "execute_result"
    },
    {
     "data": {
      "image/png": "[encoded data removed]",
      "text/plain": [
       "<Figure size 432x288 with 1 Axes>"
      ]
     },
     "metadata": {
      "needs_background": "light"
     },
     "output_type": "display_data"
    }
   ],
   "source": [
    "import cv2\n",
    "im_plt = plt.imread('/kaggle/input/coffee-images/256x/espresso/20211017_132324.jpg')\n",
    "im_cv = cv2.imread('/kaggle/input/coffee-images/256x/espresso/20211017_132324.jpg')[:, :, ::-1]\n",
    "\n",
    "plt.axis(\"off\")\n",
    "print('1- Espresso:')\n",
    "plt.imshow(im_cv)\n"
   ]
  },
  {
   "cell_type": "code",
   "execution_count": 7,
   "metadata": {
    "execution": {
     "iopub.execute_input": "2022-11-26T19:07:40.453434Z",
     "iopub.status.busy": "2022-11-26T19:07:40.453073Z",
     "iopub.status.idle": "2022-11-26T19:07:40.632727Z",
     "shell.execute_reply": "2022-11-26T19:07:40.631613Z",
     "shell.execute_reply.started": "2022-11-26T19:07:40.453401Z"
    }
   },
   "outputs": [
    {
     "name": "stdout",
     "output_type": "stream",
     "text": [
      "2- Longblack:\n"
     ]
    },
    {
     "data": {
      "text/plain": [
       "<matplotlib.image.AxesImage at 0x7fb6c1a7ae50>"
      ]
     },
     "execution_count": 7,
     "metadata": {},
     "output_type": "execute_result"
    },
    {
     "data": {
      "image/png": "[encoded data removed]",
      "text/plain": [
       "<Figure size 432x288 with 1 Axes>"
      ]
     },
     "metadata": {
      "needs_background": "light"
     },
     "output_type": "display_data"
    }
   ],
   "source": [
    "import cv2\n",
    "im_plt = plt.imread('/kaggle/input/coffee-images/256x/longblack/20211008_090559.jpg')\n",
    "im_cv = cv2.imread('/kaggle/input/coffee-images/256x/longblack/20211008_090559.jpg')[:, :, ::-1]\n",
    "\n",
    "plt.axis(\"off\")\n",
    "print('2- Longblack:')\n",
    "plt.imshow(im_cv)"
   ]
  },
  {
   "cell_type": "markdown",
   "metadata": {},
   "source": [
    "# 2.KISIM Oluşturduğum CNN Modelim"
   ]
  },
  {
   "cell_type": "code",
   "execution_count": 8,
   "metadata": {
    "execution": {
     "iopub.execute_input": "2022-11-26T19:07:40.634996Z",
     "iopub.status.busy": "2022-11-26T19:07:40.634394Z",
     "iopub.status.idle": "2022-11-26T19:07:41.026886Z",
     "shell.execute_reply": "2022-11-26T19:07:41.025685Z",
     "shell.execute_reply.started": "2022-11-26T19:07:40.634954Z"
    }
   },
   "outputs": [
    {
     "name": "stderr",
     "output_type": "stream",
     "text": [
      "2022-11-26 19:07:40.853880: I tensorflow/core/common_runtime/process_util.cc:146] Creating new thread pool with default inter op setting: 2. Tune using inter_op_parallelism_threads for best performance.\n"
     ]
    }
   ],
   "source": [
    "from keras import layers\n",
    "from keras import models\n",
    "\n",
    "model = models.Sequential()\n",
    "model.add(layers.Conv2D(32, (3, 3), activation='relu', input_shape=(150, 150, 3)))\n",
    "\n",
    "model.add(layers.MaxPooling2D((2,2)))\n",
    "model.add(layers.Conv2D(128, (3, 3), activation='relu'))\n",
    "model.add(layers.MaxPooling2D((2,2)))\n",
    "model.add(layers.Conv2D(128, (3, 3), activation='relu'))\n",
    "model.add(layers.MaxPooling2D((2,2)))\n",
    "model.add(layers.Conv2D(128, (3, 3), activation='relu'))\n",
    "model.add(layers.MaxPooling2D((2,2)))\n",
    "model.add(layers.Flatten())\n",
    "model.add(layers.Dense(512, activation='relu'))\n",
    "model.add(layers.Dense(2, activation='softmax'))\n",
    "\n"
   ]
  },
  {
   "cell_type": "markdown",
   "metadata": {},
   "source": [
    "# 3. KISIM -A- Oluşturduğum CNN Modelimin özetinin çıktısını gösterir"
   ]
  },
  {
   "cell_type": "code",
   "execution_count": 9,
   "metadata": {
    "execution": {
     "iopub.execute_input": "2022-11-26T19:07:41.028809Z",
     "iopub.status.busy": "2022-11-26T19:07:41.028245Z",
     "iopub.status.idle": "2022-11-26T19:07:41.036583Z",
     "shell.execute_reply": "2022-11-26T19:07:41.035377Z",
     "shell.execute_reply.started": "2022-11-26T19:07:41.028774Z"
    }
   },
   "outputs": [
    {
     "name": "stdout",
     "output_type": "stream",
     "text": [
      "Model: \"sequential\"\n",
      "_________________________________________________________________\n",
      "Layer (type)                 Output Shape              Param #   \n",
      "=================================================================\n",
      "conv2d (Conv2D)              (None, 148, 148, 32)      896       \n",
      "_________________________________________________________________\n",
      "max_pooling2d (MaxPooling2D) (None, 74, 74, 32)        0         \n",
      "_________________________________________________________________\n",
      "conv2d_1 (Conv2D)            (None, 72, 72, 128)       36992     \n",
      "_________________________________________________________________\n",
      "max_pooling2d_1 (MaxPooling2 (None, 36, 36, 128)       0         \n",
      "_________________________________________________________________\n",
      "conv2d_2 (Conv2D)            (None, 34, 34, 128)       147584    \n",
      "_________________________________________________________________\n",
      "max_pooling2d_2 (MaxPooling2 (None, 17, 17, 128)       0         \n",
      "_________________________________________________________________\n",
      "conv2d_3 (Conv2D)            (None, 15, 15, 128)       147584    \n",
      "_________________________________________________________________\n",
      "max_pooling2d_3 (MaxPooling2 (None, 7, 7, 128)         0         \n",
      "_________________________________________________________________\n",
      "flatten (Flatten)            (None, 6272)              0         \n",
      "_________________________________________________________________\n",
      "dense (Dense)                (None, 512)               3211776   \n",
      "_________________________________________________________________\n",
      "dense_1 (Dense)              (None, 2)                 1026      \n",
      "=================================================================\n",
      "Total params: 3,545,858\n",
      "Trainable params: 3,545,858\n",
      "Non-trainable params: 0\n",
      "_________________________________________________________________\n"
     ]
    }
   ],
   "source": [
    "model.summary()"
   ]
  },
  {
   "cell_type": "markdown",
   "metadata": {},
   "source": [
    "# 3.KISIM -B- Oluşturduğum CNN Modelimi compile ettiğim kısım"
   ]
  },
  {
   "cell_type": "code",
   "execution_count": 10,
   "metadata": {
    "execution": {
     "iopub.execute_input": "2022-11-26T19:07:41.038643Z",
     "iopub.status.busy": "2022-11-26T19:07:41.038325Z",
     "iopub.status.idle": "2022-11-26T19:07:41.059909Z",
     "shell.execute_reply": "2022-11-26T19:07:41.058741Z",
     "shell.execute_reply.started": "2022-11-26T19:07:41.038615Z"
    }
   },
   "outputs": [],
   "source": [
    "from keras import optimizers\n",
    "\n",
    "model.compile(loss='categorical_crossentropy',\n",
    "              optimizer=Adam(learning_rate=0.001),\n",
    "              metrics=['acc'])"
   ]
  },
  {
   "cell_type": "markdown",
   "metadata": {},
   "source": [
    "# 3. KISIM -C- ImageDataGenerator classını fotoğraflarda normalizasyon yapmak için kullandığım kısım"
   ]
  },
  {
   "cell_type": "code",
   "execution_count": 11,
   "metadata": {
    "execution": {
     "iopub.execute_input": "2022-11-26T19:07:41.062077Z",
     "iopub.status.busy": "2022-11-26T19:07:41.061726Z",
     "iopub.status.idle": "2022-11-26T19:07:41.275513Z",
     "shell.execute_reply": "2022-11-26T19:07:41.274200Z",
     "shell.execute_reply.started": "2022-11-26T19:07:41.062046Z"
    }
   },
   "outputs": [
    {
     "name": "stdout",
     "output_type": "stream",
     "text": [
      "Found 162 images belonging to 2 classes.\n",
      "Found 80 images belonging to 2 classes.\n"
     ]
    }
   ],
   "source": [
    "from keras.preprocessing.image import ImageDataGenerator\n",
    "\n",
    "train_datagen = ImageDataGenerator(rescale=1./255)\n",
    "test_datagen = ImageDataGenerator(rescale=1./255)\n",
    "\n",
    "train_generator = train_datagen.flow_from_directory(\n",
    "train_dir,\n",
    "target_size=(150, 150),\n",
    "batch_size=20,\n",
    "class_mode='categorical')\n",
    "\n",
    "validation_generator=test_datagen.flow_from_directory(\n",
    "validation_dir,\n",
    "target_size=(150, 150),\n",
    "batch_size=20,\n",
    "class_mode='categorical')\n",
    "                                                   "
   ]
  },
  {
   "cell_type": "markdown",
   "metadata": {},
   "source": [
    "# 3.KISIM -D- Networke hazır hale getirmek için batch shape yaptığım kısım"
   ]
  },
  {
   "cell_type": "code",
   "execution_count": 12,
   "metadata": {
    "execution": {
     "iopub.execute_input": "2022-11-26T19:07:41.277313Z",
     "iopub.status.busy": "2022-11-26T19:07:41.276951Z",
     "iopub.status.idle": "2022-11-26T19:07:41.331981Z",
     "shell.execute_reply": "2022-11-26T19:07:41.330716Z",
     "shell.execute_reply.started": "2022-11-26T19:07:41.277281Z"
    }
   },
   "outputs": [
    {
     "name": "stdout",
     "output_type": "stream",
     "text": [
      "data batch shape: (20, 150, 150, 3)\n",
      "labels batch shape: (20, 2)\n"
     ]
    }
   ],
   "source": [
    "for data_batch, labels_batch in train_generator:\n",
    "    print('data batch shape:', data_batch.shape)\n",
    "    print('labels batch shape:', labels_batch.shape)\n",
    "    break"
   ]
  },
  {
   "cell_type": "markdown",
   "metadata": {},
   "source": [
    "# 4. KISIM Trainingi başlattım ve bir yandan da historye kaydettim"
   ]
  },
  {
   "cell_type": "code",
   "execution_count": 13,
   "metadata": {
    "execution": {
     "iopub.execute_input": "2022-11-26T19:07:41.333838Z",
     "iopub.status.busy": "2022-11-26T19:07:41.333520Z",
     "iopub.status.idle": "2022-11-26T19:11:17.408527Z",
     "shell.execute_reply": "2022-11-26T19:11:17.407469Z",
     "shell.execute_reply.started": "2022-11-26T19:07:41.333808Z"
    }
   },
   "outputs": [
    {
     "name": "stdout",
     "output_type": "stream",
     "text": [
      "Epoch 1/45\n"
     ]
    },
    {
     "name": "stderr",
     "output_type": "stream",
     "text": [
      "/opt/conda/lib/python3.7/site-packages/keras/engine/training.py:1972: UserWarning: `Model.fit_generator` is deprecated and will be removed in a future version. Please use `Model.fit`, which supports generators.\n",
      "  warnings.warn('`Model.fit_generator` is deprecated and '\n",
      "2022-11-26 19:07:41.479620: I tensorflow/compiler/mlir/mlir_graph_optimization_pass.cc:185] None of the MLIR Optimization Passes are enabled (registered 2)\n"
     ]
    },
    {
     "name": "stdout",
     "output_type": "stream",
     "text": [
      "5/5 [==============================] - 5s 827ms/step - loss: 1.4173 - acc: 0.5400 - val_loss: 0.6657 - val_acc: 0.5000\n",
      "Epoch 2/45\n",
      "5/5 [==============================] - 4s 713ms/step - loss: 0.6871 - acc: 0.5900 - val_loss: 0.6964 - val_acc: 0.5000\n",
      "Epoch 3/45\n",
      "5/5 [==============================] - 4s 867ms/step - loss: 0.6839 - acc: 0.6341 - val_loss: 0.6632 - val_acc: 0.7167\n",
      "Epoch 4/45\n",
      "5/5 [==============================] - 3s 716ms/step - loss: 0.6282 - acc: 0.7300 - val_loss: 0.5679 - val_acc: 0.8167\n",
      "Epoch 5/45\n",
      "5/5 [==============================] - 4s 771ms/step - loss: 0.5035 - acc: 0.7900 - val_loss: 0.4481 - val_acc: 0.7833\n",
      "Epoch 6/45\n",
      "5/5 [==============================] - 4s 728ms/step - loss: 0.4116 - acc: 0.8000 - val_loss: 0.4241 - val_acc: 0.7833\n",
      "Epoch 7/45\n",
      "5/5 [==============================] - 3s 758ms/step - loss: 0.5118 - acc: 0.7683 - val_loss: 0.3502 - val_acc: 0.8667\n",
      "Epoch 8/45\n",
      "5/5 [==============================] - 4s 725ms/step - loss: 0.3544 - acc: 0.8400 - val_loss: 0.3606 - val_acc: 0.8667\n",
      "Epoch 9/45\n",
      "5/5 [==============================] - 3s 756ms/step - loss: 0.3061 - acc: 0.8659 - val_loss: 0.4192 - val_acc: 0.8167\n",
      "Epoch 10/45\n",
      "5/5 [==============================] - 4s 723ms/step - loss: 0.2171 - acc: 0.9200 - val_loss: 0.3713 - val_acc: 0.8833\n",
      "Epoch 11/45\n",
      "5/5 [==============================] - 4s 733ms/step - loss: 0.1441 - acc: 0.9700 - val_loss: 0.4272 - val_acc: 0.8333\n",
      "Epoch 12/45\n",
      "5/5 [==============================] - 4s 726ms/step - loss: 0.2017 - acc: 0.9100 - val_loss: 0.4218 - val_acc: 0.9000\n",
      "Epoch 13/45\n",
      "5/5 [==============================] - 4s 733ms/step - loss: 0.1451 - acc: 0.9600 - val_loss: 0.4132 - val_acc: 0.8833\n",
      "Epoch 14/45\n",
      "5/5 [==============================] - 4s 765ms/step - loss: 0.2608 - acc: 0.8900 - val_loss: 0.3030 - val_acc: 0.9000\n",
      "Epoch 15/45\n",
      "5/5 [==============================] - 3s 613ms/step - loss: 0.1970 - acc: 0.9512 - val_loss: 0.3465 - val_acc: 0.9000\n",
      "Epoch 16/45\n",
      "5/5 [==============================] - 4s 875ms/step - loss: 0.1484 - acc: 0.9512 - val_loss: 0.2699 - val_acc: 0.9333\n",
      "Epoch 17/45\n",
      "5/5 [==============================] - 3s 620ms/step - loss: 0.1982 - acc: 0.9268 - val_loss: 0.3096 - val_acc: 0.9333\n",
      "Epoch 18/45\n",
      "5/5 [==============================] - 4s 804ms/step - loss: 0.1003 - acc: 0.9600 - val_loss: 0.2993 - val_acc: 0.9167\n",
      "Epoch 19/45\n",
      "5/5 [==============================] - 4s 773ms/step - loss: 0.0944 - acc: 0.9700 - val_loss: 0.1017 - val_acc: 0.9667\n",
      "Epoch 20/45\n",
      "5/5 [==============================] - 3s 736ms/step - loss: 0.1066 - acc: 0.9512 - val_loss: 0.3043 - val_acc: 0.9500\n",
      "Epoch 21/45\n",
      "5/5 [==============================] - 3s 602ms/step - loss: 0.0486 - acc: 1.0000 - val_loss: 0.3827 - val_acc: 0.9500\n",
      "Epoch 22/45\n",
      "5/5 [==============================] - 3s 697ms/step - loss: 0.0410 - acc: 0.9634 - val_loss: 0.5658 - val_acc: 0.9167\n",
      "Epoch 23/45\n",
      "5/5 [==============================] - 3s 610ms/step - loss: 0.0627 - acc: 0.9878 - val_loss: 0.3830 - val_acc: 0.9000\n",
      "Epoch 24/45\n",
      "5/5 [==============================] - 3s 590ms/step - loss: 0.0869 - acc: 0.9634 - val_loss: 0.3975 - val_acc: 0.9167\n",
      "Epoch 25/45\n",
      "5/5 [==============================] - 3s 618ms/step - loss: 0.0638 - acc: 0.9756 - val_loss: 0.3878 - val_acc: 0.8833\n",
      "Epoch 26/45\n",
      "5/5 [==============================] - 4s 723ms/step - loss: 0.0294 - acc: 1.0000 - val_loss: 0.2889 - val_acc: 0.9500\n",
      "Epoch 27/45\n",
      "5/5 [==============================] - 3s 621ms/step - loss: 0.0271 - acc: 1.0000 - val_loss: 0.2579 - val_acc: 0.9500\n",
      "Epoch 28/45\n",
      "5/5 [==============================] - 4s 778ms/step - loss: 0.0455 - acc: 0.9700 - val_loss: 0.4299 - val_acc: 0.9500\n",
      "Epoch 29/45\n",
      "5/5 [==============================] - 4s 762ms/step - loss: 0.0237 - acc: 0.9900 - val_loss: 0.3156 - val_acc: 0.9500\n",
      "Epoch 30/45\n",
      "5/5 [==============================] - 4s 724ms/step - loss: 0.0203 - acc: 0.9900 - val_loss: 0.4640 - val_acc: 0.9333\n",
      "Epoch 31/45\n",
      "5/5 [==============================] - 4s 751ms/step - loss: 0.0128 - acc: 1.0000 - val_loss: 0.5067 - val_acc: 0.9000\n",
      "Epoch 32/45\n",
      "5/5 [==============================] - 4s 719ms/step - loss: 0.0097 - acc: 1.0000 - val_loss: 0.4868 - val_acc: 0.9167\n",
      "Epoch 33/45\n",
      "5/5 [==============================] - 3s 709ms/step - loss: 0.0031 - acc: 1.0000 - val_loss: 0.2875 - val_acc: 0.9333\n",
      "Epoch 34/45\n",
      "5/5 [==============================] - 3s 724ms/step - loss: 0.0029 - acc: 1.0000 - val_loss: 0.2158 - val_acc: 0.9500\n",
      "Epoch 35/45\n",
      "5/5 [==============================] - 3s 608ms/step - loss: 0.0019 - acc: 1.0000 - val_loss: 0.3715 - val_acc: 0.9333\n",
      "Epoch 36/45\n",
      "5/5 [==============================] - 4s 717ms/step - loss: 9.4433e-04 - acc: 1.0000 - val_loss: 0.5605 - val_acc: 0.9167\n",
      "Epoch 37/45\n",
      "5/5 [==============================] - 3s 600ms/step - loss: 0.0011 - acc: 1.0000 - val_loss: 0.4724 - val_acc: 0.9333\n",
      "Epoch 38/45\n",
      "5/5 [==============================] - 3s 613ms/step - loss: 8.3539e-04 - acc: 1.0000 - val_loss: 0.4808 - val_acc: 0.9333\n",
      "Epoch 39/45\n",
      "5/5 [==============================] - 4s 823ms/step - loss: 3.3584e-04 - acc: 1.0000 - val_loss: 0.5197 - val_acc: 0.9333\n",
      "Epoch 40/45\n",
      "5/5 [==============================] - 3s 711ms/step - loss: 2.4744e-04 - acc: 1.0000 - val_loss: 0.4990 - val_acc: 0.9333\n",
      "Epoch 41/45\n",
      "5/5 [==============================] - 3s 713ms/step - loss: 4.1741e-04 - acc: 1.0000 - val_loss: 0.5851 - val_acc: 0.9333\n",
      "Epoch 42/45\n",
      "5/5 [==============================] - 4s 777ms/step - loss: 3.5491e-04 - acc: 1.0000 - val_loss: 0.6271 - val_acc: 0.9167\n",
      "Epoch 43/45\n",
      "5/5 [==============================] - 4s 721ms/step - loss: 4.1354e-04 - acc: 1.0000 - val_loss: 0.6379 - val_acc: 0.9167\n",
      "Epoch 44/45\n",
      "5/5 [==============================] - 3s 629ms/step - loss: 1.7351e-04 - acc: 1.0000 - val_loss: 0.4691 - val_acc: 0.9333\n",
      "Epoch 45/45\n",
      "5/5 [==============================] - 4s 725ms/step - loss: 2.2726e-04 - acc: 1.0000 - val_loss: 0.3450 - val_acc: 0.9500\n"
     ]
    }
   ],
   "source": [
    "\n",
    "history = model.fit_generator(\n",
    "train_generator,\n",
    "steps_per_epoch=5,\n",
    "epochs=45,\n",
    "validation_data=validation_generator,\n",
    "validation_steps=3)"
   ]
  },
  {
   "cell_type": "markdown",
   "metadata": {},
   "source": [
    "# Modelimi kaydettiğim kısım"
   ]
  },
  {
   "cell_type": "code",
   "execution_count": 14,
   "metadata": {
    "execution": {
     "iopub.execute_input": "2022-11-26T19:11:17.410590Z",
     "iopub.status.busy": "2022-11-26T19:11:17.409668Z",
     "iopub.status.idle": "2022-11-26T19:11:19.152785Z",
     "shell.execute_reply": "2022-11-26T19:11:19.151674Z",
     "shell.execute_reply.started": "2022-11-26T19:11:17.410510Z"
    }
   },
   "outputs": [
    {
     "name": "stderr",
     "output_type": "stream",
     "text": [
      "2022-11-26 19:11:17.948181: W tensorflow/python/util/util.cc:348] Sets are not currently considered sequences, but this may change in the future, so consider avoiding using them.\n"
     ]
    }
   ],
   "source": [
    "model.save('Coffeesssssssss')"
   ]
  },
  {
   "cell_type": "markdown",
   "metadata": {},
   "source": [
    "# 5. KISIM Eğitim ve doğrulama başarısı ve kaybını grafik olarak gösterdiğim kısım"
   ]
  },
  {
   "cell_type": "code",
   "execution_count": 15,
   "metadata": {
    "execution": {
     "iopub.execute_input": "2022-11-26T19:11:19.159834Z",
     "iopub.status.busy": "2022-11-26T19:11:19.159486Z",
     "iopub.status.idle": "2022-11-26T19:11:19.594711Z",
     "shell.execute_reply": "2022-11-26T19:11:19.593721Z",
     "shell.execute_reply.started": "2022-11-26T19:11:19.159804Z"
    }
   },
   "outputs": [
    {
     "data": {
      "image/png": "[encoded data removed]",
      "text/plain": [
       "<Figure size 432x288 with 1 Axes>"
      ]
     },
     "metadata": {
      "needs_background": "light"
     },
     "output_type": "display_data"
    },
    {
     "data": {
      "image/png": "[encoded data removed]",
      "text/plain": [
       "<Figure size 432x288 with 1 Axes>"
      ]
     },
     "metadata": {
      "needs_background": "light"
     },
     "output_type": "display_data"
    }
   ],
   "source": [
    "import matplotlib.pyplot as plt\n",
    "\n",
    "acc= history.history['acc']\n",
    "val_acc = history.history['val_acc']\n",
    "loss = history.history['loss']\n",
    "val_loss = history.history['val_loss']\n",
    "\n",
    "epochs= range(1, len(acc) +1)\n",
    "\n",
    "plt.plot(epochs, acc, 'bo', label='Training acc')\n",
    "plt.plot(epochs, val_acc, 'b', label='Validation acc')\n",
    "plt.title('Training and Validation Accuracy')\n",
    "plt.legend()\n",
    "\n",
    "plt.figure()\n",
    "\n",
    "plt.plot(epochs, loss, 'bo', label='Training loss')\n",
    "plt.plot(epochs, val_loss, 'b', label='Validation loss')\n",
    "plt.title('Training and Validation Loss')\n",
    "plt.legend()\n",
    "\n",
    "plt.show()"
   ]
  },
  {
   "cell_type": "markdown",
   "metadata": {},
   "source": [
    "# 6. KISIM -A- Validation verisini de Training verisine kattığım kısım"
   ]
  },
  {
   "cell_type": "code",
   "execution_count": 16,
   "metadata": {
    "execution": {
     "iopub.execute_input": "2022-11-26T19:11:19.596454Z",
     "iopub.status.busy": "2022-11-26T19:11:19.596107Z",
     "iopub.status.idle": "2022-11-26T19:11:19.603312Z",
     "shell.execute_reply": "2022-11-26T19:11:19.602089Z",
     "shell.execute_reply.started": "2022-11-26T19:11:19.596423Z"
    }
   },
   "outputs": [],
   "source": [
    "train_val_total_dir = os.path.join(r\"Coffeesssssssss\", 'train_val_total')\n",
    "os.mkdir(train_val_total_dir)\n",
    "train_validation_espresso = os.path.join(train_val_total_dir,\"espresso\")\n",
    "os.mkdir(train_validation_espresso)\n",
    "train_validation_longblack = os.path.join(train_val_total_dir,\"longblack\")\n",
    "os.mkdir(train_validation_longblack)\n"
   ]
  },
  {
   "cell_type": "markdown",
   "metadata": {},
   "source": [
    "# 6. KISIM -B- Resimleri oluşturduğum training-validation klasörlerine gönderme işlemi"
   ]
  },
  {
   "cell_type": "code",
   "execution_count": 17,
   "metadata": {
    "execution": {
     "iopub.execute_input": "2022-11-26T19:11:19.605340Z",
     "iopub.status.busy": "2022-11-26T19:11:19.604901Z",
     "iopub.status.idle": "2022-11-26T19:11:19.978748Z",
     "shell.execute_reply": "2022-11-26T19:11:19.977348Z",
     "shell.execute_reply.started": "2022-11-26T19:11:19.605295Z"
    }
   },
   "outputs": [],
   "source": [
    "import shutil\n",
    "\n",
    "espresso_list = os.listdir(original_espresso_dir)\n",
    "longblack_list = os.listdir(original_longblack_dir)\n",
    "\n",
    "fnames = ['{}'.format(i) for i in espresso_list[:81]]\n",
    "for fname in fnames:\n",
    " src = os.path.join(original_espresso_dir, fname)\n",
    " dst = os.path.join(train_validation_espresso, fname)\n",
    " shutil.copyfile(src, dst)\n",
    "\n",
    "fnames = ['{}'.format(i) for i in espresso_list[81:121]]\n",
    "for fname in fnames:\n",
    " src = os.path.join(original_espresso_dir, fname)\n",
    " dst = os.path.join(train_validation_espresso, fname)\n",
    " shutil.copyfile(src, dst)\n",
    "\n",
    "\n",
    " fnames = ['{}'.format(i) for i in longblack_list[:81]]\n",
    "for fname in fnames:\n",
    " src = os.path.join(original_longblack_dir, fname)\n",
    " dst = os.path.join(train_validation_longblack, fname)\n",
    " shutil.copyfile(src, dst)\n",
    "\n",
    "fnames = ['{}'.format(i) for i in longblack_list[81:121]]\n",
    "for fname in fnames:\n",
    " src = os.path.join(original_longblack_dir, fname)\n",
    " dst = os.path.join(train_validation_longblack, fname)\n",
    " shutil.copyfile(src, dst)\n",
    "\n"
   ]
  },
  {
   "cell_type": "markdown",
   "metadata": {},
   "source": [
    "# 6. KISIM -C- ImageDataGenerator classını kullandım"
   ]
  },
  {
   "cell_type": "code",
   "execution_count": 18,
   "metadata": {
    "execution": {
     "iopub.execute_input": "2022-11-26T19:11:19.980407Z",
     "iopub.status.busy": "2022-11-26T19:11:19.980002Z",
     "iopub.status.idle": "2022-11-26T19:11:19.986770Z",
     "shell.execute_reply": "2022-11-26T19:11:19.985727Z",
     "shell.execute_reply.started": "2022-11-26T19:11:19.980371Z"
    }
   },
   "outputs": [],
   "source": [
    "datagen = ImageDataGenerator(\n",
    "          rotation_range=40,\n",
    "          width_shift_range=0.2,\n",
    "          height_shift_range=0.2,\n",
    "          shear_range=0.2,\n",
    "          zoom_range=0.2,\n",
    "          horizontal_flip=True,\n",
    "          fill_mode='nearest')"
   ]
  },
  {
   "cell_type": "markdown",
   "metadata": {},
   "source": [
    "# 6. KISIM -D- Overfittingi gidermek için CNN modelime Dropout ekledim"
   ]
  },
  {
   "cell_type": "code",
   "execution_count": 19,
   "metadata": {
    "execution": {
     "iopub.execute_input": "2022-11-26T19:11:19.988475Z",
     "iopub.status.busy": "2022-11-26T19:11:19.988183Z",
     "iopub.status.idle": "2022-11-26T19:11:20.094505Z",
     "shell.execute_reply": "2022-11-26T19:11:20.093170Z",
     "shell.execute_reply.started": "2022-11-26T19:11:19.988448Z"
    }
   },
   "outputs": [],
   "source": [
    "from keras import layers\n",
    "from keras import models\n",
    "\n",
    "model = models.Sequential()\n",
    "model.add(layers.Conv2D(32, (3, 3), activation='relu', input_shape=(150, 150, 3)))\n",
    "\n",
    "model.add(layers.MaxPooling2D((2,2)))\n",
    "model.add(layers.Conv2D(64, (3, 3), activation='relu'))\n",
    "model.add(layers.MaxPooling2D((2,2)))\n",
    "model.add(layers.Conv2D(128, (3, 3), activation='relu'))\n",
    "model.add(layers.MaxPooling2D((2,2)))\n",
    "model.add(layers.Conv2D(128, (3, 3), activation='relu'))\n",
    "model.add(layers.MaxPooling2D((2,2)))\n",
    "model.add(layers.Flatten())\n",
    "model.add(layers.Dropout(0.5))\n",
    "model.add(layers.Dense(512, activation='relu'))\n",
    "model.add(layers.Dense(2, activation='softmax'))"
   ]
  },
  {
   "cell_type": "markdown",
   "metadata": {},
   "source": [
    "# 7. KISIM Modelimi tekrar denedim"
   ]
  },
  {
   "cell_type": "code",
   "execution_count": 20,
   "metadata": {
    "execution": {
     "iopub.execute_input": "2022-11-26T19:11:20.096235Z",
     "iopub.status.busy": "2022-11-26T19:11:20.095919Z",
     "iopub.status.idle": "2022-11-26T19:11:20.104995Z",
     "shell.execute_reply": "2022-11-26T19:11:20.104240Z",
     "shell.execute_reply.started": "2022-11-26T19:11:20.096204Z"
    }
   },
   "outputs": [],
   "source": [
    "from keras import optimizers\n",
    "\n",
    "model.compile(loss='categorical_crossentropy',\n",
    "              optimizer=Adam(learning_rate=0.001),\n",
    "              metrics=['acc'])"
   ]
  },
  {
   "cell_type": "code",
   "execution_count": 21,
   "metadata": {
    "execution": {
     "iopub.execute_input": "2022-11-26T19:11:20.106232Z",
     "iopub.status.busy": "2022-11-26T19:11:20.105887Z",
     "iopub.status.idle": "2022-11-26T19:11:20.322402Z",
     "shell.execute_reply": "2022-11-26T19:11:20.321184Z",
     "shell.execute_reply.started": "2022-11-26T19:11:20.106202Z"
    }
   },
   "outputs": [
    {
     "name": "stdout",
     "output_type": "stream",
     "text": [
      "Found 162 images belonging to 2 classes.\n",
      "Found 80 images belonging to 2 classes.\n"
     ]
    }
   ],
   "source": [
    "train_datagen = ImageDataGenerator(\n",
    "          rescale=1./255,\n",
    "          rotation_range=40,\n",
    "          width_shift_range=0.2,\n",
    "          height_shift_range=0.2,\n",
    "          shear_range=0.2,\n",
    "          zoom_range=0.2,\n",
    "          horizontal_flip=True)\n",
    "\n",
    "test_datagen = ImageDataGenerator(rescale=1./255)\n",
    "\n",
    "train_generator = train_datagen.flow_from_directory(\n",
    "train_dir,\n",
    "target_size=(150, 150),\n",
    "batch_size=32,\n",
    "class_mode='categorical')\n",
    "\n",
    "validation_generator=test_datagen.flow_from_directory(\n",
    "validation_dir,\n",
    "target_size=(150, 150),\n",
    "batch_size=32,\n",
    "class_mode='categorical')"
   ]
  },
  {
   "cell_type": "markdown",
   "metadata": {},
   "source": [
    "# 8. KISIM Modelime  dropout ve augmentation ekleyerek test verisi üzerindeki performansı gözlemlediğim kısım"
   ]
  },
  {
   "cell_type": "code",
   "execution_count": 22,
   "metadata": {
    "execution": {
     "iopub.execute_input": "2022-11-26T19:11:20.324748Z",
     "iopub.status.busy": "2022-11-26T19:11:20.324410Z",
     "iopub.status.idle": "2022-11-26T19:14:03.249293Z",
     "shell.execute_reply": "2022-11-26T19:14:03.248051Z",
     "shell.execute_reply.started": "2022-11-26T19:11:20.324688Z"
    }
   },
   "outputs": [
    {
     "name": "stderr",
     "output_type": "stream",
     "text": [
      "/opt/conda/lib/python3.7/site-packages/keras/engine/training.py:1972: UserWarning: `Model.fit_generator` is deprecated and will be removed in a future version. Please use `Model.fit`, which supports generators.\n",
      "  warnings.warn('`Model.fit_generator` is deprecated and '\n"
     ]
    },
    {
     "name": "stdout",
     "output_type": "stream",
     "text": [
      "Epoch 1/95\n",
      "2/2 [==============================] - 2s 2s/step - loss: 1.2621 - acc: 0.5882 - val_loss: 0.6845 - val_acc: 0.5000\n",
      "Epoch 2/95\n",
      "2/2 [==============================] - 1s 1s/step - loss: 0.8037 - acc: 0.4706 - val_loss: 0.7552 - val_acc: 0.5000\n",
      "Epoch 3/95\n",
      "2/2 [==============================] - 2s 982ms/step - loss: 0.7220 - acc: 0.5156 - val_loss: 0.6829 - val_acc: 0.5312\n",
      "Epoch 4/95\n",
      "2/2 [==============================] - 2s 932ms/step - loss: 0.6879 - acc: 0.5156 - val_loss: 0.6764 - val_acc: 0.6250\n",
      "Epoch 5/95\n",
      "2/2 [==============================] - 1s 1s/step - loss: 0.6816 - acc: 0.5882 - val_loss: 0.6824 - val_acc: 0.5312\n",
      "Epoch 6/95\n",
      "2/2 [==============================] - 2s 867ms/step - loss: 0.6778 - acc: 0.5938 - val_loss: 0.6688 - val_acc: 0.5000\n",
      "Epoch 7/95\n",
      "2/2 [==============================] - 1s 1s/step - loss: 0.6832 - acc: 0.5000 - val_loss: 0.6519 - val_acc: 0.5938\n",
      "Epoch 8/95\n",
      "2/2 [==============================] - 2s 1s/step - loss: 0.6856 - acc: 0.5469 - val_loss: 0.6353 - val_acc: 0.5312\n",
      "Epoch 9/95\n",
      "2/2 [==============================] - 1s 392ms/step - loss: 0.6513 - acc: 0.6176 - val_loss: 0.6286 - val_acc: 0.5000\n",
      "Epoch 10/95\n",
      "2/2 [==============================] - 1s 1s/step - loss: 0.5929 - acc: 0.7941 - val_loss: 0.5593 - val_acc: 0.6875\n",
      "Epoch 11/95\n",
      "2/2 [==============================] - 1s 389ms/step - loss: 0.5687 - acc: 0.8235 - val_loss: 0.8413 - val_acc: 0.4375\n",
      "Epoch 12/95\n",
      "2/2 [==============================] - 2s 982ms/step - loss: 0.7380 - acc: 0.4844 - val_loss: 0.5515 - val_acc: 0.7500\n",
      "Epoch 13/95\n",
      "2/2 [==============================] - 2s 994ms/step - loss: 0.5442 - acc: 0.7656 - val_loss: 0.5422 - val_acc: 0.7188\n",
      "Epoch 14/95\n",
      "2/2 [==============================] - 2s 1s/step - loss: 0.5706 - acc: 0.6719 - val_loss: 0.5871 - val_acc: 0.7812\n",
      "Epoch 15/95\n",
      "2/2 [==============================] - 1s 436ms/step - loss: 0.4862 - acc: 0.7941 - val_loss: 0.9014 - val_acc: 0.6562\n",
      "Epoch 16/95\n",
      "2/2 [==============================] - 2s 988ms/step - loss: 0.7539 - acc: 0.6406 - val_loss: 0.4928 - val_acc: 0.8125\n",
      "Epoch 17/95\n",
      "2/2 [==============================] - 1s 395ms/step - loss: 0.3581 - acc: 0.9118 - val_loss: 0.4368 - val_acc: 0.8125\n",
      "Epoch 18/95\n",
      "2/2 [==============================] - 2s 929ms/step - loss: 0.4168 - acc: 0.8594 - val_loss: 0.4310 - val_acc: 0.8125\n",
      "Epoch 19/95\n",
      "2/2 [==============================] - 2s 940ms/step - loss: 0.4812 - acc: 0.7344 - val_loss: 0.2762 - val_acc: 0.9375\n",
      "Epoch 20/95\n",
      "2/2 [==============================] - 1s 411ms/step - loss: 0.4926 - acc: 0.7941 - val_loss: 0.5003 - val_acc: 0.8125\n",
      "Epoch 21/95\n",
      "2/2 [==============================] - 2s 1s/step - loss: 0.5104 - acc: 0.7500 - val_loss: 0.2530 - val_acc: 0.9062\n",
      "Epoch 22/95\n",
      "2/2 [==============================] - 2s 866ms/step - loss: 0.5791 - acc: 0.6875 - val_loss: 0.5960 - val_acc: 0.6875\n",
      "Epoch 23/95\n",
      "2/2 [==============================] - 1s 396ms/step - loss: 0.5271 - acc: 0.7353 - val_loss: 0.4347 - val_acc: 0.8125\n",
      "Epoch 24/95\n",
      "2/2 [==============================] - 2s 874ms/step - loss: 0.4202 - acc: 0.8281 - val_loss: 0.3943 - val_acc: 0.9062\n",
      "Epoch 25/95\n",
      "2/2 [==============================] - 1s 410ms/step - loss: 0.4377 - acc: 0.8235 - val_loss: 0.4275 - val_acc: 0.8125\n",
      "Epoch 26/95\n",
      "2/2 [==============================] - 1s 1s/step - loss: 0.4639 - acc: 0.7647 - val_loss: 0.4399 - val_acc: 0.8438\n",
      "Epoch 27/95\n",
      "2/2 [==============================] - 1s 423ms/step - loss: 0.6061 - acc: 0.7059 - val_loss: 0.5090 - val_acc: 0.8438\n",
      "Epoch 28/95\n",
      "2/2 [==============================] - 2s 1s/step - loss: 0.4561 - acc: 0.7656 - val_loss: 0.4231 - val_acc: 0.7500\n",
      "Epoch 29/95\n",
      "2/2 [==============================] - 2s 1s/step - loss: 0.5699 - acc: 0.7188 - val_loss: 0.5649 - val_acc: 0.6875\n",
      "Epoch 30/95\n",
      "2/2 [==============================] - 2s 984ms/step - loss: 0.4630 - acc: 0.8594 - val_loss: 0.3970 - val_acc: 0.8750\n",
      "Epoch 31/95\n",
      "2/2 [==============================] - 2s 1s/step - loss: 0.4598 - acc: 0.8438 - val_loss: 0.4598 - val_acc: 0.7812\n",
      "Epoch 32/95\n",
      "2/2 [==============================] - 2s 981ms/step - loss: 0.5265 - acc: 0.7031 - val_loss: 0.4548 - val_acc: 0.7812\n",
      "Epoch 33/95\n",
      "2/2 [==============================] - 2s 1s/step - loss: 0.4425 - acc: 0.7812 - val_loss: 0.5352 - val_acc: 0.7188\n",
      "Epoch 34/95\n",
      "2/2 [==============================] - 2s 903ms/step - loss: 0.3788 - acc: 0.8125 - val_loss: 0.4104 - val_acc: 0.7812\n",
      "Epoch 35/95\n",
      "2/2 [==============================] - 1s 390ms/step - loss: 0.4103 - acc: 0.7941 - val_loss: 0.4845 - val_acc: 0.7812\n",
      "Epoch 36/95\n",
      "2/2 [==============================] - 2s 969ms/step - loss: 0.3196 - acc: 0.8281 - val_loss: 0.3528 - val_acc: 0.8125\n",
      "Epoch 37/95\n",
      "2/2 [==============================] - 2s 958ms/step - loss: 0.4143 - acc: 0.7812 - val_loss: 0.3983 - val_acc: 0.8125\n",
      "Epoch 38/95\n",
      "2/2 [==============================] - 1s 1s/step - loss: 0.4710 - acc: 0.8235 - val_loss: 0.8940 - val_acc: 0.6875\n",
      "Epoch 39/95\n",
      "2/2 [==============================] - 2s 888ms/step - loss: 1.3132 - acc: 0.5156 - val_loss: 0.4156 - val_acc: 0.7500\n",
      "Epoch 40/95\n",
      "2/2 [==============================] - 2s 1s/step - loss: 0.4063 - acc: 0.7500 - val_loss: 0.4211 - val_acc: 0.7500\n",
      "Epoch 41/95\n",
      "2/2 [==============================] - 2s 937ms/step - loss: 0.4104 - acc: 0.8438 - val_loss: 0.3553 - val_acc: 0.8750\n",
      "Epoch 42/95\n",
      "2/2 [==============================] - 2s 1s/step - loss: 0.5750 - acc: 0.7031 - val_loss: 0.5470 - val_acc: 0.7188\n",
      "Epoch 43/95\n",
      "2/2 [==============================] - 2s 985ms/step - loss: 0.5104 - acc: 0.7031 - val_loss: 0.4170 - val_acc: 0.8750\n",
      "Epoch 44/95\n",
      "2/2 [==============================] - 2s 998ms/step - loss: 0.5591 - acc: 0.6562 - val_loss: 0.4456 - val_acc: 0.7812\n",
      "Epoch 45/95\n",
      "2/2 [==============================] - 2s 1s/step - loss: 0.4683 - acc: 0.8281 - val_loss: 0.4275 - val_acc: 0.9062\n",
      "Epoch 46/95\n",
      "2/2 [==============================] - 1s 398ms/step - loss: 0.4536 - acc: 0.9118 - val_loss: 0.3514 - val_acc: 0.9375\n",
      "Epoch 47/95\n",
      "2/2 [==============================] - 1s 425ms/step - loss: 0.5224 - acc: 0.7941 - val_loss: 0.4346 - val_acc: 0.8125\n",
      "Epoch 48/95\n",
      "2/2 [==============================] - 2s 875ms/step - loss: 0.4670 - acc: 0.8125 - val_loss: 0.4243 - val_acc: 0.7812\n",
      "Epoch 49/95\n",
      "2/2 [==============================] - 2s 948ms/step - loss: 0.3981 - acc: 0.8281 - val_loss: 0.4442 - val_acc: 0.7812\n",
      "Epoch 50/95\n",
      "2/2 [==============================] - 2s 977ms/step - loss: 0.3606 - acc: 0.8438 - val_loss: 0.3632 - val_acc: 0.8438\n",
      "Epoch 51/95\n",
      "2/2 [==============================] - 2s 892ms/step - loss: 0.2960 - acc: 0.8750 - val_loss: 0.4443 - val_acc: 0.7812\n",
      "Epoch 52/95\n",
      "2/2 [==============================] - 1s 417ms/step - loss: 0.2609 - acc: 0.8824 - val_loss: 0.3956 - val_acc: 0.7812\n",
      "Epoch 53/95\n",
      "2/2 [==============================] - 2s 955ms/step - loss: 0.3191 - acc: 0.9062 - val_loss: 0.2761 - val_acc: 0.8438\n",
      "Epoch 54/95\n",
      "2/2 [==============================] - 2s 972ms/step - loss: 0.3256 - acc: 0.8594 - val_loss: 0.3033 - val_acc: 0.8438\n",
      "Epoch 55/95\n",
      "2/2 [==============================] - 1s 1s/step - loss: 0.5587 - acc: 0.7647 - val_loss: 0.8119 - val_acc: 0.6875\n",
      "Epoch 56/95\n",
      "2/2 [==============================] - 2s 1s/step - loss: 0.3935 - acc: 0.7812 - val_loss: 0.4414 - val_acc: 0.8125\n",
      "Epoch 57/95\n",
      "2/2 [==============================] - 2s 975ms/step - loss: 0.4435 - acc: 0.7969 - val_loss: 0.2331 - val_acc: 0.9375\n",
      "Epoch 58/95\n",
      "2/2 [==============================] - 2s 898ms/step - loss: 0.2328 - acc: 0.8906 - val_loss: 0.2334 - val_acc: 0.8750\n",
      "Epoch 59/95\n",
      "2/2 [==============================] - 2s 889ms/step - loss: 0.2726 - acc: 0.8594 - val_loss: 0.2990 - val_acc: 0.8438\n",
      "Epoch 60/95\n",
      "2/2 [==============================] - 2s 1s/step - loss: 0.3928 - acc: 0.8125 - val_loss: 0.2939 - val_acc: 0.8750\n",
      "Epoch 61/95\n",
      "2/2 [==============================] - 2s 885ms/step - loss: 0.3358 - acc: 0.8750 - val_loss: 0.1687 - val_acc: 0.9688\n",
      "Epoch 62/95\n",
      "2/2 [==============================] - 2s 986ms/step - loss: 0.2238 - acc: 0.9531 - val_loss: 0.2320 - val_acc: 0.8750\n",
      "Epoch 63/95\n",
      "2/2 [==============================] - 1s 1s/step - loss: 0.2831 - acc: 0.8529 - val_loss: 0.1773 - val_acc: 0.9062\n",
      "Epoch 64/95\n",
      "2/2 [==============================] - 2s 1s/step - loss: 0.3707 - acc: 0.8750 - val_loss: 0.1709 - val_acc: 0.9062\n",
      "Epoch 65/95\n",
      "2/2 [==============================] - 2s 996ms/step - loss: 0.2756 - acc: 0.8906 - val_loss: 0.2358 - val_acc: 0.8438\n",
      "Epoch 66/95\n",
      "2/2 [==============================] - 2s 979ms/step - loss: 0.3159 - acc: 0.8750 - val_loss: 0.2948 - val_acc: 0.8750\n",
      "Epoch 67/95\n",
      "2/2 [==============================] - 2s 865ms/step - loss: 0.2175 - acc: 0.9219 - val_loss: 0.4331 - val_acc: 0.8125\n",
      "Epoch 68/95\n",
      "2/2 [==============================] - 2s 878ms/step - loss: 0.3638 - acc: 0.8281 - val_loss: 0.2809 - val_acc: 0.8750\n",
      "Epoch 69/95\n",
      "2/2 [==============================] - 1s 443ms/step - loss: 0.2940 - acc: 0.8824 - val_loss: 0.4041 - val_acc: 0.8125\n",
      "Epoch 70/95\n",
      "2/2 [==============================] - 1s 1s/step - loss: 0.2988 - acc: 0.8824 - val_loss: 1.6089 - val_acc: 0.3750\n",
      "Epoch 71/95\n",
      "2/2 [==============================] - 2s 1s/step - loss: 1.0049 - acc: 0.5938 - val_loss: 1.2706 - val_acc: 0.5000\n",
      "Epoch 72/95\n",
      "2/2 [==============================] - 2s 897ms/step - loss: 0.8955 - acc: 0.5625 - val_loss: 0.5103 - val_acc: 0.6562\n",
      "Epoch 73/95\n",
      "2/2 [==============================] - 1s 397ms/step - loss: 0.4148 - acc: 0.8235 - val_loss: 0.3132 - val_acc: 0.8438\n",
      "Epoch 74/95\n",
      "2/2 [==============================] - 2s 975ms/step - loss: 0.3310 - acc: 0.8906 - val_loss: 0.3544 - val_acc: 0.9062\n",
      "Epoch 75/95\n",
      "2/2 [==============================] - 1s 1s/step - loss: 0.5593 - acc: 0.7353 - val_loss: 0.4353 - val_acc: 0.8438\n",
      "Epoch 76/95\n",
      "2/2 [==============================] - 2s 945ms/step - loss: 0.5390 - acc: 0.7031 - val_loss: 0.5049 - val_acc: 0.7812\n",
      "Epoch 77/95\n",
      "2/2 [==============================] - 1s 1s/step - loss: 0.4696 - acc: 0.8235 - val_loss: 0.3166 - val_acc: 0.9062\n",
      "Epoch 78/95\n",
      "2/2 [==============================] - 1s 410ms/step - loss: 0.4490 - acc: 0.7941 - val_loss: 0.3860 - val_acc: 0.8438\n",
      "Epoch 79/95\n",
      "2/2 [==============================] - 2s 971ms/step - loss: 0.3827 - acc: 0.8906 - val_loss: 0.4250 - val_acc: 0.8438\n",
      "Epoch 80/95\n",
      "2/2 [==============================] - 2s 951ms/step - loss: 0.4904 - acc: 0.7812 - val_loss: 0.3849 - val_acc: 0.8125\n",
      "Epoch 81/95\n",
      "2/2 [==============================] - 1s 413ms/step - loss: 0.4373 - acc: 0.8824 - val_loss: 0.3031 - val_acc: 0.9062\n",
      "Epoch 82/95\n",
      "2/2 [==============================] - 2s 1s/step - loss: 0.3477 - acc: 0.8824 - val_loss: 0.4341 - val_acc: 0.7812\n",
      "Epoch 83/95\n",
      "2/2 [==============================] - 1s 1s/step - loss: 0.3180 - acc: 0.8824 - val_loss: 0.3874 - val_acc: 0.8125\n",
      "Epoch 84/95\n",
      "2/2 [==============================] - 2s 978ms/step - loss: 0.3613 - acc: 0.8438 - val_loss: 0.3355 - val_acc: 0.7812\n",
      "Epoch 85/95\n",
      "2/2 [==============================] - 2s 972ms/step - loss: 0.3187 - acc: 0.8594 - val_loss: 0.2941 - val_acc: 0.8750\n",
      "Epoch 86/95\n",
      "2/2 [==============================] - 2s 900ms/step - loss: 0.3519 - acc: 0.8438 - val_loss: 0.3641 - val_acc: 0.8750\n",
      "Epoch 87/95\n",
      "2/2 [==============================] - 2s 959ms/step - loss: 0.4286 - acc: 0.8750 - val_loss: 0.3552 - val_acc: 0.8438\n",
      "Epoch 88/95\n",
      "2/2 [==============================] - 2s 1s/step - loss: 0.2564 - acc: 0.9219 - val_loss: 0.4386 - val_acc: 0.7500\n",
      "Epoch 89/95\n",
      "2/2 [==============================] - 1s 1s/step - loss: 0.2016 - acc: 0.8824 - val_loss: 0.3149 - val_acc: 0.8438\n",
      "Epoch 90/95\n",
      "2/2 [==============================] - 2s 1s/step - loss: 0.3456 - acc: 0.8438 - val_loss: 0.4016 - val_acc: 0.8750\n",
      "Epoch 91/95\n",
      "2/2 [==============================] - 2s 1s/step - loss: 0.3609 - acc: 0.8594 - val_loss: 0.2504 - val_acc: 0.9375\n",
      "Epoch 92/95\n",
      "2/2 [==============================] - 2s 986ms/step - loss: 0.1862 - acc: 0.9375 - val_loss: 0.3794 - val_acc: 0.8438\n",
      "Epoch 93/95\n",
      "2/2 [==============================] - 2s 988ms/step - loss: 0.3437 - acc: 0.8594 - val_loss: 0.3769 - val_acc: 0.8125\n",
      "Epoch 94/95\n",
      "2/2 [==============================] - 1s 1s/step - loss: 0.4774 - acc: 0.7941 - val_loss: 0.2995 - val_acc: 0.9062\n",
      "Epoch 95/95\n",
      "2/2 [==============================] - 2s 972ms/step - loss: 0.2270 - acc: 0.9219 - val_loss: 0.1680 - val_acc: 0.9375\n"
     ]
    }
   ],
   "source": [
    "history = model.fit_generator(\n",
    "train_generator,\n",
    "steps_per_epoch=2,\n",
    "epochs=95,\n",
    "validation_data=validation_generator,\n",
    "validation_steps=1)"
   ]
  },
  {
   "cell_type": "code",
   "execution_count": 23,
   "metadata": {
    "execution": {
     "iopub.execute_input": "2022-11-26T19:14:03.251727Z",
     "iopub.status.busy": "2022-11-26T19:14:03.250972Z",
     "iopub.status.idle": "2022-11-26T19:14:03.688478Z",
     "shell.execute_reply": "2022-11-26T19:14:03.687603Z",
     "shell.execute_reply.started": "2022-11-26T19:14:03.251687Z"
    }
   },
   "outputs": [
    {
     "data": {
      "image/png": "[encoded data removed]",
      "text/plain": [
       "<Figure size 432x288 with 1 Axes>"
      ]
     },
     "metadata": {
      "needs_background": "light"
     },
     "output_type": "display_data"
    },
    {
     "data": {
      "image/png": "[encoded data removed]",
      "text/plain": [
       "<Figure size 432x288 with 1 Axes>"
      ]
     },
     "metadata": {
      "needs_background": "light"
     },
     "output_type": "display_data"
    }
   ],
   "source": [
    "import matplotlib.pyplot as plt\n",
    "\n",
    "acc= history.history['acc']\n",
    "val_acc = history.history['val_acc']\n",
    "loss = history.history['loss']\n",
    "val_loss = history.history['val_loss']\n",
    "\n",
    "epochs = range(1, len(acc) +1)\n",
    "\n",
    "plt.plot(epochs, acc, 'bo', label='Training acc')\n",
    "plt.plot(epochs, val_acc, 'b', label='Validation acc')\n",
    "plt.title('Training and Validation Accuracy')\n",
    "plt.legend()\n",
    "\n",
    "plt.figure()\n",
    "\n",
    "plt.plot(epochs, loss, 'bo', label='Training loss')\n",
    "plt.plot(epochs, val_loss, 'b', label='Validation loss')\n",
    "plt.title('Training and Validation Loss')\n",
    "plt.legend()\n",
    "\n",
    "plt.show()"
   ]
  },
  {
   "cell_type": "markdown",
   "metadata": {},
   "source": [
    "# 8. KISIM -B- Modeli tekrar kaydettiğim kısım"
   ]
  },
  {
   "cell_type": "code",
   "execution_count": 24,
   "metadata": {
    "execution": {
     "iopub.execute_input": "2022-11-26T19:14:03.690196Z",
     "iopub.status.busy": "2022-11-26T19:14:03.689830Z",
     "iopub.status.idle": "2022-11-26T19:14:05.649729Z",
     "shell.execute_reply": "2022-11-26T19:14:05.648545Z",
     "shell.execute_reply.started": "2022-11-26T19:14:03.690153Z"
    }
   },
   "outputs": [],
   "source": [
    "model.save('Coffee Imagesss')"
   ]
  },
  {
   "cell_type": "markdown",
   "metadata": {},
   "source": [
    "# 8. KISIM -C- Test performansını gözlemleyeceğim kısım"
   ]
  },
  {
   "cell_type": "code",
   "execution_count": 25,
   "metadata": {
    "execution": {
     "iopub.execute_input": "2022-11-26T19:14:05.654894Z",
     "iopub.status.busy": "2022-11-26T19:14:05.654476Z",
     "iopub.status.idle": "2022-11-26T19:14:06.340296Z",
     "shell.execute_reply": "2022-11-26T19:14:06.339090Z",
     "shell.execute_reply.started": "2022-11-26T19:14:05.654855Z"
    }
   },
   "outputs": [
    {
     "name": "stdout",
     "output_type": "stream",
     "text": [
      "Found 58 images belonging to 2 classes.\n",
      "18/18 [==============================] - 0s 15ms/step - loss: 0.3064 - acc: 0.8276\n",
      "test acc: 0.8275862336158752\n"
     ]
    }
   ],
   "source": [
    "test_generator=test_datagen.flow_from_directory(\n",
    "test_dir,\n",
    "target_size=(150,150),\n",
    "batch_size=20,\n",
    "class_mode='categorical')\n",
    "\n",
    "test_loss, test_acc = model.evaluate(test_generator, steps=18)\n",
    "print('test acc:', test_acc)\n"
   ]
  },
  {
   "cell_type": "code",
   "execution_count": 3,
   "metadata": {
    "execution": {
     "iopub.execute_input": "2022-11-27T08:57:22.558419Z",
     "iopub.status.busy": "2022-11-27T08:57:22.557949Z",
     "iopub.status.idle": "2022-11-27T08:57:42.828500Z",
     "shell.execute_reply": "2022-11-27T08:57:42.826583Z",
     "shell.execute_reply.started": "2022-11-27T08:57:22.558383Z"
    }
   },
   "outputs": [],
   "source": [
    "#VGG16\n",
    "from keras.applications import VGG16\n",
    "conv_base = VGG16(weights='imagenet',                       #Modeli imagenet üzerinde başlatıyorum       \n",
    "                 include_top=False,\n",
    "                 input_shape=(150, 150, 3))"
   ]
  },
  {
   "cell_type": "code",
   "execution_count": 4,
   "metadata": {
    "execution": {
     "iopub.execute_input": "2022-11-26T19:21:02.840035Z",
     "iopub.status.busy": "2022-11-26T19:21:02.839624Z",
     "iopub.status.idle": "2022-11-26T19:21:02.866149Z",
     "shell.execute_reply": "2022-11-26T19:21:02.864610Z",
     "shell.execute_reply.started": "2022-11-26T19:21:02.840002Z"
    }
   },
   "outputs": [
    {
     "name": "stdout",
     "output_type": "stream",
     "text": [
      "Model: \"vgg16\"\n",
      "_________________________________________________________________\n",
      " Layer (type)                Output Shape              Param #   \n",
      "=================================================================\n",
      " input_1 (InputLayer)        [(None, 150, 150, 3)]     0         \n",
      "                                                                 \n",
      " block1_conv1 (Conv2D)       (None, 150, 150, 64)      1792      \n",
      "                                                                 \n",
      " block1_conv2 (Conv2D)       (None, 150, 150, 64)      36928     \n",
      "                                                                 \n",
      " block1_pool (MaxPooling2D)  (None, 75, 75, 64)        0         \n",
      "                                                                 \n",
      " block2_conv1 (Conv2D)       (None, 75, 75, 128)       73856     \n",
      "                                                                 \n",
      " block2_conv2 (Conv2D)       (None, 75, 75, 128)       147584    \n",
      "                                                                 \n",
      " block2_pool (MaxPooling2D)  (None, 37, 37, 128)       0         \n",
      "                                                                 \n",
      " block3_conv1 (Conv2D)       (None, 37, 37, 256)       295168    \n",
      "                                                                 \n",
      " block3_conv2 (Conv2D)       (None, 37, 37, 256)       590080    \n",
      "                                                                 \n",
      " block3_conv3 (Conv2D)       (None, 37, 37, 256)       590080    \n",
      "                                                                 \n",
      " block3_pool (MaxPooling2D)  (None, 18, 18, 256)       0         \n",
      "                                                                 \n",
      " block4_conv1 (Conv2D)       (None, 18, 18, 512)       1180160   \n",
      "                                                                 \n",
      " block4_conv2 (Conv2D)       (None, 18, 18, 512)       2359808   \n",
      "                                                                 \n",
      " block4_conv3 (Conv2D)       (None, 18, 18, 512)       2359808   \n",
      "                                                                 \n",
      " block4_pool (MaxPooling2D)  (None, 9, 9, 512)         0         \n",
      "                                                                 \n",
      " block5_conv1 (Conv2D)       (None, 9, 9, 512)         2359808   \n",
      "                                                                 \n",
      " block5_conv2 (Conv2D)       (None, 9, 9, 512)         2359808   \n",
      "                                                                 \n",
      " block5_conv3 (Conv2D)       (None, 9, 9, 512)         2359808   \n",
      "                                                                 \n",
      " block5_pool (MaxPooling2D)  (None, 4, 4, 512)         0         \n",
      "                                                                 \n",
      "=================================================================\n",
      "Total params: 14,714,688\n",
      "Trainable params: 14,714,688\n",
      "Non-trainable params: 0\n",
      "_________________________________________________________________\n"
     ]
    }
   ],
   "source": [
    "conv_base.summary()"
   ]
  },
  {
   "cell_type": "code",
   "execution_count": null,
   "metadata": {
    "execution": {
     "iopub.status.busy": "2022-11-26T19:14:06.392575Z",
     "iopub.status.idle": "2022-11-26T19:14:06.393397Z",
     "shell.execute_reply": "2022-11-26T19:14:06.393181Z",
     "shell.execute_reply.started": "2022-11-26T19:14:06.393149Z"
    }
   },
   "outputs": [],
   "source": [
    "import numpy as np\n",
    "import os\n",
    "from keras.preprocessing.image import ImageDataGenerator\n",
    "\n",
    "datagen = ImageDataGenerator(rescale=1./255)\n",
    "\n",
    "\n",
    "def extract_features(directory, sample_count):\n",
    "    features = np.zeros(shape=(sample_count, 4, 4, 512))\n",
    "    labels = np.zeros(shape=(sample_count))\n",
    "    generator = datagen.flow_from_directory(\n",
    "        directory,\n",
    "        target_size=(150, 150),\n",
    "        batch_size=20,\n",
    "        class_mode='categorical')\n",
    "    i=0\n",
    "    for inputs_batch, labels_batch in generator:\n",
    "        features_batch = conv_base.predict(inputs_batch)\n",
    "        features[i * batch_size : (i + 1) * batch_size] = features_batch\n",
    "        labels[i * batch_size : (i + 1) * batch_size] = labels_batch\n",
    "        i += 1\n",
    "        if i * batch_size >= sample_count:\n",
    "            break\n",
    "    return features, labels"
   ]
  },
  {
   "cell_type": "code",
   "execution_count": null,
   "metadata": {
    "execution": {
     "iopub.status.busy": "2022-11-26T19:14:06.395076Z",
     "iopub.status.idle": "2022-11-26T19:14:06.396125Z",
     "shell.execute_reply": "2022-11-26T19:14:06.395869Z",
     "shell.execute_reply.started": "2022-11-26T19:14:06.395825Z"
    }
   },
   "outputs": [],
   "source": [
    "train_features, train_labels = extract_features(train_dir, 162)\n",
    "validation_features, validation_labels = extract_features(validation_dir, 80)\n",
    "test_features, test_labels = extract_features(test_dir, 58)"
   ]
  },
  {
   "cell_type": "code",
   "execution_count": null,
   "metadata": {
    "execution": {
     "iopub.status.busy": "2022-11-26T19:14:06.400698Z",
     "iopub.status.idle": "2022-11-26T19:14:06.401227Z",
     "shell.execute_reply": "2022-11-26T19:14:06.401006Z",
     "shell.execute_reply.started": "2022-11-26T19:14:06.400985Z"
    }
   },
   "outputs": [],
   "source": [
    "train_features = np.reshape(train_features, (162, 4*4* 512))\n",
    "validation_features = np.reshape(validation_features, (80, 4*4* 512))\n",
    "test_features = np.reshape(test_features, (58, 4*4* 512))\n",
    "\n",
    "from keras import models\n",
    "from keras import layers\n",
    "from keras import optimizers\n",
    "\n",
    "model = models.Sequential()\n",
    "model.add(layers.Dense(256, activation='relu', input_dim= 4 * 4 * 512))\n",
    "model.add(layers.Dropout(0.5))\n",
    "model.add(layers.Dense(9, activation='softmax'))\n",
    "\n",
    "model.compile(loss='categorical_crossentropy',\n",
    "              optimizer=optimizers.Adam(learning_rate=0.001),\n",
    "              metrics=['acc'])\n",
    "\n",
    "model.summary()\n",
    "history = model.fit(train_features, train_labels,\n",
    "                    epochs=30,\n",
    "                    batch_size=20,\n",
    "                    validation_data=(validation_features, validation_labels))"
   ]
  },
  {
   "cell_type": "code",
   "execution_count": null,
   "metadata": {
    "execution": {
     "iopub.status.busy": "2022-11-26T19:14:06.402832Z",
     "iopub.status.idle": "2022-11-26T19:14:06.403689Z",
     "shell.execute_reply": "2022-11-26T19:14:06.403461Z",
     "shell.execute_reply.started": "2022-11-26T19:14:06.403438Z"
    }
   },
   "outputs": [],
   "source": [
    "import matplotlib.pyplot as plt\n",
    "\n",
    "acc = history.history['acc']\n",
    "val_acc = history.history['val_acc']\n",
    "loss = history.history['loss']\n",
    "val_loss = history.history['val_loss']\n",
    "epochs = range(1, len(acc) + 1)\n",
    "plt.plot(epochs, acc, 'bo', label='Training acc')\n",
    "plt.plot(epochs, val_acc, 'b', label='Validation acc')\n",
    "plt.title('Training and validation accuracy')\n",
    "plt.legend()\n",
    "plt.figure()\n",
    "plt.plot(epochs, loss, 'bo', label='Training loss')\n",
    "plt.plot(epochs, val_loss, 'b', label='Validation loss')\n",
    "plt.title('Training and validation loss')\n",
    "plt.legend()\n",
    "plt.show()"
   ]
  },
  {
   "cell_type": "code",
   "execution_count": null,
   "metadata": {
    "execution": {
     "iopub.status.busy": "2022-11-26T19:14:06.405658Z",
     "iopub.status.idle": "2022-11-26T19:14:06.406130Z",
     "shell.execute_reply": "2022-11-26T19:14:06.405922Z",
     "shell.execute_reply.started": "2022-11-26T19:14:06.405900Z"
    }
   },
   "outputs": [],
   "source": [
    "from keras import models \n",
    "from keras import layers\n",
    "\n",
    "model = models.Sequential()\n",
    "model.add(conv_base)\n",
    "model.add(layers.Flatten())\n",
    "model.add(layers.Dense(256, activation='relu')) \n",
    "model.add(layers.Dense(2, activation='softmax\"))"
   ]
  },
  {
   "cell_type": "code",
   "execution_count": null,
   "metadata": {
    "execution": {
     "iopub.status.busy": "2022-11-26T19:14:06.407916Z",
     "iopub.status.idle": "2022-11-26T19:14:06.408363Z",
     "shell.execute_reply": "2022-11-26T19:14:06.408182Z",
     "shell.execute_reply.started": "2022-11-26T19:14:06.408160Z"
    }
   },
   "outputs": [],
   "source": [
    "model.summary()"
   ]
  },
  {
   "cell_type": "code",
   "execution_count": null,
   "metadata": {
    "execution": {
     "iopub.status.busy": "2022-11-26T19:14:06.409426Z",
     "iopub.status.idle": "2022-11-26T19:14:06.409838Z",
     "shell.execute_reply": "2022-11-26T19:14:06.409654Z",
     "shell.execute_reply.started": "2022-11-26T19:14:06.409634Z"
    }
   },
   "outputs": [],
   "source": [
    "print ('This is the number of trainable weights'\n",
    "      'before freezing the conv base:', len(model.trainable_weights))\n",
    "\n",
    "conv_base.trainable = False\n",
    "print('This is the number of trainable weights'\n",
    "      'after freezing the conv base:' , len(model.trainable_weights))\n"
   ]
  },
  {
   "cell_type": "code",
   "execution_count": null,
   "metadata": {
    "execution": {
     "iopub.status.busy": "2022-11-26T19:14:06.411980Z",
     "iopub.status.idle": "2022-11-26T19:14:06.412423Z",
     "shell.execute_reply": "2022-11-26T19:14:06.412232Z",
     "shell.execute_reply.started": "2022-11-26T19:14:06.412211Z"
    }
   },
   "outputs": [],
   "source": [
    "from keras.preprocessing.image import ImageDataGenerator\n",
    "from keras import optimizers\n",
    "\n",
    "train_datagen = ImageDataGenerator(\n",
    "          rescale=1./255,\n",
    "          rotation_range=40,\n",
    "          width_shift_range=0.2,\n",
    "          height_shift_range=0.2,\n",
    "          shear_range=0.2,\n",
    "          zoom_range=0.2,\n",
    "          horizontal_flip=True,\n",
    "          fill_mode='nearest')\n",
    "\n",
    "test_datagen = ImageDataGenerator(rescale=1./255)"
   ]
  },
  {
   "cell_type": "code",
   "execution_count": null,
   "metadata": {
    "execution": {
     "iopub.status.busy": "2022-11-26T19:14:06.414489Z",
     "iopub.status.idle": "2022-11-26T19:14:06.414924Z",
     "shell.execute_reply": "2022-11-26T19:14:06.414736Z",
     "shell.execute_reply.started": "2022-11-26T19:14:06.414715Z"
    }
   },
   "outputs": [],
   "source": [
    "train_generator = train_datagen.flow_from_directory(\n",
    "train_dir,\n",
    "target_size=(150, 150),\n",
    "batch_size=20,\n",
    "class_mode='categorical')\n",
    "\n",
    "validation_generator=test_datagen.flow_from_directory(\n",
    "validation_dir,\n",
    "target_size=(150, 150),\n",
    "batch_size=20,\n",
    "class_mode='categorical')\n",
    "\n",
    "model.compile(optimizer=Adam(learning_rate=0.001), \n",
    "              loss='categorical_crossentropy', \n",
    "              metrics=[' acc'])\n",
    "history = model.fit_generator(\n",
    "                    train_generator, \n",
    "                    steps_per_epoch=2,\n",
    "                    epochs=30,\n",
    "                    validation_data=validation_generator,\n",
    "                    validation_steps=1)"
   ]
  },
  {
   "cell_type": "code",
   "execution_count": 2,
   "metadata": {
    "execution": {
     "iopub.status.busy": "2022-11-26T19:14:06.416992Z",
     "iopub.status.idle": "2022-11-26T19:14:06.417543Z",
     "shell.execute_reply": "2022-11-26T19:14:06.417330Z",
     "shell.execute_reply.started": "2022-11-26T19:14:06.417308Z"
    }
   },
   "outputs": [
    {
     "ename": "NameError",
     "evalue": "name 'conv_base' is not defined",
     "output_type": "error",
     "traceback": [
      "\u001b[1;31m---------------------------------------------------------------------------\u001b[0m",
      "\u001b[1;31mNameError\u001b[0m                                 Traceback (most recent call last)",
      "\u001b[1;32m~\\AppData\\Local\\Temp\\ipykernel_16768\\3453277750.py\u001b[0m in \u001b[0;36m<module>\u001b[1;34m\u001b[0m\n\u001b[1;32m----> 1\u001b[1;33m \u001b[0mconv_base\u001b[0m\u001b[1;33m.\u001b[0m\u001b[0msummary\u001b[0m\u001b[1;33m(\u001b[0m\u001b[1;33m)\u001b[0m\u001b[1;33m\u001b[0m\u001b[1;33m\u001b[0m\u001b[0m\n\u001b[0m",
      "\u001b[1;31mNameError\u001b[0m: name 'conv_base' is not defined"
     ]
    }
   ],
   "source": [
    "conv_base.summary()"
   ]
  },
  {
   "cell_type": "code",
   "execution_count": null,
   "metadata": {
    "execution": {
     "iopub.status.busy": "2022-11-26T19:14:06.419386Z",
     "iopub.status.idle": "2022-11-26T19:14:06.419788Z",
     "shell.execute_reply": "2022-11-26T19:14:06.419618Z",
     "shell.execute_reply.started": "2022-11-26T19:14:06.419599Z"
    }
   },
   "outputs": [],
   "source": [
    "conv_base.trainable = True\n",
    "\n",
    "set_trainable = False\n",
    "for layer in conv_base.layers:\n",
    "    if layer.name == 'block5_conv1':\n",
    "        set_trainable = True\n",
    "    if set_trainable:\n",
    "        layer.trainable = True\n",
    "    else:\n",
    "        layer.trainable = False"
   ]
  },
  {
   "cell_type": "code",
   "execution_count": null,
   "metadata": {
    "execution": {
     "iopub.status.busy": "2022-11-26T19:14:06.421214Z",
     "iopub.status.idle": "2022-11-26T19:14:06.421619Z",
     "shell.execute_reply": "2022-11-26T19:14:06.421450Z",
     "shell.execute_reply.started": "2022-11-26T19:14:06.421432Z"
    }
   },
   "outputs": [],
   "source": [
    "model.compile(optimizer=Adam(learning_rate=0.001), \n",
    "              loss='categorical_crossentropy', \n",
    "              metrics=['acc'])\n",
    "history = model.fit_generator(\n",
    "                    train_generator, \n",
    "                    steps_per_epoch=2,\n",
    "                    epochs=100,\n",
    "                    validation_data=validation_generator,\n",
    "                    validation_steps=1)"
   ]
  },
  {
   "cell_type": "code",
   "execution_count": null,
   "metadata": {
    "execution": {
     "iopub.status.busy": "2022-11-26T19:14:06.422887Z",
     "iopub.status.idle": "2022-11-26T19:14:06.423341Z",
     "shell.execute_reply": "2022-11-26T19:14:06.423133Z",
     "shell.execute_reply.started": "2022-11-26T19:14:06.423087Z"
    }
   },
   "outputs": [],
   "source": [
    "def smooth_curve(points, factor=0.8):\n",
    "    smoothed_points = []\n",
    "    for point in points:\n",
    "        if smoothed_points:\n",
    "        previous=smoothed_points[-1]\n",
    "        smoothed_points.append(previous * factor + point * (1 - factor))\n",
    "        else:\n",
    "        smoothed_points.append(point)\n",
    "        return smoothed_points\n",
    "plt.plot(epochs,\n",
    "         smooth_curve(acc), 'bo', label='Smoothed training acc')\n",
    "plt.plot(epochs,\n",
    "          smooth_curve(val_acc), 'b', label='Smoothed validation acc')\n",
    "plt.title('Training and validation accuracy')\n",
    "plt.legend()\n",
    "plt.figure()\n",
    "plt.plot(epochs,\n",
    "         smooth_curve(loss), 'bo', label='Smoothed training loss')\n",
    "plt.plot (epochs,\n",
    "          smooth_curve(val_loss), 'b', label='Smoothed validation loss')\n",
    "plt.title('Training and validation loss')\n",
    "plt.legend()\n",
    "plt.show()"
   ]
  },
  {
   "cell_type": "code",
   "execution_count": null,
   "metadata": {
    "execution": {
     "iopub.status.busy": "2022-11-26T19:14:06.424374Z",
     "iopub.status.idle": "2022-11-26T19:14:06.424762Z",
     "shell.execute_reply": "2022-11-26T19:14:06.424588Z",
     "shell.execute_reply.started": "2022-11-26T19:14:06.424570Z"
    }
   },
   "outputs": [],
   "source": [
    "test_generator = test_datagen.flow_from_directory(\n",
    "        test_dir,\n",
    "        target_size= (150, 150), \n",
    "        batch_size=20,\n",
    "        class_mode= 'categorical')\n",
    "test_loss, test_acc = model.evaluate_generator(test_generator, steps=50)\n",
    "print('test acc:', test_acc)"
   ]
  }
 ],
 "metadata": {
  "kernelspec": {
   "display_name": "Python 3 (ipykernel)",
   "language": "python",
   "name": "python3"
  },
  "language_info": {
   "codemirror_mode": {
    "name": "ipython",
    "version": 3
   },
   "file_extension": ".py",
   "mimetype": "text/x-python",
   "name": "python",
   "nbconvert_exporter": "python",
   "pygments_lexer": "ipython3",
   "version": "3.9.13"
  }
 },
 "nbformat": 4,
 "nbformat_minor": 4
}
