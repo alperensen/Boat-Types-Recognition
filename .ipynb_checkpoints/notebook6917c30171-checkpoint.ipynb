{
 "cells": [
  {
   "cell_type": "code",
   "execution_count": 1,
   "metadata": {
    "execution": {
     "iopub.execute_input": "2022-11-27T08:49:30.234166Z",
     "iopub.status.busy": "2022-11-27T08:49:30.233704Z",
     "iopub.status.idle": "2022-11-27T08:49:30.261475Z",
     "shell.execute_reply": "2022-11-27T08:49:30.260276Z",
     "shell.execute_reply.started": "2022-11-27T08:49:30.234072Z"
    }
   },
   "outputs": [],
   "source": [
    "import os\n",
    "base_dir = (r\"/kaggle/input/deep-learning2\")\n",
    "train_dir = os.path.join(base_dir, \"train\")\n",
    "validation_dir = os.path.join(base_dir, \"validation\")\n",
    "test_dir = os.path.join(base_dir, \"test\")"
   ]
  },
  {
   "cell_type": "code",
   "execution_count": 6,
   "metadata": {
    "execution": {
     "iopub.execute_input": "2022-11-26T20:46:37.217633Z",
     "iopub.status.busy": "2022-11-26T20:46:37.217219Z",
     "iopub.status.idle": "2022-11-26T20:46:37.229315Z",
     "shell.execute_reply": "2022-11-26T20:46:37.228320Z",
     "shell.execute_reply.started": "2022-11-26T20:46:37.217601Z"
    }
   },
   "outputs": [
    {
     "name": "stdout",
     "output_type": "stream",
     "text": [
      "10000\n"
     ]
    }
   ],
   "source": [
    "print(len(os.listdir(r\"/kaggle/input/deep-learning2/train/disappointed\")))"
   ]
  },
  {
   "cell_type": "code",
   "execution_count": 7,
   "metadata": {
    "execution": {
     "iopub.execute_input": "2022-11-26T20:47:30.900621Z",
     "iopub.status.busy": "2022-11-26T20:47:30.900224Z",
     "iopub.status.idle": "2022-11-26T20:47:37.460622Z",
     "shell.execute_reply": "2022-11-26T20:47:37.459583Z",
     "shell.execute_reply.started": "2022-11-26T20:47:30.900592Z"
    }
   },
   "outputs": [
    {
     "name": "stderr",
     "output_type": "stream",
     "text": [
      "2022-11-26 20:47:37.135889: I tensorflow/core/common_runtime/process_util.cc:146] Creating new thread pool with default inter op setting: 2. Tune using inter_op_parallelism_threads for best performance.\n"
     ]
    },
    {
     "name": "stdout",
     "output_type": "stream",
     "text": [
      "Model: \"sequential\"\n",
      "_________________________________________________________________\n",
      "Layer (type)                 Output Shape              Param #   \n",
      "=================================================================\n",
      "conv2d (Conv2D)              (None, 62, 62, 32)        896       \n",
      "_________________________________________________________________\n",
      "max_pooling2d (MaxPooling2D) (None, 31, 31, 32)        0         \n",
      "_________________________________________________________________\n",
      "conv2d_1 (Conv2D)            (None, 29, 29, 64)        18496     \n",
      "_________________________________________________________________\n",
      "max_pooling2d_1 (MaxPooling2 (None, 14, 14, 64)        0         \n",
      "_________________________________________________________________\n",
      "conv2d_2 (Conv2D)            (None, 12, 12, 128)       73856     \n",
      "_________________________________________________________________\n",
      "max_pooling2d_2 (MaxPooling2 (None, 6, 6, 128)         0         \n",
      "_________________________________________________________________\n",
      "conv2d_3 (Conv2D)            (None, 4, 4, 128)         147584    \n",
      "_________________________________________________________________\n",
      "max_pooling2d_3 (MaxPooling2 (None, 2, 2, 128)         0         \n",
      "_________________________________________________________________\n",
      "flatten (Flatten)            (None, 512)               0         \n",
      "_________________________________________________________________\n",
      "dense (Dense)                (None, 512)               262656    \n",
      "_________________________________________________________________\n",
      "dense_1 (Dense)              (None, 3)                 1539      \n",
      "=================================================================\n",
      "Total params: 505,027\n",
      "Trainable params: 505,027\n",
      "Non-trainable params: 0\n",
      "_________________________________________________________________\n"
     ]
    }
   ],
   "source": [
    "from keras import layers\n",
    "from keras import models\n",
    "\n",
    "model = models.Sequential()\n",
    "model.add(layers.Conv2D(32, (3, 3), activation='relu',input_shape=(64,64,3)))\n",
    "model.add(layers.MaxPooling2D((2,2)))\n",
    "model.add(layers.Conv2D(64, (3, 3), activation='relu'))\n",
    "model.add(layers.MaxPooling2D((2,2)))\n",
    "model.add(layers.Conv2D(128, (3, 3), activation='relu'))\n",
    "model.add(layers.MaxPooling2D((2,2)))\n",
    "model.add(layers.Conv2D(128, (3, 3), activation='relu'))\n",
    "model.add(layers.MaxPooling2D((2,2)))\n",
    "model.add(layers.Flatten())\n",
    "model.add(layers.Dense(512, activation='relu'))\n",
    "model.add(layers.Dense(3, activation='softmax'))\n",
    "\n",
    "model.summary()"
   ]
  },
  {
   "cell_type": "code",
   "execution_count": 8,
   "metadata": {
    "execution": {
     "iopub.execute_input": "2022-11-26T20:48:12.598993Z",
     "iopub.status.busy": "2022-11-26T20:48:12.598551Z",
     "iopub.status.idle": "2022-11-26T20:48:13.028992Z",
     "shell.execute_reply": "2022-11-26T20:48:13.027687Z",
     "shell.execute_reply.started": "2022-11-26T20:48:12.598960Z"
    }
   },
   "outputs": [],
   "source": [
    "from tensorflow.keras.optimizers import RMSprop\n",
    "\n",
    "model.compile(loss = \"categorical_crossentropy\",\n",
    "              optimizer = RMSprop(learning_rate =1e-4),\n",
    "              metrics = [\"acc\"])"
   ]
  },
  {
   "cell_type": "code",
   "execution_count": 3,
   "metadata": {
    "execution": {
     "iopub.execute_input": "2022-11-27T08:52:40.544284Z",
     "iopub.status.busy": "2022-11-27T08:52:40.543857Z",
     "iopub.status.idle": "2022-11-27T08:53:26.760528Z",
     "shell.execute_reply": "2022-11-27T08:53:26.759360Z",
     "shell.execute_reply.started": "2022-11-27T08:52:40.544241Z"
    }
   },
   "outputs": [
    {
     "name": "stdout",
     "output_type": "stream",
     "text": [
      "Found 36000 images belonging to 3 classes.\n",
      "Found 6000 images belonging to 3 classes.\n"
     ]
    }
   ],
   "source": [
    "from keras.preprocessing.image import ImageDataGenerator\n",
    "\n",
    "train_datagen = ImageDataGenerator(rescale=1./255)\n",
    "val_datagen = ImageDataGenerator(rescale=1./255)\n",
    "\n",
    "train_generator = train_datagen.flow_from_directory(\n",
    "        train_dir,\n",
    "        target_size=(64,64),\n",
    "        batch_size=20,\n",
    "        class_mode='categorical')\n",
    "\n",
    "validation_generator = val_datagen.flow_from_directory(\n",
    "        validation_dir,\n",
    "        target_size=(64,64),\n",
    "        batch_size=20,\n",
    "        class_mode='categorical')"
   ]
  },
  {
   "cell_type": "code",
   "execution_count": 10,
   "metadata": {
    "execution": {
     "iopub.execute_input": "2022-11-26T20:49:13.151127Z",
     "iopub.status.busy": "2022-11-26T20:49:13.150616Z",
     "iopub.status.idle": "2022-11-26T20:49:13.337219Z",
     "shell.execute_reply": "2022-11-26T20:49:13.335991Z",
     "shell.execute_reply.started": "2022-11-26T20:49:13.151083Z"
    }
   },
   "outputs": [
    {
     "name": "stdout",
     "output_type": "stream",
     "text": [
      "data batch shape: (20, 64, 64, 3)\n",
      "labels batch shape: (20, 3)\n",
      "data batch shape: (20, 64, 64, 3)\n",
      "labels batch shape: (20, 3)\n"
     ]
    }
   ],
   "source": [
    "for data_batch, labels_batch in train_generator:\n",
    "    print('data batch shape:', data_batch.shape)\n",
    "    print('labels batch shape:', labels_batch.shape)\n",
    "    break\n",
    "for data_batch, labels_batch in validation_generator:\n",
    "    print('data batch shape:', data_batch.shape)\n",
    "    print('labels batch shape:', labels_batch.shape)\n",
    "    break"
   ]
  },
  {
   "cell_type": "code",
   "execution_count": 16,
   "metadata": {
    "execution": {
     "iopub.execute_input": "2022-11-26T21:01:58.691013Z",
     "iopub.status.busy": "2022-11-26T21:01:58.690526Z",
     "iopub.status.idle": "2022-11-26T21:16:32.050053Z",
     "shell.execute_reply": "2022-11-26T21:16:32.048895Z",
     "shell.execute_reply.started": "2022-11-26T21:01:58.690976Z"
    }
   },
   "outputs": [
    {
     "name": "stdout",
     "output_type": "stream",
     "text": [
      "Epoch 1/100\n",
      "100/100 [==============================] - 8s 83ms/step - loss: 0.8818 - acc: 0.5655 - val_loss: 0.9462 - val_acc: 0.5340\n",
      "Epoch 2/100\n",
      "100/100 [==============================] - 8s 80ms/step - loss: 0.8782 - acc: 0.5955 - val_loss: 0.9075 - val_acc: 0.5710\n",
      "Epoch 3/100\n",
      "100/100 [==============================] - 9s 89ms/step - loss: 0.8755 - acc: 0.5760 - val_loss: 0.9307 - val_acc: 0.5350\n",
      "Epoch 4/100\n",
      "100/100 [==============================] - 8s 81ms/step - loss: 0.8900 - acc: 0.5780 - val_loss: 0.9803 - val_acc: 0.5120\n",
      "Epoch 5/100\n",
      "100/100 [==============================] - 8s 81ms/step - loss: 0.8456 - acc: 0.6050 - val_loss: 0.9414 - val_acc: 0.5290\n",
      "Epoch 6/100\n",
      "100/100 [==============================] - 8s 82ms/step - loss: 0.8958 - acc: 0.5745 - val_loss: 0.8888 - val_acc: 0.5710\n",
      "Epoch 7/100\n",
      "100/100 [==============================] - 9s 90ms/step - loss: 0.8770 - acc: 0.6005 - val_loss: 0.9099 - val_acc: 0.5490\n",
      "Epoch 8/100\n",
      "100/100 [==============================] - 8s 83ms/step - loss: 0.8641 - acc: 0.5925 - val_loss: 0.9050 - val_acc: 0.5650\n",
      "Epoch 9/100\n",
      "100/100 [==============================] - 8s 81ms/step - loss: 0.8662 - acc: 0.5945 - val_loss: 0.8986 - val_acc: 0.5730\n",
      "Epoch 10/100\n",
      "100/100 [==============================] - 9s 88ms/step - loss: 0.8583 - acc: 0.5905 - val_loss: 0.8500 - val_acc: 0.5780\n",
      "Epoch 11/100\n",
      "100/100 [==============================] - 8s 81ms/step - loss: 0.8271 - acc: 0.6110 - val_loss: 0.8683 - val_acc: 0.5870\n",
      "Epoch 12/100\n",
      "100/100 [==============================] - 8s 81ms/step - loss: 0.8381 - acc: 0.6175 - val_loss: 0.9077 - val_acc: 0.5690\n",
      "Epoch 13/100\n",
      "100/100 [==============================] - 8s 83ms/step - loss: 0.8346 - acc: 0.6125 - val_loss: 0.8452 - val_acc: 0.5900\n",
      "Epoch 14/100\n",
      "100/100 [==============================] - 9s 92ms/step - loss: 0.8462 - acc: 0.6015 - val_loss: 0.8479 - val_acc: 0.5950\n",
      "Epoch 15/100\n",
      "100/100 [==============================] - 8s 81ms/step - loss: 0.8057 - acc: 0.6280 - val_loss: 0.8605 - val_acc: 0.5910\n",
      "Epoch 16/100\n",
      "100/100 [==============================] - 8s 82ms/step - loss: 0.8269 - acc: 0.6105 - val_loss: 0.8516 - val_acc: 0.5890\n",
      "Epoch 17/100\n",
      "100/100 [==============================] - 8s 81ms/step - loss: 0.8080 - acc: 0.6335 - val_loss: 0.8449 - val_acc: 0.6050\n",
      "Epoch 18/100\n",
      "100/100 [==============================] - 9s 89ms/step - loss: 0.8164 - acc: 0.6225 - val_loss: 0.8616 - val_acc: 0.5980\n",
      "Epoch 19/100\n",
      "100/100 [==============================] - 8s 80ms/step - loss: 0.8176 - acc: 0.6230 - val_loss: 0.8353 - val_acc: 0.6090\n",
      "Epoch 20/100\n",
      "100/100 [==============================] - 8s 80ms/step - loss: 0.8151 - acc: 0.6140 - val_loss: 0.8386 - val_acc: 0.6050\n",
      "Epoch 21/100\n",
      "100/100 [==============================] - 9s 86ms/step - loss: 0.8131 - acc: 0.6235 - val_loss: 0.8363 - val_acc: 0.6050\n",
      "Epoch 22/100\n",
      "100/100 [==============================] - 8s 81ms/step - loss: 0.8181 - acc: 0.6250 - val_loss: 0.8329 - val_acc: 0.6210\n",
      "Epoch 23/100\n",
      "100/100 [==============================] - 8s 82ms/step - loss: 0.8049 - acc: 0.6260 - val_loss: 0.8635 - val_acc: 0.6020\n",
      "Epoch 24/100\n",
      "100/100 [==============================] - 8s 82ms/step - loss: 0.8365 - acc: 0.6105 - val_loss: 0.8295 - val_acc: 0.6050\n",
      "Epoch 25/100\n",
      "100/100 [==============================] - 9s 91ms/step - loss: 0.8005 - acc: 0.6255 - val_loss: 0.8921 - val_acc: 0.5810\n",
      "Epoch 26/100\n",
      "100/100 [==============================] - 8s 84ms/step - loss: 0.7950 - acc: 0.6290 - val_loss: 0.7833 - val_acc: 0.6320\n",
      "Epoch 27/100\n",
      "100/100 [==============================] - 8s 85ms/step - loss: 0.7861 - acc: 0.6450 - val_loss: 0.8305 - val_acc: 0.6050\n",
      "Epoch 28/100\n",
      "100/100 [==============================] - 8s 82ms/step - loss: 0.7731 - acc: 0.6475 - val_loss: 0.8235 - val_acc: 0.6190\n",
      "Epoch 29/100\n",
      "100/100 [==============================] - 9s 90ms/step - loss: 0.7809 - acc: 0.6445 - val_loss: 0.8200 - val_acc: 0.6180\n",
      "Epoch 30/100\n",
      "100/100 [==============================] - 8s 83ms/step - loss: 0.7866 - acc: 0.6350 - val_loss: 0.7984 - val_acc: 0.6360\n",
      "Epoch 31/100\n",
      "100/100 [==============================] - 8s 82ms/step - loss: 0.7671 - acc: 0.6485 - val_loss: 0.8260 - val_acc: 0.6200\n",
      "Epoch 32/100\n",
      "100/100 [==============================] - 9s 88ms/step - loss: 0.7673 - acc: 0.6415 - val_loss: 0.8106 - val_acc: 0.6170\n",
      "Epoch 33/100\n",
      "100/100 [==============================] - 8s 83ms/step - loss: 0.8029 - acc: 0.6320 - val_loss: 0.8420 - val_acc: 0.6040\n",
      "Epoch 34/100\n",
      "100/100 [==============================] - 8s 83ms/step - loss: 0.7606 - acc: 0.6550 - val_loss: 0.7633 - val_acc: 0.6540\n",
      "Epoch 35/100\n",
      "100/100 [==============================] - 8s 84ms/step - loss: 0.7967 - acc: 0.6290 - val_loss: 0.7830 - val_acc: 0.6500\n",
      "Epoch 36/100\n",
      "100/100 [==============================] - 9s 90ms/step - loss: 0.8018 - acc: 0.6180 - val_loss: 0.7576 - val_acc: 0.6500\n",
      "Epoch 37/100\n",
      "100/100 [==============================] - 8s 82ms/step - loss: 0.7766 - acc: 0.6330 - val_loss: 0.7964 - val_acc: 0.6400\n",
      "Epoch 38/100\n",
      "100/100 [==============================] - 8s 81ms/step - loss: 0.7705 - acc: 0.6460 - val_loss: 0.8162 - val_acc: 0.6030\n",
      "Epoch 39/100\n",
      "100/100 [==============================] - 8s 82ms/step - loss: 0.7629 - acc: 0.6625 - val_loss: 0.9326 - val_acc: 0.5610\n",
      "Epoch 40/100\n",
      "100/100 [==============================] - 9s 88ms/step - loss: 0.7446 - acc: 0.6640 - val_loss: 0.7806 - val_acc: 0.6380\n",
      "Epoch 41/100\n",
      "100/100 [==============================] - 8s 83ms/step - loss: 0.7859 - acc: 0.6405 - val_loss: 0.7826 - val_acc: 0.6340\n",
      "Epoch 42/100\n",
      "100/100 [==============================] - 8s 82ms/step - loss: 0.7367 - acc: 0.6625 - val_loss: 0.7860 - val_acc: 0.6330\n",
      "Epoch 43/100\n",
      "100/100 [==============================] - 9s 88ms/step - loss: 0.7294 - acc: 0.6705 - val_loss: 0.7540 - val_acc: 0.6680\n",
      "Epoch 44/100\n",
      "100/100 [==============================] - 8s 83ms/step - loss: 0.7256 - acc: 0.6640 - val_loss: 0.7692 - val_acc: 0.6450\n",
      "Epoch 45/100\n",
      "100/100 [==============================] - 8s 83ms/step - loss: 0.7295 - acc: 0.6805 - val_loss: 0.7237 - val_acc: 0.6820\n",
      "Epoch 46/100\n",
      "100/100 [==============================] - 8s 81ms/step - loss: 0.7277 - acc: 0.6660 - val_loss: 0.7656 - val_acc: 0.6380\n",
      "Epoch 47/100\n",
      "100/100 [==============================] - 9s 90ms/step - loss: 0.7490 - acc: 0.6470 - val_loss: 0.8083 - val_acc: 0.6520\n",
      "Epoch 48/100\n",
      "100/100 [==============================] - 8s 82ms/step - loss: 0.7492 - acc: 0.6545 - val_loss: 0.7659 - val_acc: 0.6480\n",
      "Epoch 49/100\n",
      "100/100 [==============================] - 8s 84ms/step - loss: 0.7445 - acc: 0.6635 - val_loss: 0.7758 - val_acc: 0.6360\n",
      "Epoch 50/100\n",
      "100/100 [==============================] - 9s 88ms/step - loss: 0.7361 - acc: 0.6630 - val_loss: 0.7510 - val_acc: 0.6580\n",
      "Epoch 51/100\n",
      "100/100 [==============================] - 8s 83ms/step - loss: 0.7354 - acc: 0.6525 - val_loss: 0.7640 - val_acc: 0.6610\n",
      "Epoch 52/100\n",
      "100/100 [==============================] - 8s 83ms/step - loss: 0.7241 - acc: 0.6805 - val_loss: 0.7329 - val_acc: 0.6770\n",
      "Epoch 53/100\n",
      "100/100 [==============================] - 8s 81ms/step - loss: 0.7398 - acc: 0.6665 - val_loss: 0.7453 - val_acc: 0.6720\n",
      "Epoch 54/100\n",
      "100/100 [==============================] - 9s 89ms/step - loss: 0.7493 - acc: 0.6570 - val_loss: 0.7763 - val_acc: 0.6220\n",
      "Epoch 55/100\n",
      "100/100 [==============================] - 8s 83ms/step - loss: 0.7038 - acc: 0.6810 - val_loss: 0.8054 - val_acc: 0.6260\n",
      "Epoch 56/100\n",
      "100/100 [==============================] - 8s 83ms/step - loss: 0.7457 - acc: 0.6540 - val_loss: 0.7663 - val_acc: 0.6330\n",
      "Epoch 57/100\n",
      "100/100 [==============================] - 8s 82ms/step - loss: 0.7178 - acc: 0.6795 - val_loss: 0.7187 - val_acc: 0.6670\n",
      "Epoch 58/100\n",
      "100/100 [==============================] - 9s 92ms/step - loss: 0.7187 - acc: 0.6715 - val_loss: 0.7411 - val_acc: 0.6630\n",
      "Epoch 59/100\n",
      "100/100 [==============================] - 8s 82ms/step - loss: 0.7185 - acc: 0.6735 - val_loss: 0.7954 - val_acc: 0.6380\n",
      "Epoch 60/100\n",
      "100/100 [==============================] - 8s 84ms/step - loss: 0.7031 - acc: 0.6870 - val_loss: 0.7299 - val_acc: 0.6720\n",
      "Epoch 61/100\n",
      "100/100 [==============================] - 9s 88ms/step - loss: 0.7123 - acc: 0.6770 - val_loss: 0.7863 - val_acc: 0.6400\n",
      "Epoch 62/100\n",
      "100/100 [==============================] - 8s 83ms/step - loss: 0.7154 - acc: 0.6835 - val_loss: 0.8050 - val_acc: 0.6320\n",
      "Epoch 63/100\n",
      "100/100 [==============================] - 9s 86ms/step - loss: 0.7024 - acc: 0.6865 - val_loss: 0.7205 - val_acc: 0.6690\n",
      "Epoch 64/100\n",
      "100/100 [==============================] - 9s 85ms/step - loss: 0.7165 - acc: 0.6770 - val_loss: 0.7243 - val_acc: 0.6860\n",
      "Epoch 65/100\n",
      "100/100 [==============================] - 9s 91ms/step - loss: 0.7236 - acc: 0.6785 - val_loss: 0.7330 - val_acc: 0.6640\n",
      "Epoch 66/100\n",
      "100/100 [==============================] - 8s 83ms/step - loss: 0.7027 - acc: 0.6740 - val_loss: 0.7256 - val_acc: 0.6860\n",
      "Epoch 67/100\n",
      "100/100 [==============================] - 9s 87ms/step - loss: 0.6945 - acc: 0.6950 - val_loss: 0.7562 - val_acc: 0.6620\n",
      "Epoch 68/100\n",
      "100/100 [==============================] - 9s 91ms/step - loss: 0.7242 - acc: 0.6740 - val_loss: 0.6820 - val_acc: 0.6810\n",
      "Epoch 69/100\n",
      "100/100 [==============================] - 9s 86ms/step - loss: 0.7135 - acc: 0.6790 - val_loss: 0.7029 - val_acc: 0.6910\n",
      "Epoch 70/100\n",
      "100/100 [==============================] - 9s 86ms/step - loss: 0.6965 - acc: 0.6935 - val_loss: 0.7536 - val_acc: 0.6460\n",
      "Epoch 71/100\n",
      "100/100 [==============================] - 8s 82ms/step - loss: 0.6968 - acc: 0.6785 - val_loss: 0.7281 - val_acc: 0.6710\n",
      "Epoch 72/100\n",
      "100/100 [==============================] - 9s 91ms/step - loss: 0.7003 - acc: 0.6755 - val_loss: 0.7282 - val_acc: 0.6800\n",
      "Epoch 73/100\n",
      "100/100 [==============================] - 9s 86ms/step - loss: 0.6844 - acc: 0.6930 - val_loss: 0.7037 - val_acc: 0.6590\n",
      "Epoch 74/100\n",
      "100/100 [==============================] - 9s 87ms/step - loss: 0.6747 - acc: 0.6965 - val_loss: 0.7097 - val_acc: 0.6690\n",
      "Epoch 75/100\n",
      "100/100 [==============================] - 9s 93ms/step - loss: 0.6876 - acc: 0.6930 - val_loss: 0.7607 - val_acc: 0.6630\n",
      "Epoch 76/100\n",
      "100/100 [==============================] - 9s 86ms/step - loss: 0.6983 - acc: 0.6815 - val_loss: 0.6629 - val_acc: 0.7080\n",
      "Epoch 77/100\n",
      "100/100 [==============================] - 9s 85ms/step - loss: 0.7128 - acc: 0.6760 - val_loss: 0.7011 - val_acc: 0.6960\n",
      "Epoch 78/100\n",
      "100/100 [==============================] - 9s 87ms/step - loss: 0.6663 - acc: 0.6990 - val_loss: 0.6766 - val_acc: 0.7020\n",
      "Epoch 79/100\n",
      "100/100 [==============================] - 9s 94ms/step - loss: 0.6769 - acc: 0.7115 - val_loss: 0.6917 - val_acc: 0.6870\n",
      "Epoch 80/100\n",
      "100/100 [==============================] - 8s 85ms/step - loss: 0.7014 - acc: 0.6910 - val_loss: 0.6660 - val_acc: 0.7110\n",
      "Epoch 81/100\n",
      "100/100 [==============================] - 8s 83ms/step - loss: 0.6771 - acc: 0.7045 - val_loss: 0.7047 - val_acc: 0.6940\n",
      "Epoch 82/100\n",
      "100/100 [==============================] - 9s 93ms/step - loss: 0.6716 - acc: 0.6970 - val_loss: 0.6773 - val_acc: 0.6950\n",
      "Epoch 83/100\n",
      "100/100 [==============================] - 9s 86ms/step - loss: 0.6786 - acc: 0.6905 - val_loss: 0.6515 - val_acc: 0.7050\n",
      "Epoch 84/100\n",
      "100/100 [==============================] - 9s 85ms/step - loss: 0.6506 - acc: 0.7195 - val_loss: 0.6897 - val_acc: 0.7050\n",
      "Epoch 85/100\n",
      "100/100 [==============================] - 8s 84ms/step - loss: 0.6590 - acc: 0.7070 - val_loss: 0.6821 - val_acc: 0.7080\n",
      "Epoch 86/100\n",
      "100/100 [==============================] - 9s 91ms/step - loss: 0.6771 - acc: 0.6900 - val_loss: 0.6691 - val_acc: 0.7070\n",
      "Epoch 87/100\n",
      "100/100 [==============================] - 8s 83ms/step - loss: 0.6344 - acc: 0.7140 - val_loss: 0.7082 - val_acc: 0.6810\n",
      "Epoch 88/100\n",
      "100/100 [==============================] - 8s 84ms/step - loss: 0.6657 - acc: 0.7005 - val_loss: 0.6495 - val_acc: 0.7350\n",
      "Epoch 89/100\n",
      "100/100 [==============================] - 8s 83ms/step - loss: 0.6773 - acc: 0.6995 - val_loss: 0.6920 - val_acc: 0.6950\n",
      "Epoch 90/100\n",
      "100/100 [==============================] - 9s 93ms/step - loss: 0.6594 - acc: 0.7075 - val_loss: 0.6787 - val_acc: 0.6900\n",
      "Epoch 91/100\n",
      "100/100 [==============================] - 8s 82ms/step - loss: 0.6712 - acc: 0.6940 - val_loss: 0.6783 - val_acc: 0.6920\n",
      "Epoch 92/100\n",
      "100/100 [==============================] - 8s 84ms/step - loss: 0.6858 - acc: 0.6870 - val_loss: 0.6970 - val_acc: 0.6920\n",
      "Epoch 93/100\n",
      "100/100 [==============================] - 9s 89ms/step - loss: 0.6817 - acc: 0.6980 - val_loss: 0.7056 - val_acc: 0.6960\n",
      "Epoch 94/100\n",
      "100/100 [==============================] - 8s 84ms/step - loss: 0.6553 - acc: 0.7055 - val_loss: 0.6565 - val_acc: 0.7120\n",
      "Epoch 95/100\n",
      "100/100 [==============================] - 8s 84ms/step - loss: 0.6690 - acc: 0.7135 - val_loss: 0.6634 - val_acc: 0.6950\n",
      "Epoch 96/100\n",
      "100/100 [==============================] - 8s 81ms/step - loss: 0.6634 - acc: 0.7080 - val_loss: 0.6833 - val_acc: 0.6890\n",
      "Epoch 97/100\n",
      "100/100 [==============================] - 9s 91ms/step - loss: 0.6619 - acc: 0.7085 - val_loss: 0.6689 - val_acc: 0.7090\n",
      "Epoch 98/100\n",
      "100/100 [==============================] - 8s 82ms/step - loss: 0.6219 - acc: 0.7205 - val_loss: 0.6679 - val_acc: 0.6970\n",
      "Epoch 99/100\n",
      "100/100 [==============================] - 8s 84ms/step - loss: 0.6650 - acc: 0.7190 - val_loss: 0.6758 - val_acc: 0.7020\n",
      "Epoch 100/100\n",
      "100/100 [==============================] - 9s 90ms/step - loss: 0.6561 - acc: 0.7045 - val_loss: 0.6209 - val_acc: 0.7320\n"
     ]
    }
   ],
   "source": [
    "history = model.fit(\n",
    "    train_generator,\n",
    "    steps_per_epoch=100,\n",
    "    validation_data=validation_generator,\n",
    "    validation_steps=50,\n",
    "    epochs=100)"
   ]
  },
  {
   "cell_type": "code",
   "execution_count": 17,
   "metadata": {
    "execution": {
     "iopub.execute_input": "2022-11-26T21:20:51.448201Z",
     "iopub.status.busy": "2022-11-26T21:20:51.447749Z",
     "iopub.status.idle": "2022-11-26T21:20:51.909986Z",
     "shell.execute_reply": "2022-11-26T21:20:51.908930Z",
     "shell.execute_reply.started": "2022-11-26T21:20:51.448163Z"
    }
   },
   "outputs": [
    {
     "data": {
      "image/png": "[encoded data removed]",
      "text/plain": [
       "<Figure size 432x288 with 1 Axes>"
      ]
     },
     "metadata": {
      "needs_background": "light"
     },
     "output_type": "display_data"
    },
    {
     "data": {
      "image/png": "[encoded data removed]",
      "text/plain": [
       "<Figure size 432x288 with 1 Axes>"
      ]
     },
     "metadata": {
      "needs_background": "light"
     },
     "output_type": "display_data"
    }
   ],
   "source": [
    "import matplotlib.pyplot as plt\n",
    "\n",
    "acc = history.history['acc']\n",
    "val_acc = history.history['val_acc']\n",
    "loss = history.history['loss']\n",
    "val_loss = history.history['val_loss']\n",
    "\n",
    "epochs = range(1, len(acc) + 1)\n",
    "\n",
    "plt.plot(epochs, acc, 'bo', label='Training acc')\n",
    "plt.plot(epochs, val_acc, 'b-', label='Validation acc')\n",
    "plt.title('Training and validation accuracy')\n",
    "plt.legend()\n",
    "\n",
    "plt.figure()\n",
    "\n",
    "plt.plot(epochs, loss, 'bo', label='Training loss')\n",
    "plt.plot(epochs, val_loss, 'b-', label='Validation loss')\n",
    "plt.title('Training and validation loss')\n",
    "plt.legend()\n",
    "\n",
    "plt.show()\n"
   ]
  },
  {
   "cell_type": "code",
   "execution_count": 13,
   "metadata": {
    "execution": {
     "iopub.execute_input": "2022-11-26T20:58:21.409623Z",
     "iopub.status.busy": "2022-11-26T20:58:21.408940Z",
     "iopub.status.idle": "2022-11-26T20:58:21.418027Z",
     "shell.execute_reply": "2022-11-26T20:58:21.416790Z",
     "shell.execute_reply.started": "2022-11-26T20:58:21.409575Z"
    }
   },
   "outputs": [],
   "source": [
    "train_val_total_dir = os.path.join(r\"/kaggle/working/\", 'train_val_total')\n",
    "os.mkdir(train_val_total_dir)\n",
    "train_val_disappointed = os.path.join(train_val_total_dir,\"disappointed\")\n",
    "os.mkdir(train_val_disappointed)\n",
    "train_val_interested = os.path.join(train_val_total_dir,\"interested\")\n",
    "os.mkdir(train_val_interested)\n",
    "train_val_neutral = os.path.join(train_val_total_dir,\"neutral\")\n",
    "os.mkdir(train_val_neutral)"
   ]
  },
  {
   "cell_type": "code",
   "execution_count": 14,
   "metadata": {
    "execution": {
     "iopub.execute_input": "2022-11-26T20:58:28.116158Z",
     "iopub.status.busy": "2022-11-26T20:58:28.115350Z",
     "iopub.status.idle": "2022-11-26T20:59:33.709605Z",
     "shell.execute_reply": "2022-11-26T20:59:33.708535Z",
     "shell.execute_reply.started": "2022-11-26T20:58:28.116113Z"
    }
   },
   "outputs": [],
   "source": [
    "\n",
    "import shutil\n",
    "fnames = [\"disappointed ({}).jpg\".format(i) for i in range(1, 10001)]\n",
    "for fname in fnames:\n",
    "    src = os.path.join(r\"/kaggle/input/deep-learning2/train/disappointed\", fname)\n",
    "    dst = os.path.join(train_val_disappointed, fname)\n",
    "    shutil.copyfile(src, dst)\n",
    "fnames = [\"interested ({}).jpg\".format(i) for i in range(1, 15001)]\n",
    "for fname in fnames:\n",
    "    src = os.path.join(r\"/kaggle/input/deep-learning2/train/interested\", fname)\n",
    "    dst = os.path.join(train_val_interested, fname)\n",
    "    shutil.copyfile(src, dst)\n",
    "fnames = [\"neutral ({}).jpg\".format(i) for i in range(1, 11001)]\n",
    "for fname in fnames:\n",
    "    src = os.path.join(r\"/kaggle/input/deep-learning2/train/neutral\", fname)\n",
    "    dst = os.path.join(train_val_neutral, fname)\n",
    "    shutil.copyfile(src, dst)   \n",
    "fnames = [\"disappointed ({}).jpg\".format(i) for i in range(10001, 12001)]\n",
    "for fname in fnames:\n",
    "    src = os.path.join(r\"/kaggle/input/deep-learning2/validation/disappointed\", fname)\n",
    "    dst = os.path.join(train_val_disappointed, fname)\n",
    "    shutil.copyfile(src, dst)\n",
    "fnames = [\"interested ({}).jpg\".format(i) for i in range(15001, 17001)]\n",
    "for fname in fnames:\n",
    "    src = os.path.join(r\"/kaggle/input/deep-learning2/validation/interested\", fname)\n",
    "    dst = os.path.join(train_val_interested, fname)\n",
    "    shutil.copyfile(src, dst)\n",
    "fnames = [\"neutral ({}).jpg\".format(i) for i in range(11001, 13001)]\n",
    "for fname in fnames:\n",
    "    src = os.path.join(r\"/kaggle/input/deep-learning2/validation/neutral\", fname)\n",
    "    dst = os.path.join(train_val_neutral, fname)\n",
    "    shutil.copyfile(src, dst)    "
   ]
  },
  {
   "cell_type": "code",
   "execution_count": 18,
   "metadata": {
    "execution": {
     "iopub.execute_input": "2022-11-26T21:21:09.280651Z",
     "iopub.status.busy": "2022-11-26T21:21:09.280219Z",
     "iopub.status.idle": "2022-11-26T21:27:40.540344Z",
     "shell.execute_reply": "2022-11-26T21:27:40.539427Z",
     "shell.execute_reply.started": "2022-11-26T21:21:09.280614Z"
    }
   },
   "outputs": [
    {
     "name": "stdout",
     "output_type": "stream",
     "text": [
      "Found 42000 images belonging to 3 classes.\n",
      "Epoch 1/40\n",
      "150/150 [==============================] - 11s 68ms/step - loss: 0.6418 - acc: 0.7103\n",
      "Epoch 2/40\n",
      "150/150 [==============================] - 9s 63ms/step - loss: 0.6459 - acc: 0.7160\n",
      "Epoch 3/40\n",
      "150/150 [==============================] - 9s 63ms/step - loss: 0.6385 - acc: 0.7133\n",
      "Epoch 4/40\n",
      "150/150 [==============================] - 10s 69ms/step - loss: 0.6224 - acc: 0.7320\n",
      "Epoch 5/40\n",
      "150/150 [==============================] - 10s 63ms/step - loss: 0.6050 - acc: 0.7367\n",
      "Epoch 6/40\n",
      "150/150 [==============================] - 9s 63ms/step - loss: 0.6214 - acc: 0.7330\n",
      "Epoch 7/40\n",
      "150/150 [==============================] - 10s 68ms/step - loss: 0.6290 - acc: 0.7257\n",
      "Epoch 8/40\n",
      "150/150 [==============================] - 9s 62ms/step - loss: 0.6210 - acc: 0.7300\n",
      "Epoch 9/40\n",
      "150/150 [==============================] - 9s 62ms/step - loss: 0.6107 - acc: 0.7293\n",
      "Epoch 10/40\n",
      "150/150 [==============================] - 10s 68ms/step - loss: 0.6223 - acc: 0.7230\n",
      "Epoch 11/40\n",
      "150/150 [==============================] - 9s 62ms/step - loss: 0.6127 - acc: 0.7337\n",
      "Epoch 12/40\n",
      "150/150 [==============================] - 9s 62ms/step - loss: 0.6139 - acc: 0.7327\n",
      "Epoch 13/40\n",
      "150/150 [==============================] - 10s 69ms/step - loss: 0.6037 - acc: 0.7297\n",
      "Epoch 14/40\n",
      "150/150 [==============================] - 9s 63ms/step - loss: 0.6021 - acc: 0.7327\n",
      "Epoch 15/40\n",
      "150/150 [==============================] - 9s 62ms/step - loss: 0.6137 - acc: 0.7293\n",
      "Epoch 16/40\n",
      "150/150 [==============================] - 9s 62ms/step - loss: 0.5921 - acc: 0.7347\n",
      "Epoch 17/40\n",
      "150/150 [==============================] - 10s 67ms/step - loss: 0.6085 - acc: 0.7330\n",
      "Epoch 18/40\n",
      "150/150 [==============================] - 9s 63ms/step - loss: 0.5994 - acc: 0.7403\n",
      "Epoch 19/40\n",
      "150/150 [==============================] - 9s 62ms/step - loss: 0.5914 - acc: 0.7423\n",
      "Epoch 20/40\n",
      "150/150 [==============================] - 10s 68ms/step - loss: 0.5882 - acc: 0.7433\n",
      "Epoch 21/40\n",
      "150/150 [==============================] - 9s 62ms/step - loss: 0.5798 - acc: 0.7477\n",
      "Epoch 22/40\n",
      "150/150 [==============================] - 9s 63ms/step - loss: 0.5971 - acc: 0.7370\n",
      "Epoch 23/40\n",
      "150/150 [==============================] - 10s 69ms/step - loss: 0.5914 - acc: 0.7487\n",
      "Epoch 24/40\n",
      "150/150 [==============================] - 9s 63ms/step - loss: 0.5815 - acc: 0.7537\n",
      "Epoch 25/40\n",
      "150/150 [==============================] - 9s 62ms/step - loss: 0.5812 - acc: 0.7423\n",
      "Epoch 26/40\n",
      "150/150 [==============================] - 10s 68ms/step - loss: 0.5771 - acc: 0.7600\n",
      "Epoch 27/40\n",
      "150/150 [==============================] - 9s 62ms/step - loss: 0.5930 - acc: 0.7483\n",
      "Epoch 28/40\n",
      "150/150 [==============================] - 10s 63ms/step - loss: 0.5715 - acc: 0.7533\n",
      "Epoch 29/40\n",
      "150/150 [==============================] - 9s 63ms/step - loss: 0.5543 - acc: 0.7747\n",
      "Epoch 30/40\n",
      "150/150 [==============================] - 10s 68ms/step - loss: 0.5700 - acc: 0.7493\n",
      "Epoch 31/40\n",
      "150/150 [==============================] - 9s 62ms/step - loss: 0.5675 - acc: 0.7553\n",
      "Epoch 32/40\n",
      "150/150 [==============================] - 9s 63ms/step - loss: 0.5552 - acc: 0.7593\n",
      "Epoch 33/40\n",
      "150/150 [==============================] - 10s 68ms/step - loss: 0.5647 - acc: 0.7573\n",
      "Epoch 34/40\n",
      "150/150 [==============================] - 9s 62ms/step - loss: 0.5920 - acc: 0.7393\n",
      "Epoch 35/40\n",
      "150/150 [==============================] - 9s 62ms/step - loss: 0.5464 - acc: 0.7717\n",
      "Epoch 36/40\n",
      "150/150 [==============================] - 10s 68ms/step - loss: 0.5583 - acc: 0.7653\n",
      "Epoch 37/40\n",
      "150/150 [==============================] - 9s 63ms/step - loss: 0.5667 - acc: 0.7580\n",
      "Epoch 38/40\n",
      "150/150 [==============================] - 10s 63ms/step - loss: 0.5553 - acc: 0.7700\n",
      "Epoch 39/40\n",
      "150/150 [==============================] - 10s 68ms/step - loss: 0.5321 - acc: 0.7803\n",
      "Epoch 40/40\n",
      "150/150 [==============================] - 10s 64ms/step - loss: 0.5350 - acc: 0.7753\n"
     ]
    }
   ],
   "source": [
    "train_datagen = ImageDataGenerator(rescale=1./255)\n",
    "train_generator = train_datagen.flow_from_directory(\n",
    "        train_val_total_dir,\n",
    "        target_size=(64,64),\n",
    "        batch_size=20,\n",
    "        shuffle = True,\n",
    "        class_mode='categorical')\n",
    "\n",
    "from tensorflow.keras.optimizers import RMSprop\n",
    "\n",
    "model.compile(loss = \"categorical_crossentropy\",\n",
    "              optimizer = RMSprop(learning_rate = 0.0001),\n",
    "              metrics = [\"acc\"])\n",
    "\n",
    "history = model.fit(\n",
    "    train_generator,\n",
    "    steps_per_epoch=150,\n",
    "    shuffle=True,\n",
    "    epochs=40)"
   ]
  },
  {
   "cell_type": "code",
   "execution_count": 19,
   "metadata": {
    "execution": {
     "iopub.execute_input": "2022-11-26T21:28:25.237223Z",
     "iopub.status.busy": "2022-11-26T21:28:25.236819Z",
     "iopub.status.idle": "2022-11-26T21:28:34.779049Z",
     "shell.execute_reply": "2022-11-26T21:28:34.777442Z",
     "shell.execute_reply.started": "2022-11-26T21:28:25.237191Z"
    }
   },
   "outputs": [
    {
     "name": "stdout",
     "output_type": "stream",
     "text": [
      "Found 1819 images belonging to 3 classes.\n",
      "91/91 [==============================] - 9s 99ms/step - loss: 0.8197 - acc: 0.6218\n",
      "0.6217702031135559\n"
     ]
    }
   ],
   "source": [
    "test_datagen = ImageDataGenerator(rescale=1./255)\n",
    "test_generator = test_datagen.flow_from_directory(\n",
    "test_dir,\n",
    "    target_size=(64,64),\n",
    "    batch_size = 20,\n",
    "    class_mode=\"categorical\"\n",
    ")\n",
    "test_loss,test_acc=model.evaluate(test_generator)\n",
    "print(test_acc)"
   ]
  },
  {
   "cell_type": "code",
   "execution_count": 20,
   "metadata": {
    "execution": {
     "iopub.execute_input": "2022-11-26T21:29:23.634187Z",
     "iopub.status.busy": "2022-11-26T21:29:23.633192Z",
     "iopub.status.idle": "2022-11-26T21:29:23.729523Z",
     "shell.execute_reply": "2022-11-26T21:29:23.728293Z",
     "shell.execute_reply.started": "2022-11-26T21:29:23.634141Z"
    }
   },
   "outputs": [
    {
     "name": "stdout",
     "output_type": "stream",
     "text": [
      "Model: \"sequential_1\"\n",
      "_________________________________________________________________\n",
      "Layer (type)                 Output Shape              Param #   \n",
      "=================================================================\n",
      "conv2d_4 (Conv2D)            (None, 62, 62, 32)        896       \n",
      "_________________________________________________________________\n",
      "max_pooling2d_4 (MaxPooling2 (None, 31, 31, 32)        0         \n",
      "_________________________________________________________________\n",
      "conv2d_5 (Conv2D)            (None, 29, 29, 64)        18496     \n",
      "_________________________________________________________________\n",
      "max_pooling2d_5 (MaxPooling2 (None, 14, 14, 64)        0         \n",
      "_________________________________________________________________\n",
      "conv2d_6 (Conv2D)            (None, 12, 12, 128)       73856     \n",
      "_________________________________________________________________\n",
      "max_pooling2d_6 (MaxPooling2 (None, 6, 6, 128)         0         \n",
      "_________________________________________________________________\n",
      "conv2d_7 (Conv2D)            (None, 4, 4, 128)         147584    \n",
      "_________________________________________________________________\n",
      "max_pooling2d_7 (MaxPooling2 (None, 2, 2, 128)         0         \n",
      "_________________________________________________________________\n",
      "flatten_1 (Flatten)          (None, 512)               0         \n",
      "_________________________________________________________________\n",
      "dropout (Dropout)            (None, 512)               0         \n",
      "_________________________________________________________________\n",
      "dense_2 (Dense)              (None, 512)               262656    \n",
      "_________________________________________________________________\n",
      "dense_3 (Dense)              (None, 3)                 1539      \n",
      "=================================================================\n",
      "Total params: 505,027\n",
      "Trainable params: 505,027\n",
      "Non-trainable params: 0\n",
      "_________________________________________________________________\n"
     ]
    }
   ],
   "source": [
    "from keras import layers\n",
    "from keras import models\n",
    "\n",
    "model = models.Sequential()\n",
    "model.add(layers.Conv2D(32, (3, 3), activation='relu',input_shape=(64,64,3)))\n",
    "model.add(layers.MaxPooling2D((2,2)))\n",
    "model.add(layers.Conv2D(64, (3, 3), activation='relu'))\n",
    "model.add(layers.MaxPooling2D((2,2)))\n",
    "model.add(layers.Conv2D(128, (3, 3), activation='relu'))\n",
    "model.add(layers.MaxPooling2D((2,2)))\n",
    "model.add(layers.Conv2D(128, (3, 3), activation='relu'))\n",
    "model.add(layers.MaxPooling2D((2,2)))\n",
    "model.add(layers.Flatten())\n",
    "model.add(layers.Dropout(0.5))\n",
    "model.add(layers.Dense(512, activation='relu'))\n",
    "model.add(layers.Dense(3, activation='softmax'))\n",
    "\n",
    "model.summary()"
   ]
  },
  {
   "cell_type": "code",
   "execution_count": 22,
   "metadata": {
    "execution": {
     "iopub.execute_input": "2022-11-26T21:31:52.801907Z",
     "iopub.status.busy": "2022-11-26T21:31:52.801494Z",
     "iopub.status.idle": "2022-11-26T21:46:34.300955Z",
     "shell.execute_reply": "2022-11-26T21:46:34.299996Z",
     "shell.execute_reply.started": "2022-11-26T21:31:52.801866Z"
    }
   },
   "outputs": [
    {
     "name": "stdout",
     "output_type": "stream",
     "text": [
      "Found 36000 images belonging to 3 classes.\n",
      "Found 6000 images belonging to 3 classes.\n",
      "Epoch 1/100\n"
     ]
    },
    {
     "name": "stderr",
     "output_type": "stream",
     "text": [
      "/opt/conda/lib/python3.7/site-packages/keras/optimizer_v2/optimizer_v2.py:356: UserWarning: The `lr` argument is deprecated, use `learning_rate` instead.\n",
      "  \"The `lr` argument is deprecated, use `learning_rate` instead.\")\n"
     ]
    },
    {
     "name": "stdout",
     "output_type": "stream",
     "text": [
      "100/100 [==============================] - 10s 93ms/step - loss: 1.0826 - acc: 0.4105 - val_loss: 1.1208 - val_acc: 0.3180\n",
      "Epoch 2/100\n",
      "100/100 [==============================] - 8s 81ms/step - loss: 1.0871 - acc: 0.3910 - val_loss: 1.0967 - val_acc: 0.3540\n",
      "Epoch 3/100\n",
      "100/100 [==============================] - 8s 82ms/step - loss: 1.0674 - acc: 0.4365 - val_loss: 1.1229 - val_acc: 0.3230\n",
      "Epoch 4/100\n",
      "100/100 [==============================] - 8s 83ms/step - loss: 1.0797 - acc: 0.4120 - val_loss: 1.1210 - val_acc: 0.3550\n",
      "Epoch 5/100\n",
      "100/100 [==============================] - 9s 91ms/step - loss: 1.0730 - acc: 0.4265 - val_loss: 1.1056 - val_acc: 0.3560\n",
      "Epoch 6/100\n",
      "100/100 [==============================] - 8s 85ms/step - loss: 1.0817 - acc: 0.3945 - val_loss: 1.0955 - val_acc: 0.3660\n",
      "Epoch 7/100\n",
      "100/100 [==============================] - 8s 85ms/step - loss: 1.0715 - acc: 0.4260 - val_loss: 1.0965 - val_acc: 0.3420\n",
      "Epoch 8/100\n",
      "100/100 [==============================] - 8s 85ms/step - loss: 1.0701 - acc: 0.4270 - val_loss: 1.0936 - val_acc: 0.3640\n",
      "Epoch 9/100\n",
      "100/100 [==============================] - 9s 89ms/step - loss: 1.0690 - acc: 0.4220 - val_loss: 1.0765 - val_acc: 0.3930\n",
      "Epoch 10/100\n",
      "100/100 [==============================] - 8s 83ms/step - loss: 1.0486 - acc: 0.4505 - val_loss: 1.0837 - val_acc: 0.3820\n",
      "Epoch 11/100\n",
      "100/100 [==============================] - 8s 82ms/step - loss: 1.0413 - acc: 0.4535 - val_loss: 1.0801 - val_acc: 0.4130\n",
      "Epoch 12/100\n",
      "100/100 [==============================] - 9s 91ms/step - loss: 1.0516 - acc: 0.4555 - val_loss: 1.0772 - val_acc: 0.4220\n",
      "Epoch 13/100\n",
      "100/100 [==============================] - 8s 84ms/step - loss: 1.0562 - acc: 0.4430 - val_loss: 1.0492 - val_acc: 0.4630\n",
      "Epoch 14/100\n",
      "100/100 [==============================] - 8s 84ms/step - loss: 1.0470 - acc: 0.4570 - val_loss: 1.0532 - val_acc: 0.4660\n",
      "Epoch 15/100\n",
      "100/100 [==============================] - 8s 82ms/step - loss: 1.0300 - acc: 0.4700 - val_loss: 1.0524 - val_acc: 0.4360\n",
      "Epoch 16/100\n",
      "100/100 [==============================] - 9s 89ms/step - loss: 1.0322 - acc: 0.4805 - val_loss: 1.0648 - val_acc: 0.4350\n",
      "Epoch 17/100\n",
      "100/100 [==============================] - 8s 82ms/step - loss: 1.0364 - acc: 0.4575 - val_loss: 1.0647 - val_acc: 0.4030\n",
      "Epoch 18/100\n",
      "100/100 [==============================] - 8s 84ms/step - loss: 1.0186 - acc: 0.4735 - val_loss: 1.0558 - val_acc: 0.4180\n",
      "Epoch 19/100\n",
      "100/100 [==============================] - 9s 90ms/step - loss: 1.0211 - acc: 0.4780 - val_loss: 1.0339 - val_acc: 0.4620\n",
      "Epoch 20/100\n",
      "100/100 [==============================] - 8s 83ms/step - loss: 1.0012 - acc: 0.4920 - val_loss: 1.0264 - val_acc: 0.4690\n",
      "Epoch 21/100\n",
      "100/100 [==============================] - 8s 83ms/step - loss: 1.0076 - acc: 0.4815 - val_loss: 1.0526 - val_acc: 0.4330\n",
      "Epoch 22/100\n",
      "100/100 [==============================] - 8s 82ms/step - loss: 0.9891 - acc: 0.5070 - val_loss: 1.0376 - val_acc: 0.4730\n",
      "Epoch 23/100\n",
      "100/100 [==============================] - 9s 91ms/step - loss: 0.9951 - acc: 0.5040 - val_loss: 1.0247 - val_acc: 0.4560\n",
      "Epoch 24/100\n",
      "100/100 [==============================] - 8s 81ms/step - loss: 0.9913 - acc: 0.5085 - val_loss: 1.0122 - val_acc: 0.4910\n",
      "Epoch 25/100\n",
      "100/100 [==============================] - 8s 84ms/step - loss: 0.9775 - acc: 0.5055 - val_loss: 0.9951 - val_acc: 0.5080\n",
      "Epoch 26/100\n",
      "100/100 [==============================] - 9s 90ms/step - loss: 0.9706 - acc: 0.5145 - val_loss: 0.9731 - val_acc: 0.4900\n",
      "Epoch 27/100\n",
      "100/100 [==============================] - 8s 81ms/step - loss: 0.9447 - acc: 0.5305 - val_loss: 0.9787 - val_acc: 0.5110\n",
      "Epoch 28/100\n",
      "100/100 [==============================] - 8s 84ms/step - loss: 0.9727 - acc: 0.5210 - val_loss: 0.9733 - val_acc: 0.5150\n",
      "Epoch 29/100\n",
      "100/100 [==============================] - 8s 83ms/step - loss: 0.9509 - acc: 0.5310 - val_loss: 1.0186 - val_acc: 0.4740\n",
      "Epoch 30/100\n",
      "100/100 [==============================] - 9s 90ms/step - loss: 0.9521 - acc: 0.5260 - val_loss: 1.0007 - val_acc: 0.4810\n",
      "Epoch 31/100\n",
      "100/100 [==============================] - 8s 81ms/step - loss: 0.9377 - acc: 0.5425 - val_loss: 0.9592 - val_acc: 0.5160\n",
      "Epoch 32/100\n",
      "100/100 [==============================] - 8s 82ms/step - loss: 0.9277 - acc: 0.5455 - val_loss: 0.9455 - val_acc: 0.5280\n",
      "Epoch 33/100\n",
      "100/100 [==============================] - 8s 82ms/step - loss: 0.9225 - acc: 0.5595 - val_loss: 0.9612 - val_acc: 0.5300\n",
      "Epoch 34/100\n",
      "100/100 [==============================] - 9s 90ms/step - loss: 0.9368 - acc: 0.5320 - val_loss: 0.9880 - val_acc: 0.4880\n",
      "Epoch 35/100\n",
      "100/100 [==============================] - 8s 80ms/step - loss: 0.9337 - acc: 0.5420 - val_loss: 0.9410 - val_acc: 0.5480\n",
      "Epoch 36/100\n",
      "100/100 [==============================] - 8s 80ms/step - loss: 0.9203 - acc: 0.5605 - val_loss: 0.9388 - val_acc: 0.5460\n",
      "Epoch 37/100\n",
      "100/100 [==============================] - 9s 91ms/step - loss: 0.9408 - acc: 0.5335 - val_loss: 0.9093 - val_acc: 0.5590\n",
      "Epoch 38/100\n",
      "100/100 [==============================] - 8s 84ms/step - loss: 0.9014 - acc: 0.5570 - val_loss: 0.9276 - val_acc: 0.5490\n",
      "Epoch 39/100\n",
      "100/100 [==============================] - 8s 81ms/step - loss: 0.9109 - acc: 0.5555 - val_loss: 0.9792 - val_acc: 0.4930\n",
      "Epoch 40/100\n",
      "100/100 [==============================] - 8s 83ms/step - loss: 0.9044 - acc: 0.5770 - val_loss: 0.9767 - val_acc: 0.5050\n",
      "Epoch 41/100\n",
      "100/100 [==============================] - 9s 92ms/step - loss: 0.8869 - acc: 0.5755 - val_loss: 0.9309 - val_acc: 0.5410\n",
      "Epoch 42/100\n",
      "100/100 [==============================] - 8s 82ms/step - loss: 0.9109 - acc: 0.5430 - val_loss: 0.9132 - val_acc: 0.5510\n",
      "Epoch 43/100\n",
      "100/100 [==============================] - 8s 81ms/step - loss: 0.8950 - acc: 0.5590 - val_loss: 0.9029 - val_acc: 0.5550\n",
      "Epoch 44/100\n",
      "100/100 [==============================] - 9s 90ms/step - loss: 0.8801 - acc: 0.5735 - val_loss: 0.9462 - val_acc: 0.5210\n",
      "Epoch 45/100\n",
      "100/100 [==============================] - 8s 82ms/step - loss: 0.8823 - acc: 0.5855 - val_loss: 0.8997 - val_acc: 0.5690\n",
      "Epoch 46/100\n",
      "100/100 [==============================] - 8s 81ms/step - loss: 0.8693 - acc: 0.5850 - val_loss: 0.9000 - val_acc: 0.5620\n",
      "Epoch 47/100\n",
      "100/100 [==============================] - 8s 83ms/step - loss: 0.8731 - acc: 0.5840 - val_loss: 0.9141 - val_acc: 0.5560\n",
      "Epoch 48/100\n",
      "100/100 [==============================] - 9s 92ms/step - loss: 0.8702 - acc: 0.5865 - val_loss: 0.8776 - val_acc: 0.5650\n",
      "Epoch 49/100\n",
      "100/100 [==============================] - 8s 84ms/step - loss: 0.8730 - acc: 0.5825 - val_loss: 0.8951 - val_acc: 0.5640\n",
      "Epoch 50/100\n",
      "100/100 [==============================] - 8s 83ms/step - loss: 0.8754 - acc: 0.5830 - val_loss: 0.8733 - val_acc: 0.5860\n",
      "Epoch 51/100\n",
      "100/100 [==============================] - 9s 88ms/step - loss: 0.8744 - acc: 0.5740 - val_loss: 0.8948 - val_acc: 0.5860\n",
      "Epoch 52/100\n",
      "100/100 [==============================] - 8s 82ms/step - loss: 0.8446 - acc: 0.6150 - val_loss: 0.9051 - val_acc: 0.5520\n",
      "Epoch 53/100\n",
      "100/100 [==============================] - 8s 82ms/step - loss: 0.8791 - acc: 0.5725 - val_loss: 0.8740 - val_acc: 0.5920\n",
      "Epoch 54/100\n",
      "100/100 [==============================] - 8s 82ms/step - loss: 0.8667 - acc: 0.5855 - val_loss: 0.8503 - val_acc: 0.6000\n",
      "Epoch 55/100\n",
      "100/100 [==============================] - 9s 91ms/step - loss: 0.8549 - acc: 0.5830 - val_loss: 0.8860 - val_acc: 0.5820\n",
      "Epoch 56/100\n",
      "100/100 [==============================] - 8s 84ms/step - loss: 0.8574 - acc: 0.5910 - val_loss: 0.8723 - val_acc: 0.5770\n",
      "Epoch 57/100\n",
      "100/100 [==============================] - 8s 83ms/step - loss: 0.8194 - acc: 0.6080 - val_loss: 0.8579 - val_acc: 0.6070\n",
      "Epoch 58/100\n",
      "100/100 [==============================] - 8s 83ms/step - loss: 0.8516 - acc: 0.6005 - val_loss: 0.9024 - val_acc: 0.5560\n",
      "Epoch 59/100\n",
      "100/100 [==============================] - 9s 90ms/step - loss: 0.8622 - acc: 0.5880 - val_loss: 0.8544 - val_acc: 0.6030\n",
      "Epoch 60/100\n",
      "100/100 [==============================] - 8s 82ms/step - loss: 0.8494 - acc: 0.5835 - val_loss: 0.9040 - val_acc: 0.5800\n",
      "Epoch 61/100\n",
      "100/100 [==============================] - 8s 84ms/step - loss: 0.8449 - acc: 0.6000 - val_loss: 0.8737 - val_acc: 0.5840\n",
      "Epoch 62/100\n",
      "100/100 [==============================] - 9s 89ms/step - loss: 0.8579 - acc: 0.6030 - val_loss: 0.8662 - val_acc: 0.6020\n",
      "Epoch 63/100\n",
      "100/100 [==============================] - 8s 84ms/step - loss: 0.8556 - acc: 0.5895 - val_loss: 0.8864 - val_acc: 0.5520\n",
      "Epoch 64/100\n",
      "100/100 [==============================] - 8s 83ms/step - loss: 0.8141 - acc: 0.6325 - val_loss: 0.8461 - val_acc: 0.6020\n",
      "Epoch 65/100\n",
      "100/100 [==============================] - 8s 84ms/step - loss: 0.8348 - acc: 0.6065 - val_loss: 0.8782 - val_acc: 0.5890\n",
      "Epoch 66/100\n",
      "100/100 [==============================] - 9s 90ms/step - loss: 0.8247 - acc: 0.6200 - val_loss: 0.8790 - val_acc: 0.5960\n",
      "Epoch 67/100\n",
      "100/100 [==============================] - 8s 83ms/step - loss: 0.8246 - acc: 0.6125 - val_loss: 0.8946 - val_acc: 0.5530\n",
      "Epoch 68/100\n",
      "100/100 [==============================] - 8s 83ms/step - loss: 0.8165 - acc: 0.6075 - val_loss: 0.8519 - val_acc: 0.5890\n",
      "Epoch 69/100\n",
      "100/100 [==============================] - 9s 88ms/step - loss: 0.8145 - acc: 0.6265 - val_loss: 0.8635 - val_acc: 0.5950\n",
      "Epoch 70/100\n",
      "100/100 [==============================] - 8s 84ms/step - loss: 0.8168 - acc: 0.6120 - val_loss: 0.8057 - val_acc: 0.6400\n",
      "Epoch 71/100\n",
      "100/100 [==============================] - 8s 83ms/step - loss: 0.8036 - acc: 0.6060 - val_loss: 0.8424 - val_acc: 0.6120\n",
      "Epoch 72/100\n",
      "100/100 [==============================] - 8s 81ms/step - loss: 0.8337 - acc: 0.6115 - val_loss: 0.8390 - val_acc: 0.6070\n",
      "Epoch 73/100\n",
      "100/100 [==============================] - 9s 89ms/step - loss: 0.8373 - acc: 0.6010 - val_loss: 0.8256 - val_acc: 0.6260\n",
      "Epoch 74/100\n",
      "100/100 [==============================] - 8s 82ms/step - loss: 0.7964 - acc: 0.6315 - val_loss: 0.8477 - val_acc: 0.5970\n",
      "Epoch 75/100\n",
      "100/100 [==============================] - 8s 82ms/step - loss: 0.8055 - acc: 0.6215 - val_loss: 0.8436 - val_acc: 0.6170\n",
      "Epoch 76/100\n",
      "100/100 [==============================] - 8s 82ms/step - loss: 0.8073 - acc: 0.6190 - val_loss: 0.8302 - val_acc: 0.6110\n",
      "Epoch 77/100\n",
      "100/100 [==============================] - 9s 90ms/step - loss: 0.8180 - acc: 0.6075 - val_loss: 0.8312 - val_acc: 0.6250\n",
      "Epoch 78/100\n",
      "100/100 [==============================] - 8s 82ms/step - loss: 0.7871 - acc: 0.6255 - val_loss: 0.7873 - val_acc: 0.6420\n",
      "Epoch 79/100\n",
      "100/100 [==============================] - 8s 81ms/step - loss: 0.8152 - acc: 0.6250 - val_loss: 0.8594 - val_acc: 0.6060\n",
      "Epoch 80/100\n",
      "100/100 [==============================] - 8s 82ms/step - loss: 0.8033 - acc: 0.6310 - val_loss: 0.8139 - val_acc: 0.6300\n",
      "Epoch 81/100\n",
      "100/100 [==============================] - 9s 90ms/step - loss: 0.8043 - acc: 0.6150 - val_loss: 0.8010 - val_acc: 0.6350\n",
      "Epoch 82/100\n",
      "100/100 [==============================] - 8s 81ms/step - loss: 0.8168 - acc: 0.6175 - val_loss: 0.8402 - val_acc: 0.5850\n",
      "Epoch 83/100\n",
      "100/100 [==============================] - 8s 82ms/step - loss: 0.7977 - acc: 0.6280 - val_loss: 0.8323 - val_acc: 0.5940\n",
      "Epoch 84/100\n",
      "100/100 [==============================] - 9s 91ms/step - loss: 0.7770 - acc: 0.6310 - val_loss: 0.8516 - val_acc: 0.5940\n",
      "Epoch 85/100\n",
      "100/100 [==============================] - 8s 82ms/step - loss: 0.7857 - acc: 0.6425 - val_loss: 0.7912 - val_acc: 0.6350\n",
      "Epoch 86/100\n",
      "100/100 [==============================] - 8s 82ms/step - loss: 0.8030 - acc: 0.6415 - val_loss: 0.8497 - val_acc: 0.5940\n",
      "Epoch 87/100\n",
      "100/100 [==============================] - 8s 82ms/step - loss: 0.7832 - acc: 0.6265 - val_loss: 0.8312 - val_acc: 0.5990\n",
      "Epoch 88/100\n",
      "100/100 [==============================] - 9s 90ms/step - loss: 0.7671 - acc: 0.6550 - val_loss: 0.8402 - val_acc: 0.6170\n",
      "Epoch 89/100\n",
      "100/100 [==============================] - 8s 83ms/step - loss: 0.7988 - acc: 0.6335 - val_loss: 0.7940 - val_acc: 0.6420\n",
      "Epoch 90/100\n",
      "100/100 [==============================] - 8s 83ms/step - loss: 0.7971 - acc: 0.6260 - val_loss: 0.8092 - val_acc: 0.6230\n",
      "Epoch 91/100\n",
      "100/100 [==============================] - 9s 89ms/step - loss: 0.7828 - acc: 0.6410 - val_loss: 0.8594 - val_acc: 0.6050\n",
      "Epoch 92/100\n",
      "100/100 [==============================] - 8s 82ms/step - loss: 0.7851 - acc: 0.6300 - val_loss: 0.8133 - val_acc: 0.6060\n",
      "Epoch 93/100\n",
      "100/100 [==============================] - 8s 82ms/step - loss: 0.7700 - acc: 0.6380 - val_loss: 0.7997 - val_acc: 0.6300\n",
      "Epoch 94/100\n",
      "100/100 [==============================] - 8s 82ms/step - loss: 0.7682 - acc: 0.6490 - val_loss: 0.7568 - val_acc: 0.6450\n",
      "Epoch 95/100\n",
      "100/100 [==============================] - 9s 90ms/step - loss: 0.7767 - acc: 0.6415 - val_loss: 0.7722 - val_acc: 0.6480\n",
      "Epoch 96/100\n",
      "100/100 [==============================] - 8s 82ms/step - loss: 0.7641 - acc: 0.6420 - val_loss: 0.8113 - val_acc: 0.6370\n",
      "Epoch 97/100\n",
      "100/100 [==============================] - 8s 84ms/step - loss: 0.7893 - acc: 0.6285 - val_loss: 0.7799 - val_acc: 0.6390\n",
      "Epoch 98/100\n",
      "100/100 [==============================] - 8s 83ms/step - loss: 0.7965 - acc: 0.6290 - val_loss: 0.8204 - val_acc: 0.6270\n",
      "Epoch 99/100\n",
      "100/100 [==============================] - 9s 91ms/step - loss: 0.7874 - acc: 0.6345 - val_loss: 0.7921 - val_acc: 0.6210\n",
      "Epoch 100/100\n",
      "100/100 [==============================] - 8s 82ms/step - loss: 0.7727 - acc: 0.6475 - val_loss: 0.8357 - val_acc: 0.6030\n"
     ]
    }
   ],
   "source": [
    "from keras.preprocessing.image import ImageDataGenerator\n",
    "from tensorflow.keras.optimizers import RMSprop\n",
    "\n",
    "train_datagen = ImageDataGenerator(rescale=1./255)\n",
    "val_datagen = ImageDataGenerator(rescale=1./255)\n",
    "\n",
    "train_generator = train_datagen.flow_from_directory(\n",
    "        train_dir,\n",
    "        target_size=(64,64),\n",
    "        batch_size=20,\n",
    "        class_mode='categorical')\n",
    "\n",
    "validation_generator = val_datagen.flow_from_directory(\n",
    "        validation_dir,\n",
    "        target_size=(64,64),\n",
    "        batch_size=20,\n",
    "        class_mode='categorical')\n",
    "\n",
    "model.compile(loss = \"categorical_crossentropy\",optimizer = RMSprop(lr=1e-4),metrics=[\"acc\"])\n",
    "\n",
    "history = model.fit(\n",
    "    train_generator,\n",
    "    steps_per_epoch=100,\n",
    "    validation_data=validation_generator,\n",
    "    validation_steps=50,\n",
    "    epochs=40)"
   ]
  },
  {
   "cell_type": "code",
   "execution_count": 23,
   "metadata": {
    "execution": {
     "iopub.execute_input": "2022-11-26T21:48:40.911369Z",
     "iopub.status.busy": "2022-11-26T21:48:40.910923Z",
     "iopub.status.idle": "2022-11-26T21:48:44.150956Z",
     "shell.execute_reply": "2022-11-26T21:48:44.150054Z",
     "shell.execute_reply.started": "2022-11-26T21:48:40.911330Z"
    }
   },
   "outputs": [
    {
     "name": "stdout",
     "output_type": "stream",
     "text": [
      "Found 1819 images belonging to 3 classes.\n",
      "91/91 [==============================] - 3s 33ms/step - loss: 0.8780 - acc: 0.5910\n",
      "0.590984046459198\n"
     ]
    }
   ],
   "source": [
    "test_datagen = ImageDataGenerator(rescale=1./255)\n",
    "test_generator = test_datagen.flow_from_directory(\n",
    "test_dir,\n",
    "    target_size=(64,64),\n",
    "    batch_size = 20,\n",
    "    class_mode=\"categorical\"\n",
    ")\n",
    "test_loss,test_acc=model.evaluate(test_generator)\n",
    "print(test_acc)"
   ]
  },
  {
   "cell_type": "raw",
   "metadata": {
    "execution": {
     "iopub.execute_input": "2022-11-26T21:49:55.272546Z",
     "iopub.status.busy": "2022-11-26T21:49:55.271584Z",
     "iopub.status.idle": "2022-11-26T21:49:55.713743Z",
     "shell.execute_reply": "2022-11-26T21:49:55.712404Z",
     "shell.execute_reply.started": "2022-11-26T21:49:55.272499Z"
    }
   },
   "source": [
    "import matplotlib.pyplot as plt\n",
    "\n",
    "acc = history.history['acc']\n",
    "val_acc = history.history['val_acc']\n",
    "loss = history.history['loss']\n",
    "val_loss = history.history['val_loss']\n",
    "\n",
    "epochs = range(1, len(acc) + 1)\n",
    "\n",
    "plt.plot(epochs, acc, 'bo', label='Training acc')\n",
    "plt.plot(epochs, val_acc, 'b-', label='Validation acc')\n",
    "plt.title('Training and validation accuracy')\n",
    "plt.legend()\n",
    "\n",
    "plt.figure()\n",
    "\n",
    "plt.plot(epochs, loss, 'bo', label='Training loss')\n",
    "plt.plot(epochs, val_loss, 'b-', label='Validation loss')\n",
    "plt.title('Training and validation loss')\n",
    "plt.legend()\n",
    "\n",
    "plt.show()\n"
   ]
  },
  {
   "cell_type": "code",
   "execution_count": 5,
   "metadata": {
    "execution": {
     "iopub.execute_input": "2022-11-27T08:54:09.531967Z",
     "iopub.status.busy": "2022-11-27T08:54:09.531544Z",
     "iopub.status.idle": "2022-11-27T08:54:14.084134Z",
     "shell.execute_reply": "2022-11-27T08:54:14.082860Z",
     "shell.execute_reply.started": "2022-11-27T08:54:09.531933Z"
    }
   },
   "outputs": [
    {
     "name": "stderr",
     "output_type": "stream",
     "text": [
      "2022-11-27 08:54:09.598785: I tensorflow/core/common_runtime/process_util.cc:146] Creating new thread pool with default inter op setting: 2. Tune using inter_op_parallelism_threads for best performance.\n"
     ]
    },
    {
     "name": "stdout",
     "output_type": "stream",
     "text": [
      "Downloading data from https://storage.googleapis.com/tensorflow/keras-applications/vgg16/vgg16_weights_tf_dim_ordering_tf_kernels_notop.h5\n",
      "58892288/58889256 [==============================] - 4s 0us/step\n",
      "58900480/58889256 [==============================] - 4s 0us/step\n",
      "Model: \"vgg16\"\n",
      "_________________________________________________________________\n",
      "Layer (type)                 Output Shape              Param #   \n",
      "=================================================================\n",
      "input_1 (InputLayer)         [(None, 64, 64, 3)]       0         \n",
      "_________________________________________________________________\n",
      "block1_conv1 (Conv2D)        (None, 64, 64, 64)        1792      \n",
      "_________________________________________________________________\n",
      "block1_conv2 (Conv2D)        (None, 64, 64, 64)        36928     \n",
      "_________________________________________________________________\n",
      "block1_pool (MaxPooling2D)   (None, 32, 32, 64)        0         \n",
      "_________________________________________________________________\n",
      "block2_conv1 (Conv2D)        (None, 32, 32, 128)       73856     \n",
      "_________________________________________________________________\n",
      "block2_conv2 (Conv2D)        (None, 32, 32, 128)       147584    \n",
      "_________________________________________________________________\n",
      "block2_pool (MaxPooling2D)   (None, 16, 16, 128)       0         \n",
      "_________________________________________________________________\n",
      "block3_conv1 (Conv2D)        (None, 16, 16, 256)       295168    \n",
      "_________________________________________________________________\n",
      "block3_conv2 (Conv2D)        (None, 16, 16, 256)       590080    \n",
      "_________________________________________________________________\n",
      "block3_conv3 (Conv2D)        (None, 16, 16, 256)       590080    \n",
      "_________________________________________________________________\n",
      "block3_pool (MaxPooling2D)   (None, 8, 8, 256)         0         \n",
      "_________________________________________________________________\n",
      "block4_conv1 (Conv2D)        (None, 8, 8, 512)         1180160   \n",
      "_________________________________________________________________\n",
      "block4_conv2 (Conv2D)        (None, 8, 8, 512)         2359808   \n",
      "_________________________________________________________________\n",
      "block4_conv3 (Conv2D)        (None, 8, 8, 512)         2359808   \n",
      "_________________________________________________________________\n",
      "block4_pool (MaxPooling2D)   (None, 4, 4, 512)         0         \n",
      "_________________________________________________________________\n",
      "block5_conv1 (Conv2D)        (None, 4, 4, 512)         2359808   \n",
      "_________________________________________________________________\n",
      "block5_conv2 (Conv2D)        (None, 4, 4, 512)         2359808   \n",
      "_________________________________________________________________\n",
      "block5_conv3 (Conv2D)        (None, 4, 4, 512)         2359808   \n",
      "_________________________________________________________________\n",
      "block5_pool (MaxPooling2D)   (None, 2, 2, 512)         0         \n",
      "=================================================================\n",
      "Total params: 14,714,688\n",
      "Trainable params: 14,714,688\n",
      "Non-trainable params: 0\n",
      "_________________________________________________________________\n"
     ]
    }
   ],
   "source": [
    "from tensorflow.keras.applications import VGG16\n",
    "\n",
    "conv_base=VGG16(weights = \"imagenet\",\n",
    "               include_top=False,\n",
    "               input_shape=(64,64,3)) \n",
    "\n",
    "conv_base.summary()"
   ]
  },
  {
   "cell_type": "code",
   "execution_count": 6,
   "metadata": {
    "execution": {
     "iopub.execute_input": "2022-11-27T08:54:20.938019Z",
     "iopub.status.busy": "2022-11-27T08:54:20.937204Z",
     "iopub.status.idle": "2022-11-27T08:54:21.586023Z",
     "shell.execute_reply": "2022-11-27T08:54:21.584720Z",
     "shell.execute_reply.started": "2022-11-27T08:54:20.937979Z"
    }
   },
   "outputs": [
    {
     "name": "stdout",
     "output_type": "stream",
     "text": [
      "734\n",
      "210\n",
      "875\n"
     ]
    }
   ],
   "source": [
    "print(len(os.listdir(r\"/kaggle/input/deep-learning2/test/disappointed\")))\n",
    "print(len(os.listdir(r\"/kaggle/input/deep-learning2/test/interested\")))\n",
    "print(len(os.listdir(r\"/kaggle/input/deep-learning2/test/neutral\")))"
   ]
  },
  {
   "cell_type": "code",
   "execution_count": 11,
   "metadata": {
    "execution": {
     "iopub.execute_input": "2022-11-27T09:15:16.752102Z",
     "iopub.status.busy": "2022-11-27T09:15:16.751667Z",
     "iopub.status.idle": "2022-11-27T09:28:42.414084Z",
     "shell.execute_reply": "2022-11-27T09:28:42.413116Z",
     "shell.execute_reply.started": "2022-11-27T09:15:16.752063Z"
    }
   },
   "outputs": [
    {
     "name": "stdout",
     "output_type": "stream",
     "text": [
      "Found 36000 images belonging to 3 classes.\n"
     ]
    }
   ],
   "source": [
    "import numpy as np\n",
    "datagen = ImageDataGenerator(rescale = 1./255)\n",
    "batch_size = 1000\n",
    "\n",
    "def extract_features(directory,sample_count):\n",
    "    features = np.zeros(shape = (sample_count,2,2,512))\n",
    "    labels = np.zeros(shape=(sample_count,3))\n",
    "\n",
    "    generator = datagen.flow_from_directory (\n",
    "    directory,\n",
    "    target_size=(64,64),\n",
    "    batch_size = batch_size,\n",
    "    class_mode=\"categorical\")\n",
    "    i = 0\n",
    "    for inputs_batch,labels_batch in generator:\n",
    "        features_batch = conv_base.predict(inputs_batch)\n",
    "        features[i*batch_size : (i+1)*batch_size] = features_batch\n",
    "        labels[i*batch_size : (i+1)*batch_size] = labels_batch\n",
    "        i+=1\n",
    "        if i*batch_size >=sample_count:\n",
    "            break\n",
    "    return features, labels\n",
    "\n",
    "train_features, train_labels = extract_features(train_dir,36000)\n"
   ]
  },
  {
   "cell_type": "code",
   "execution_count": 13,
   "metadata": {
    "execution": {
     "iopub.execute_input": "2022-11-27T09:37:53.106764Z",
     "iopub.status.busy": "2022-11-27T09:37:53.106020Z",
     "iopub.status.idle": "2022-11-27T09:40:31.294224Z",
     "shell.execute_reply": "2022-11-27T09:40:31.293119Z",
     "shell.execute_reply.started": "2022-11-27T09:37:53.106716Z"
    }
   },
   "outputs": [
    {
     "name": "stdout",
     "output_type": "stream",
     "text": [
      "Found 6000 images belonging to 3 classes.\n"
     ]
    }
   ],
   "source": [
    "validation_features, validation_labels = extract_features(validation_dir,6000)\n"
   ]
  },
  {
   "cell_type": "code",
   "execution_count": 15,
   "metadata": {
    "execution": {
     "iopub.execute_input": "2022-11-27T09:41:22.078225Z",
     "iopub.status.busy": "2022-11-27T09:41:22.077786Z",
     "iopub.status.idle": "2022-11-27T09:42:11.057012Z",
     "shell.execute_reply": "2022-11-27T09:42:11.055564Z",
     "shell.execute_reply.started": "2022-11-27T09:41:22.078186Z"
    }
   },
   "outputs": [
    {
     "name": "stdout",
     "output_type": "stream",
     "text": [
      "Found 1819 images belonging to 3 classes.\n"
     ]
    }
   ],
   "source": [
    "test_features,test_labels =extract_features(test_dir,1819)"
   ]
  },
  {
   "cell_type": "code",
   "execution_count": 19,
   "metadata": {
    "execution": {
     "iopub.execute_input": "2022-11-27T09:43:17.168668Z",
     "iopub.status.busy": "2022-11-27T09:43:17.168201Z",
     "iopub.status.idle": "2022-11-27T09:43:17.175219Z",
     "shell.execute_reply": "2022-11-27T09:43:17.173984Z",
     "shell.execute_reply.started": "2022-11-27T09:43:17.168611Z"
    }
   },
   "outputs": [],
   "source": [
    "train_features = np.reshape(train_features,(36000,2*2*512))\n",
    "validation_features = np.reshape(validation_features,(6000,2*2*512))\n",
    "test_features = np.reshape(test_features,(1819,2*2*512))"
   ]
  },
  {
   "cell_type": "code",
   "execution_count": 23,
   "metadata": {
    "execution": {
     "iopub.execute_input": "2022-11-27T09:49:33.993466Z",
     "iopub.status.busy": "2022-11-27T09:49:33.993068Z",
     "iopub.status.idle": "2022-11-27T10:04:10.990486Z",
     "shell.execute_reply": "2022-11-27T10:04:10.988950Z",
     "shell.execute_reply.started": "2022-11-27T09:49:33.993433Z"
    }
   },
   "outputs": [
    {
     "name": "stdout",
     "output_type": "stream",
     "text": [
      "Epoch 1/100\n",
      "1800/1800 [==============================] - 10s 5ms/step - loss: 1.0384 - acc: 0.4717 - val_loss: 1.0048 - val_acc: 0.4912\n",
      "Epoch 2/100\n",
      "1800/1800 [==============================] - 8s 5ms/step - loss: 0.9836 - acc: 0.5129 - val_loss: 1.0014 - val_acc: 0.4975\n",
      "Epoch 3/100\n",
      "1800/1800 [==============================] - 9s 5ms/step - loss: 0.9634 - acc: 0.5336 - val_loss: 0.9808 - val_acc: 0.5108\n",
      "Epoch 4/100\n",
      "1800/1800 [==============================] - 8s 5ms/step - loss: 0.9474 - acc: 0.5434 - val_loss: 0.9789 - val_acc: 0.5190\n",
      "Epoch 5/100\n",
      "1800/1800 [==============================] - 9s 5ms/step - loss: 0.9385 - acc: 0.5521 - val_loss: 0.9534 - val_acc: 0.5250\n",
      "Epoch 6/100\n",
      "1800/1800 [==============================] - 8s 5ms/step - loss: 0.9256 - acc: 0.5602 - val_loss: 0.9513 - val_acc: 0.5412\n",
      "Epoch 7/100\n",
      "1800/1800 [==============================] - 8s 5ms/step - loss: 0.9186 - acc: 0.5689 - val_loss: 0.9493 - val_acc: 0.5402\n",
      "Epoch 8/100\n",
      "1800/1800 [==============================] - 8s 5ms/step - loss: 0.9111 - acc: 0.5716 - val_loss: 0.9401 - val_acc: 0.5448\n",
      "Epoch 9/100\n",
      "1800/1800 [==============================] - 9s 5ms/step - loss: 0.9046 - acc: 0.5759 - val_loss: 0.9346 - val_acc: 0.5475\n",
      "Epoch 10/100\n",
      "1800/1800 [==============================] - 8s 5ms/step - loss: 0.8967 - acc: 0.5814 - val_loss: 0.9434 - val_acc: 0.5442\n",
      "Epoch 11/100\n",
      "1800/1800 [==============================] - 8s 5ms/step - loss: 0.8928 - acc: 0.5847 - val_loss: 0.9313 - val_acc: 0.5563\n",
      "Epoch 12/100\n",
      "1800/1800 [==============================] - 9s 5ms/step - loss: 0.8855 - acc: 0.5909 - val_loss: 0.9347 - val_acc: 0.5563\n",
      "Epoch 13/100\n",
      "1800/1800 [==============================] - 9s 5ms/step - loss: 0.8760 - acc: 0.5972 - val_loss: 0.9463 - val_acc: 0.5463\n",
      "Epoch 14/100\n",
      "1800/1800 [==============================] - 8s 5ms/step - loss: 0.8750 - acc: 0.5992 - val_loss: 0.9277 - val_acc: 0.5615\n",
      "Epoch 15/100\n",
      "1800/1800 [==============================] - 8s 5ms/step - loss: 0.8689 - acc: 0.6022 - val_loss: 0.9319 - val_acc: 0.5570\n",
      "Epoch 16/100\n",
      "1800/1800 [==============================] - 9s 5ms/step - loss: 0.8668 - acc: 0.6051 - val_loss: 0.9444 - val_acc: 0.5555\n",
      "Epoch 17/100\n",
      "1800/1800 [==============================] - 9s 5ms/step - loss: 0.8604 - acc: 0.6113 - val_loss: 0.9377 - val_acc: 0.5583\n",
      "Epoch 18/100\n",
      "1800/1800 [==============================] - 8s 5ms/step - loss: 0.8555 - acc: 0.6143 - val_loss: 0.9288 - val_acc: 0.5737\n",
      "Epoch 19/100\n",
      "1800/1800 [==============================] - 8s 5ms/step - loss: 0.8533 - acc: 0.6168 - val_loss: 0.9414 - val_acc: 0.5655\n",
      "Epoch 20/100\n",
      "1800/1800 [==============================] - 9s 5ms/step - loss: 0.8487 - acc: 0.6194 - val_loss: 0.9229 - val_acc: 0.5703\n",
      "Epoch 21/100\n",
      "1800/1800 [==============================] - 8s 5ms/step - loss: 0.8434 - acc: 0.6209 - val_loss: 0.9237 - val_acc: 0.5693\n",
      "Epoch 22/100\n",
      "1800/1800 [==============================] - 8s 5ms/step - loss: 0.8399 - acc: 0.6230 - val_loss: 0.9281 - val_acc: 0.5710\n",
      "Epoch 23/100\n",
      "1800/1800 [==============================] - 8s 5ms/step - loss: 0.8366 - acc: 0.6302 - val_loss: 0.9238 - val_acc: 0.5757\n",
      "Epoch 24/100\n",
      "1800/1800 [==============================] - 9s 5ms/step - loss: 0.8302 - acc: 0.6332 - val_loss: 0.9199 - val_acc: 0.5723\n",
      "Epoch 25/100\n",
      "1800/1800 [==============================] - 8s 5ms/step - loss: 0.8307 - acc: 0.6327 - val_loss: 0.9274 - val_acc: 0.5778\n",
      "Epoch 26/100\n",
      "1800/1800 [==============================] - 8s 5ms/step - loss: 0.8245 - acc: 0.6379 - val_loss: 0.9346 - val_acc: 0.5745\n",
      "Epoch 27/100\n",
      "1800/1800 [==============================] - 9s 5ms/step - loss: 0.8181 - acc: 0.6401 - val_loss: 0.9300 - val_acc: 0.5743\n",
      "Epoch 28/100\n",
      "1800/1800 [==============================] - 8s 5ms/step - loss: 0.8216 - acc: 0.6421 - val_loss: 0.9308 - val_acc: 0.5770\n",
      "Epoch 29/100\n",
      "1800/1800 [==============================] - 8s 5ms/step - loss: 0.8190 - acc: 0.6433 - val_loss: 0.9287 - val_acc: 0.5787\n",
      "Epoch 30/100\n",
      "1800/1800 [==============================] - 8s 5ms/step - loss: 0.8137 - acc: 0.6453 - val_loss: 0.9534 - val_acc: 0.5673\n",
      "Epoch 31/100\n",
      "1800/1800 [==============================] - 9s 5ms/step - loss: 0.8080 - acc: 0.6492 - val_loss: 0.9376 - val_acc: 0.5755\n",
      "Epoch 32/100\n",
      "1800/1800 [==============================] - 9s 5ms/step - loss: 0.8083 - acc: 0.6499 - val_loss: 0.9294 - val_acc: 0.5848\n",
      "Epoch 33/100\n",
      "1800/1800 [==============================] - 9s 5ms/step - loss: 0.8047 - acc: 0.6508 - val_loss: 0.9692 - val_acc: 0.5638\n",
      "Epoch 34/100\n",
      "1800/1800 [==============================] - 9s 5ms/step - loss: 0.8018 - acc: 0.6526 - val_loss: 0.9282 - val_acc: 0.5812\n",
      "Epoch 35/100\n",
      "1800/1800 [==============================] - 9s 5ms/step - loss: 0.7984 - acc: 0.6561 - val_loss: 0.9449 - val_acc: 0.5795\n",
      "Epoch 36/100\n",
      "1800/1800 [==============================] - 9s 5ms/step - loss: 0.7973 - acc: 0.6556 - val_loss: 0.9458 - val_acc: 0.5772\n",
      "Epoch 37/100\n",
      "1800/1800 [==============================] - 9s 5ms/step - loss: 0.7913 - acc: 0.6620 - val_loss: 0.9475 - val_acc: 0.5720\n",
      "Epoch 38/100\n",
      "1800/1800 [==============================] - 9s 5ms/step - loss: 0.7943 - acc: 0.6610 - val_loss: 0.9359 - val_acc: 0.5822\n",
      "Epoch 39/100\n",
      "1800/1800 [==============================] - 9s 5ms/step - loss: 0.7877 - acc: 0.6638 - val_loss: 0.9431 - val_acc: 0.5838\n",
      "Epoch 40/100\n",
      "1800/1800 [==============================] - 9s 5ms/step - loss: 0.7844 - acc: 0.6663 - val_loss: 0.9481 - val_acc: 0.5785\n",
      "Epoch 41/100\n",
      "1800/1800 [==============================] - 9s 5ms/step - loss: 0.7782 - acc: 0.6683 - val_loss: 0.9523 - val_acc: 0.5763\n",
      "Epoch 42/100\n",
      "1800/1800 [==============================] - 9s 5ms/step - loss: 0.7769 - acc: 0.6723 - val_loss: 0.9512 - val_acc: 0.5827\n",
      "Epoch 43/100\n",
      "1800/1800 [==============================] - 9s 5ms/step - loss: 0.7746 - acc: 0.6749 - val_loss: 0.9600 - val_acc: 0.5768\n",
      "Epoch 44/100\n",
      "1800/1800 [==============================] - 9s 5ms/step - loss: 0.7730 - acc: 0.6746 - val_loss: 0.9765 - val_acc: 0.5797\n",
      "Epoch 45/100\n",
      "1800/1800 [==============================] - 9s 5ms/step - loss: 0.7743 - acc: 0.6768 - val_loss: 0.9649 - val_acc: 0.5835\n",
      "Epoch 46/100\n",
      "1800/1800 [==============================] - 9s 5ms/step - loss: 0.7704 - acc: 0.6780 - val_loss: 0.9662 - val_acc: 0.5823\n",
      "Epoch 47/100\n",
      "1800/1800 [==============================] - 8s 5ms/step - loss: 0.7642 - acc: 0.6804 - val_loss: 0.9661 - val_acc: 0.5788\n",
      "Epoch 48/100\n",
      "1800/1800 [==============================] - 8s 5ms/step - loss: 0.7666 - acc: 0.6797 - val_loss: 0.9652 - val_acc: 0.5777\n",
      "Epoch 49/100\n",
      "1800/1800 [==============================] - 9s 5ms/step - loss: 0.7658 - acc: 0.6807 - val_loss: 0.9744 - val_acc: 0.5827\n",
      "Epoch 50/100\n",
      "1800/1800 [==============================] - 9s 5ms/step - loss: 0.7610 - acc: 0.6817 - val_loss: 0.9673 - val_acc: 0.5837\n",
      "Epoch 51/100\n",
      "1800/1800 [==============================] - 9s 5ms/step - loss: 0.7567 - acc: 0.6883 - val_loss: 0.9779 - val_acc: 0.5825\n",
      "Epoch 52/100\n",
      "1800/1800 [==============================] - 9s 5ms/step - loss: 0.7567 - acc: 0.6876 - val_loss: 0.9750 - val_acc: 0.5843\n",
      "Epoch 53/100\n",
      "1800/1800 [==============================] - 10s 5ms/step - loss: 0.7527 - acc: 0.6882 - val_loss: 0.9943 - val_acc: 0.5782\n",
      "Epoch 54/100\n",
      "1800/1800 [==============================] - 9s 5ms/step - loss: 0.7543 - acc: 0.6865 - val_loss: 0.9800 - val_acc: 0.5795\n",
      "Epoch 55/100\n",
      "1800/1800 [==============================] - 9s 5ms/step - loss: 0.7498 - acc: 0.6918 - val_loss: 0.9892 - val_acc: 0.5837\n",
      "Epoch 56/100\n",
      "1800/1800 [==============================] - 9s 5ms/step - loss: 0.7456 - acc: 0.6919 - val_loss: 0.9906 - val_acc: 0.5822\n",
      "Epoch 57/100\n",
      "1800/1800 [==============================] - 9s 5ms/step - loss: 0.7445 - acc: 0.6956 - val_loss: 0.9900 - val_acc: 0.5773\n",
      "Epoch 58/100\n",
      "1800/1800 [==============================] - 9s 5ms/step - loss: 0.7446 - acc: 0.6917 - val_loss: 0.9901 - val_acc: 0.5848\n",
      "Epoch 59/100\n",
      "1800/1800 [==============================] - 9s 5ms/step - loss: 0.7421 - acc: 0.6964 - val_loss: 1.0037 - val_acc: 0.5822\n",
      "Epoch 60/100\n",
      "1800/1800 [==============================] - 9s 5ms/step - loss: 0.7391 - acc: 0.6969 - val_loss: 1.0154 - val_acc: 0.5708\n",
      "Epoch 61/100\n",
      "1800/1800 [==============================] - 9s 5ms/step - loss: 0.7346 - acc: 0.6994 - val_loss: 1.0029 - val_acc: 0.5797\n",
      "Epoch 62/100\n",
      "1800/1800 [==============================] - 8s 5ms/step - loss: 0.7329 - acc: 0.6999 - val_loss: 1.0017 - val_acc: 0.5798\n",
      "Epoch 63/100\n",
      "1800/1800 [==============================] - 9s 5ms/step - loss: 0.7308 - acc: 0.7051 - val_loss: 1.0101 - val_acc: 0.5787\n",
      "Epoch 64/100\n",
      "1800/1800 [==============================] - 8s 5ms/step - loss: 0.7376 - acc: 0.7019 - val_loss: 1.0044 - val_acc: 0.5793\n",
      "Epoch 65/100\n",
      "1800/1800 [==============================] - 8s 5ms/step - loss: 0.7298 - acc: 0.7025 - val_loss: 1.0138 - val_acc: 0.5837\n",
      "Epoch 66/100\n",
      "1800/1800 [==============================] - 9s 5ms/step - loss: 0.7255 - acc: 0.7054 - val_loss: 1.0370 - val_acc: 0.5765\n",
      "Epoch 67/100\n",
      "1800/1800 [==============================] - 9s 5ms/step - loss: 0.7262 - acc: 0.7038 - val_loss: 1.0448 - val_acc: 0.5815\n",
      "Epoch 68/100\n",
      "1800/1800 [==============================] - 9s 5ms/step - loss: 0.7317 - acc: 0.7066 - val_loss: 1.0231 - val_acc: 0.5800\n",
      "Epoch 69/100\n",
      "1800/1800 [==============================] - 9s 5ms/step - loss: 0.7229 - acc: 0.7106 - val_loss: 1.0351 - val_acc: 0.5730\n",
      "Epoch 70/100\n",
      "1800/1800 [==============================] - 9s 5ms/step - loss: 0.7255 - acc: 0.7089 - val_loss: 1.0447 - val_acc: 0.5708\n",
      "Epoch 71/100\n",
      "1800/1800 [==============================] - 9s 5ms/step - loss: 0.7279 - acc: 0.7081 - val_loss: 1.0255 - val_acc: 0.5767\n",
      "Epoch 72/100\n",
      "1800/1800 [==============================] - 8s 5ms/step - loss: 0.7214 - acc: 0.7114 - val_loss: 1.0402 - val_acc: 0.5775\n",
      "Epoch 73/100\n",
      "1800/1800 [==============================] - 8s 5ms/step - loss: 0.7175 - acc: 0.7111 - val_loss: 1.0405 - val_acc: 0.5792\n",
      "Epoch 74/100\n",
      "1800/1800 [==============================] - 9s 5ms/step - loss: 0.7204 - acc: 0.7109 - val_loss: 1.0358 - val_acc: 0.5800\n",
      "Epoch 75/100\n",
      "1800/1800 [==============================] - 9s 5ms/step - loss: 0.7115 - acc: 0.7137 - val_loss: 1.0428 - val_acc: 0.5795\n",
      "Epoch 76/100\n",
      "1800/1800 [==============================] - 9s 5ms/step - loss: 0.7182 - acc: 0.7124 - val_loss: 1.0629 - val_acc: 0.5767\n",
      "Epoch 77/100\n",
      "1800/1800 [==============================] - 9s 5ms/step - loss: 0.7140 - acc: 0.7131 - val_loss: 1.0465 - val_acc: 0.5772\n",
      "Epoch 78/100\n",
      "1800/1800 [==============================] - 9s 5ms/step - loss: 0.7122 - acc: 0.7150 - val_loss: 1.0659 - val_acc: 0.5788\n",
      "Epoch 79/100\n",
      "1800/1800 [==============================] - 9s 5ms/step - loss: 0.7086 - acc: 0.7178 - val_loss: 1.0575 - val_acc: 0.5823\n",
      "Epoch 80/100\n",
      "1800/1800 [==============================] - 9s 5ms/step - loss: 0.7146 - acc: 0.7164 - val_loss: 1.0615 - val_acc: 0.5835\n",
      "Epoch 81/100\n",
      "1800/1800 [==============================] - 10s 5ms/step - loss: 0.7039 - acc: 0.7231 - val_loss: 1.0662 - val_acc: 0.5732\n",
      "Epoch 82/100\n",
      "1800/1800 [==============================] - 9s 5ms/step - loss: 0.7045 - acc: 0.7206 - val_loss: 1.0811 - val_acc: 0.5788\n",
      "Epoch 83/100\n",
      "1800/1800 [==============================] - 9s 5ms/step - loss: 0.7079 - acc: 0.7206 - val_loss: 1.0881 - val_acc: 0.5802\n",
      "Epoch 84/100\n",
      "1800/1800 [==============================] - 9s 5ms/step - loss: 0.7021 - acc: 0.7247 - val_loss: 1.0683 - val_acc: 0.5760\n",
      "Epoch 85/100\n",
      "1800/1800 [==============================] - 10s 5ms/step - loss: 0.7070 - acc: 0.7207 - val_loss: 1.0554 - val_acc: 0.5720\n",
      "Epoch 86/100\n",
      "1800/1800 [==============================] - 9s 5ms/step - loss: 0.7069 - acc: 0.7230 - val_loss: 1.0656 - val_acc: 0.5742\n",
      "Epoch 87/100\n",
      "1800/1800 [==============================] - 9s 5ms/step - loss: 0.6991 - acc: 0.7235 - val_loss: 1.0741 - val_acc: 0.5745\n",
      "Epoch 88/100\n",
      "1800/1800 [==============================] - 10s 5ms/step - loss: 0.7017 - acc: 0.7254 - val_loss: 1.0762 - val_acc: 0.5807\n",
      "Epoch 89/100\n",
      "1800/1800 [==============================] - 9s 5ms/step - loss: 0.7006 - acc: 0.7246 - val_loss: 1.1197 - val_acc: 0.5748\n",
      "Epoch 90/100\n",
      "1800/1800 [==============================] - 9s 5ms/step - loss: 0.6974 - acc: 0.7262 - val_loss: 1.1180 - val_acc: 0.5768\n",
      "Epoch 91/100\n",
      "1800/1800 [==============================] - 9s 5ms/step - loss: 0.7016 - acc: 0.7272 - val_loss: 1.0836 - val_acc: 0.5720\n",
      "Epoch 92/100\n",
      "1800/1800 [==============================] - 9s 5ms/step - loss: 0.6954 - acc: 0.7285 - val_loss: 1.1136 - val_acc: 0.5700\n",
      "Epoch 93/100\n",
      "1800/1800 [==============================] - 9s 5ms/step - loss: 0.6975 - acc: 0.7291 - val_loss: 1.1161 - val_acc: 0.5777\n",
      "Epoch 94/100\n",
      "1800/1800 [==============================] - 9s 5ms/step - loss: 0.6944 - acc: 0.7300 - val_loss: 1.1188 - val_acc: 0.5782\n",
      "Epoch 95/100\n",
      "1800/1800 [==============================] - 9s 5ms/step - loss: 0.6930 - acc: 0.7281 - val_loss: 1.1090 - val_acc: 0.5767\n",
      "Epoch 96/100\n",
      "1800/1800 [==============================] - 8s 5ms/step - loss: 0.6995 - acc: 0.7301 - val_loss: 1.1160 - val_acc: 0.5737\n",
      "Epoch 97/100\n",
      "1800/1800 [==============================] - 9s 5ms/step - loss: 0.6887 - acc: 0.7286 - val_loss: 1.1327 - val_acc: 0.5662\n",
      "Epoch 98/100\n",
      "1800/1800 [==============================] - 8s 5ms/step - loss: 0.6887 - acc: 0.7327 - val_loss: 1.1429 - val_acc: 0.5750\n",
      "Epoch 99/100\n",
      "1800/1800 [==============================] - 9s 5ms/step - loss: 0.6895 - acc: 0.7309 - val_loss: 1.1424 - val_acc: 0.5763\n",
      "Epoch 100/100\n",
      "1800/1800 [==============================] - 9s 5ms/step - loss: 0.6914 - acc: 0.7335 - val_loss: 1.1374 - val_acc: 0.5733\n"
     ]
    },
    {
     "data": {
      "text/plain": [
       "<keras.callbacks.History at 0x7fbc30281ed0>"
      ]
     },
     "execution_count": 23,
     "metadata": {},
     "output_type": "execute_result"
    }
   ],
   "source": [
    "from tensorflow.keras import models,layers,optimizers\n",
    "\n",
    "model = models.Sequential()\n",
    "model.add(layers.Dense(256,activation=\"relu\",input_dim=2*2*512))\n",
    "model.add(layers.Dropout(0.5))\n",
    "model.add(layers.Dense(3,activation=\"softmax\"))\n",
    "model.compile(loss=\"categorical_crossentropy\",optimizer = optimizers.RMSprop(1e-4),metrics = [\"acc\"])  \n",
    "history = model.fit(train_features,train_labels,\n",
    "          epochs=100,\n",
    "          batch_size=20,\n",
    "          validation_data=(validation_features,validation_labels))        "
   ]
  },
  {
   "cell_type": "code",
   "execution_count": 24,
   "metadata": {
    "execution": {
     "iopub.execute_input": "2022-11-27T10:04:23.505364Z",
     "iopub.status.busy": "2022-11-27T10:04:23.504922Z",
     "iopub.status.idle": "2022-11-27T10:04:23.534348Z",
     "shell.execute_reply": "2022-11-27T10:04:23.532923Z",
     "shell.execute_reply.started": "2022-11-27T10:04:23.505324Z"
    }
   },
   "outputs": [
    {
     "ename": "NameError",
     "evalue": "name 'history' is not defined",
     "output_type": "error",
     "traceback": [
      "\u001b[0;31m---------------------------------------------------------------------------\u001b[0m",
      "\u001b[0;31mNameError\u001b[0m                                 Traceback (most recent call last)",
      "\u001b[0;32m/tmp/ipykernel_28/1122864452.py\u001b[0m in \u001b[0;36m<module>\u001b[0;34m\u001b[0m\n\u001b[1;32m      1\u001b[0m \u001b[0;32mimport\u001b[0m \u001b[0mmatplotlib\u001b[0m\u001b[0;34m.\u001b[0m\u001b[0mpyplot\u001b[0m \u001b[0;32mas\u001b[0m \u001b[0mplt\u001b[0m\u001b[0;34m\u001b[0m\u001b[0;34m\u001b[0m\u001b[0m\n\u001b[1;32m      2\u001b[0m \u001b[0;34m\u001b[0m\u001b[0m\n\u001b[0;32m----> 3\u001b[0;31m \u001b[0macc\u001b[0m \u001b[0;34m=\u001b[0m \u001b[0mhistory\u001b[0m\u001b[0;34m.\u001b[0m\u001b[0mhistory\u001b[0m\u001b[0;34m[\u001b[0m\u001b[0;34m'acc'\u001b[0m\u001b[0;34m]\u001b[0m\u001b[0;34m\u001b[0m\u001b[0;34m\u001b[0m\u001b[0m\n\u001b[0m\u001b[1;32m      4\u001b[0m \u001b[0mval_acc\u001b[0m \u001b[0;34m=\u001b[0m \u001b[0mhistory\u001b[0m\u001b[0;34m.\u001b[0m\u001b[0mhistory\u001b[0m\u001b[0;34m[\u001b[0m\u001b[0;34m'val_acc'\u001b[0m\u001b[0;34m]\u001b[0m\u001b[0;34m\u001b[0m\u001b[0;34m\u001b[0m\u001b[0m\n\u001b[1;32m      5\u001b[0m \u001b[0mloss\u001b[0m \u001b[0;34m=\u001b[0m \u001b[0mhistory\u001b[0m\u001b[0;34m.\u001b[0m\u001b[0mhistory\u001b[0m\u001b[0;34m[\u001b[0m\u001b[0;34m'loss'\u001b[0m\u001b[0;34m]\u001b[0m\u001b[0;34m\u001b[0m\u001b[0;34m\u001b[0m\u001b[0m\n",
      "\u001b[0;31mNameError\u001b[0m: name 'history' is not defined"
     ]
    }
   ],
   "source": [
    "import matplotlib.pyplot as plt\n",
    "\n",
    "acc = history.history['acc']\n",
    "val_acc = history.history['val_acc']\n",
    "loss = history.history['loss']\n",
    "val_loss = history.history['val_loss']\n",
    "\n",
    "epochs = range(1, len(acc) + 1)\n",
    "\n",
    "plt.plot(epochs, acc, 'bo', label='Training acc')\n",
    "plt.plot(epochs, val_acc, 'b-', label='Validation acc')\n",
    "plt.title('Training and validation accuracy')\n",
    "plt.legend()\n",
    "\n",
    "plt.figure()\n",
    "\n",
    "plt.plot(epochs, loss, 'bo', label='Training loss')\n",
    "plt.plot(epochs, val_loss, 'b-', label='Validation loss')\n",
    "plt.title('Training and validation loss')\n",
    "plt.legend()\n",
    "\n",
    "plt.show()\n"
   ]
  },
  {
   "cell_type": "code",
   "execution_count": 26,
   "metadata": {
    "execution": {
     "iopub.execute_input": "2022-11-27T10:06:45.148066Z",
     "iopub.status.busy": "2022-11-27T10:06:45.147670Z",
     "iopub.status.idle": "2022-11-27T10:06:45.242268Z",
     "shell.execute_reply": "2022-11-27T10:06:45.241071Z",
     "shell.execute_reply.started": "2022-11-27T10:06:45.148034Z"
    }
   },
   "outputs": [
    {
     "name": "stdout",
     "output_type": "stream",
     "text": [
      "Model: \"sequential_2\"\n",
      "_________________________________________________________________\n",
      "Layer (type)                 Output Shape              Param #   \n",
      "=================================================================\n",
      "vgg16 (Functional)           (None, 2, 2, 512)         14714688  \n",
      "_________________________________________________________________\n",
      "flatten (Flatten)            (None, 2048)              0         \n",
      "_________________________________________________________________\n",
      "dense_2 (Dense)              (None, 512)               1049088   \n",
      "_________________________________________________________________\n",
      "dense_3 (Dense)              (None, 3)                 1539      \n",
      "=================================================================\n",
      "Total params: 15,765,315\n",
      "Trainable params: 15,765,315\n",
      "Non-trainable params: 0\n",
      "_________________________________________________________________\n"
     ]
    }
   ],
   "source": [
    "model = models.Sequential()\n",
    "model.add(conv_base)\n",
    "model.add(layers.Flatten()),\n",
    "model.add(layers.Dense(512,activation=\"relu\"))\n",
    "model.add(layers.Dense(3,activation=\"softmax\"))\n",
    "\n",
    "model.summary()\n"
   ]
  },
  {
   "cell_type": "code",
   "execution_count": 27,
   "metadata": {
    "execution": {
     "iopub.execute_input": "2022-11-27T10:07:58.714305Z",
     "iopub.status.busy": "2022-11-27T10:07:58.713459Z",
     "iopub.status.idle": "2022-11-27T10:07:58.721955Z",
     "shell.execute_reply": "2022-11-27T10:07:58.720538Z",
     "shell.execute_reply.started": "2022-11-27T10:07:58.714260Z"
    }
   },
   "outputs": [
    {
     "name": "stdout",
     "output_type": "stream",
     "text": [
      "30\n",
      "4\n"
     ]
    }
   ],
   "source": [
    "print(len(model.trainable_weights))\n",
    "conv_base.trainable=False\n",
    "print(len(model.trainable_weights))"
   ]
  },
  {
   "cell_type": "code",
   "execution_count": 29,
   "metadata": {
    "execution": {
     "iopub.execute_input": "2022-11-27T10:11:21.758560Z",
     "iopub.status.busy": "2022-11-27T10:11:21.758132Z",
     "iopub.status.idle": "2022-11-27T10:52:28.451605Z",
     "shell.execute_reply": "2022-11-27T10:52:28.450688Z",
     "shell.execute_reply.started": "2022-11-27T10:11:21.758526Z"
    }
   },
   "outputs": [
    {
     "name": "stdout",
     "output_type": "stream",
     "text": [
      "Found 36000 images belonging to 3 classes.\n",
      "Found 6000 images belonging to 3 classes.\n",
      "Epoch 1/40\n",
      "100/100 [==============================] - 63s 626ms/step - loss: 1.0291 - acc: 0.4820 - val_loss: 1.0559 - val_acc: 0.4500\n",
      "Epoch 2/40\n",
      "100/100 [==============================] - 63s 628ms/step - loss: 1.0117 - acc: 0.5010 - val_loss: 1.0129 - val_acc: 0.4790\n",
      "Epoch 3/40\n",
      "100/100 [==============================] - 61s 613ms/step - loss: 1.0045 - acc: 0.4955 - val_loss: 1.0610 - val_acc: 0.4530\n",
      "Epoch 4/40\n",
      "100/100 [==============================] - 62s 614ms/step - loss: 0.9994 - acc: 0.5020 - val_loss: 1.0169 - val_acc: 0.4870\n",
      "Epoch 5/40\n",
      "100/100 [==============================] - 62s 618ms/step - loss: 0.9937 - acc: 0.5090 - val_loss: 1.0016 - val_acc: 0.5050\n",
      "Epoch 6/40\n",
      "100/100 [==============================] - 61s 615ms/step - loss: 0.9942 - acc: 0.5080 - val_loss: 1.0326 - val_acc: 0.4710\n",
      "Epoch 7/40\n",
      "100/100 [==============================] - 61s 616ms/step - loss: 0.9862 - acc: 0.5175 - val_loss: 1.0016 - val_acc: 0.4850\n",
      "Epoch 8/40\n",
      "100/100 [==============================] - 62s 618ms/step - loss: 0.9672 - acc: 0.5260 - val_loss: 1.0025 - val_acc: 0.4900\n",
      "Epoch 9/40\n",
      "100/100 [==============================] - 62s 619ms/step - loss: 0.9810 - acc: 0.5105 - val_loss: 0.9778 - val_acc: 0.5110\n",
      "Epoch 10/40\n",
      "100/100 [==============================] - 62s 617ms/step - loss: 0.9749 - acc: 0.5175 - val_loss: 1.0076 - val_acc: 0.4620\n",
      "Epoch 11/40\n",
      "100/100 [==============================] - 61s 613ms/step - loss: 0.9467 - acc: 0.5415 - val_loss: 1.0063 - val_acc: 0.4890\n",
      "Epoch 12/40\n",
      "100/100 [==============================] - 61s 612ms/step - loss: 0.9674 - acc: 0.5260 - val_loss: 1.0332 - val_acc: 0.4630\n",
      "Epoch 13/40\n",
      "100/100 [==============================] - 62s 619ms/step - loss: 0.9566 - acc: 0.5505 - val_loss: 1.0116 - val_acc: 0.4950\n",
      "Epoch 14/40\n",
      "100/100 [==============================] - 62s 619ms/step - loss: 0.9560 - acc: 0.5270 - val_loss: 1.0553 - val_acc: 0.4720\n",
      "Epoch 15/40\n",
      "100/100 [==============================] - 62s 621ms/step - loss: 0.9521 - acc: 0.5505 - val_loss: 0.9938 - val_acc: 0.5060\n",
      "Epoch 16/40\n",
      "100/100 [==============================] - 62s 618ms/step - loss: 0.9543 - acc: 0.5455 - val_loss: 1.0762 - val_acc: 0.4560\n",
      "Epoch 17/40\n",
      "100/100 [==============================] - 62s 619ms/step - loss: 0.9495 - acc: 0.5565 - val_loss: 0.9834 - val_acc: 0.5040\n",
      "Epoch 18/40\n",
      "100/100 [==============================] - 62s 618ms/step - loss: 0.9475 - acc: 0.5510 - val_loss: 0.9857 - val_acc: 0.4940\n",
      "Epoch 19/40\n",
      "100/100 [==============================] - 62s 624ms/step - loss: 0.9331 - acc: 0.5590 - val_loss: 0.9868 - val_acc: 0.4980\n",
      "Epoch 20/40\n",
      "100/100 [==============================] - 62s 618ms/step - loss: 0.9555 - acc: 0.5390 - val_loss: 1.0190 - val_acc: 0.4910\n",
      "Epoch 21/40\n",
      "100/100 [==============================] - 62s 623ms/step - loss: 0.9636 - acc: 0.5305 - val_loss: 1.0109 - val_acc: 0.4720\n",
      "Epoch 22/40\n",
      "100/100 [==============================] - 62s 626ms/step - loss: 0.9438 - acc: 0.5550 - val_loss: 0.9580 - val_acc: 0.5430\n",
      "Epoch 23/40\n",
      "100/100 [==============================] - 62s 617ms/step - loss: 0.9334 - acc: 0.5650 - val_loss: 0.9964 - val_acc: 0.4950\n",
      "Epoch 24/40\n",
      "100/100 [==============================] - 61s 614ms/step - loss: 0.9436 - acc: 0.5490 - val_loss: 0.9919 - val_acc: 0.5250\n",
      "Epoch 25/40\n",
      "100/100 [==============================] - 61s 615ms/step - loss: 0.9313 - acc: 0.5475 - val_loss: 1.0087 - val_acc: 0.4910\n",
      "Epoch 26/40\n",
      "100/100 [==============================] - 61s 611ms/step - loss: 0.9071 - acc: 0.5825 - val_loss: 0.9513 - val_acc: 0.5530\n",
      "Epoch 27/40\n",
      "100/100 [==============================] - 62s 620ms/step - loss: 0.9395 - acc: 0.5425 - val_loss: 0.9634 - val_acc: 0.5080\n",
      "Epoch 28/40\n",
      "100/100 [==============================] - 61s 613ms/step - loss: 0.9244 - acc: 0.5630 - val_loss: 0.9576 - val_acc: 0.5300\n",
      "Epoch 29/40\n",
      "100/100 [==============================] - 61s 614ms/step - loss: 0.9171 - acc: 0.5660 - val_loss: 0.9668 - val_acc: 0.5250\n",
      "Epoch 30/40\n",
      "100/100 [==============================] - 61s 608ms/step - loss: 0.8990 - acc: 0.5840 - val_loss: 0.9876 - val_acc: 0.5130\n",
      "Epoch 31/40\n",
      "100/100 [==============================] - 61s 614ms/step - loss: 0.9321 - acc: 0.5780 - val_loss: 0.9686 - val_acc: 0.5250\n",
      "Epoch 32/40\n",
      "100/100 [==============================] - 61s 615ms/step - loss: 0.9231 - acc: 0.5490 - val_loss: 0.9481 - val_acc: 0.5360\n",
      "Epoch 33/40\n",
      "100/100 [==============================] - 61s 616ms/step - loss: 0.9267 - acc: 0.5585 - val_loss: 1.0123 - val_acc: 0.5030\n",
      "Epoch 34/40\n",
      "100/100 [==============================] - 62s 620ms/step - loss: 0.9000 - acc: 0.5780 - val_loss: 1.0033 - val_acc: 0.5030\n",
      "Epoch 35/40\n",
      "100/100 [==============================] - 61s 615ms/step - loss: 0.9343 - acc: 0.5620 - val_loss: 0.9834 - val_acc: 0.5150\n",
      "Epoch 36/40\n",
      "100/100 [==============================] - 61s 615ms/step - loss: 0.8931 - acc: 0.5810 - val_loss: 0.9778 - val_acc: 0.4980\n",
      "Epoch 37/40\n",
      "100/100 [==============================] - 61s 612ms/step - loss: 0.9182 - acc: 0.5630 - val_loss: 0.9684 - val_acc: 0.5400\n",
      "Epoch 38/40\n",
      "100/100 [==============================] - 61s 613ms/step - loss: 0.9025 - acc: 0.5670 - val_loss: 0.9810 - val_acc: 0.5110\n",
      "Epoch 39/40\n",
      "100/100 [==============================] - 62s 617ms/step - loss: 0.9274 - acc: 0.5615 - val_loss: 0.9434 - val_acc: 0.5440\n",
      "Epoch 40/40\n",
      "100/100 [==============================] - 62s 621ms/step - loss: 0.8882 - acc: 0.5765 - val_loss: 0.9605 - val_acc: 0.5190\n"
     ]
    }
   ],
   "source": [
    "from keras.preprocessing.image import ImageDataGenerator\n",
    "from tensorflow.keras.optimizers import RMSprop\n",
    "\n",
    "train_datagen = ImageDataGenerator(rescale=1./255)\n",
    "val_datagen = ImageDataGenerator(rescale=1./255)\n",
    "\n",
    "train_generator = train_datagen.flow_from_directory(\n",
    "        train_dir,\n",
    "        target_size=(64,64),\n",
    "        batch_size=20,\n",
    "        class_mode='categorical')\n",
    "\n",
    "validation_generator = val_datagen.flow_from_directory(\n",
    "        validation_dir,\n",
    "        target_size=(64,64),\n",
    "        batch_size=20,\n",
    "        class_mode='categorical')\n",
    "\n",
    "model.compile(loss = \"categorical_crossentropy\",optimizer = RMSprop(lr=1e-4),metrics=[\"acc\"])\n",
    "\n",
    "history = model.fit(\n",
    "    train_generator,\n",
    "    steps_per_epoch=100,\n",
    "    validation_data=validation_generator,\n",
    "    validation_steps=50,\n",
    "    epochs=40)"
   ]
  },
  {
   "cell_type": "code",
   "execution_count": 32,
   "metadata": {
    "execution": {
     "iopub.execute_input": "2022-11-27T10:58:03.488375Z",
     "iopub.status.busy": "2022-11-27T10:58:03.487945Z",
     "iopub.status.idle": "2022-11-27T10:58:03.907494Z",
     "shell.execute_reply": "2022-11-27T10:58:03.906390Z",
     "shell.execute_reply.started": "2022-11-27T10:58:03.488337Z"
    }
   },
   "outputs": [
    {
     "data": {
      "image/png": "[encoded data removed]",
      "text/plain": [
       "<Figure size 432x288 with 1 Axes>"
      ]
     },
     "metadata": {
      "needs_background": "light"
     },
     "output_type": "display_data"
    },
    {
     "data": {
      "image/png": "[encoded data removed]",
      "text/plain": [
       "<Figure size 432x288 with 1 Axes>"
      ]
     },
     "metadata": {
      "needs_background": "light"
     },
     "output_type": "display_data"
    }
   ],
   "source": [
    "import matplotlib.pyplot as plt\n",
    "\n",
    "acc = history.history['acc']\n",
    "val_acc = history.history['val_acc']\n",
    "loss = history.history['loss']\n",
    "val_loss = history.history['val_loss']\n",
    "\n",
    "epochs = range(1, len(acc) + 1)\n",
    "\n",
    "plt.plot(epochs, acc, 'bo', label='Training acc')\n",
    "plt.plot(epochs, val_acc, 'b-', label='Validation acc')\n",
    "plt.title('Training and validation accuracy')\n",
    "plt.legend()\n",
    "\n",
    "plt.figure()\n",
    "\n",
    "plt.plot(epochs, loss, 'bo', label='Training loss')\n",
    "plt.plot(epochs, val_loss, 'b-', label='Validation loss')\n",
    "plt.title('Training and validation loss')\n",
    "plt.legend()\n",
    "\n",
    "plt.show()\n"
   ]
  },
  {
   "cell_type": "code",
   "execution_count": 30,
   "metadata": {
    "execution": {
     "iopub.execute_input": "2022-11-27T10:55:39.557707Z",
     "iopub.status.busy": "2022-11-27T10:55:39.557288Z",
     "iopub.status.idle": "2022-11-27T10:55:39.567113Z",
     "shell.execute_reply": "2022-11-27T10:55:39.565804Z",
     "shell.execute_reply.started": "2022-11-27T10:55:39.557670Z"
    }
   },
   "outputs": [
    {
     "name": "stdout",
     "output_type": "stream",
     "text": [
      "Model: \"vgg16\"\n",
      "_________________________________________________________________\n",
      "Layer (type)                 Output Shape              Param #   \n",
      "=================================================================\n",
      "input_1 (InputLayer)         [(None, 64, 64, 3)]       0         \n",
      "_________________________________________________________________\n",
      "block1_conv1 (Conv2D)        (None, 64, 64, 64)        1792      \n",
      "_________________________________________________________________\n",
      "block1_conv2 (Conv2D)        (None, 64, 64, 64)        36928     \n",
      "_________________________________________________________________\n",
      "block1_pool (MaxPooling2D)   (None, 32, 32, 64)        0         \n",
      "_________________________________________________________________\n",
      "block2_conv1 (Conv2D)        (None, 32, 32, 128)       73856     \n",
      "_________________________________________________________________\n",
      "block2_conv2 (Conv2D)        (None, 32, 32, 128)       147584    \n",
      "_________________________________________________________________\n",
      "block2_pool (MaxPooling2D)   (None, 16, 16, 128)       0         \n",
      "_________________________________________________________________\n",
      "block3_conv1 (Conv2D)        (None, 16, 16, 256)       295168    \n",
      "_________________________________________________________________\n",
      "block3_conv2 (Conv2D)        (None, 16, 16, 256)       590080    \n",
      "_________________________________________________________________\n",
      "block3_conv3 (Conv2D)        (None, 16, 16, 256)       590080    \n",
      "_________________________________________________________________\n",
      "block3_pool (MaxPooling2D)   (None, 8, 8, 256)         0         \n",
      "_________________________________________________________________\n",
      "block4_conv1 (Conv2D)        (None, 8, 8, 512)         1180160   \n",
      "_________________________________________________________________\n",
      "block4_conv2 (Conv2D)        (None, 8, 8, 512)         2359808   \n",
      "_________________________________________________________________\n",
      "block4_conv3 (Conv2D)        (None, 8, 8, 512)         2359808   \n",
      "_________________________________________________________________\n",
      "block4_pool (MaxPooling2D)   (None, 4, 4, 512)         0         \n",
      "_________________________________________________________________\n",
      "block5_conv1 (Conv2D)        (None, 4, 4, 512)         2359808   \n",
      "_________________________________________________________________\n",
      "block5_conv2 (Conv2D)        (None, 4, 4, 512)         2359808   \n",
      "_________________________________________________________________\n",
      "block5_conv3 (Conv2D)        (None, 4, 4, 512)         2359808   \n",
      "_________________________________________________________________\n",
      "block5_pool (MaxPooling2D)   (None, 2, 2, 512)         0         \n",
      "=================================================================\n",
      "Total params: 14,714,688\n",
      "Trainable params: 0\n",
      "Non-trainable params: 14,714,688\n",
      "_________________________________________________________________\n"
     ]
    }
   ],
   "source": [
    "conv_base.summary()"
   ]
  },
  {
   "cell_type": "code",
   "execution_count": 31,
   "metadata": {
    "execution": {
     "iopub.execute_input": "2022-11-27T10:57:35.341362Z",
     "iopub.status.busy": "2022-11-27T10:57:35.340934Z",
     "iopub.status.idle": "2022-11-27T10:57:35.349313Z",
     "shell.execute_reply": "2022-11-27T10:57:35.348149Z",
     "shell.execute_reply.started": "2022-11-27T10:57:35.341325Z"
    }
   },
   "outputs": [],
   "source": [
    "conv_base.trainable=True\n",
    "set_trainable=False\n",
    "for layer in conv_base.layers:\n",
    "    if layer.name ==\"block5_conv1\":\n",
    "        set_trainable = True\n",
    "    if set_trainable:\n",
    "        layer.trainable = True\n",
    "    else:\n",
    "        layer.trainable=False"
   ]
  },
  {
   "cell_type": "code",
   "execution_count": null,
   "metadata": {
    "execution": {
     "iopub.execute_input": "2022-11-27T10:59:15.119450Z",
     "iopub.status.busy": "2022-11-27T10:59:15.119058Z"
    }
   },
   "outputs": [
    {
     "name": "stdout",
     "output_type": "stream",
     "text": [
      "Epoch 1/100\n",
      "100/100 [==============================] - 75s 741ms/step - loss: 1.0425 - acc: 0.4725 - val_loss: 1.0233 - val_acc: 0.4900\n",
      "Epoch 2/100\n",
      "100/100 [==============================] - 75s 747ms/step - loss: 0.9672 - acc: 0.5285 - val_loss: 0.9742 - val_acc: 0.4970\n",
      "Epoch 3/100\n",
      "100/100 [==============================] - 75s 752ms/step - loss: 0.9492 - acc: 0.5405 - val_loss: 0.9239 - val_acc: 0.5650\n",
      "Epoch 4/100\n",
      "100/100 [==============================] - 74s 739ms/step - loss: 0.9123 - acc: 0.5725 - val_loss: 0.9442 - val_acc: 0.5430\n",
      "Epoch 5/100\n",
      "100/100 [==============================] - 73s 735ms/step - loss: 0.8915 - acc: 0.5715 - val_loss: 0.9307 - val_acc: 0.5650\n",
      "Epoch 6/100\n",
      "100/100 [==============================] - 73s 733ms/step - loss: 0.8844 - acc: 0.5820 - val_loss: 0.9215 - val_acc: 0.5480\n",
      "Epoch 7/100\n",
      "100/100 [==============================] - 73s 732ms/step - loss: 0.8759 - acc: 0.5875 - val_loss: 0.8778 - val_acc: 0.5820\n",
      "Epoch 8/100\n",
      "100/100 [==============================] - 74s 739ms/step - loss: 0.8425 - acc: 0.5815 - val_loss: 0.9906 - val_acc: 0.5290\n",
      "Epoch 9/100\n",
      "100/100 [==============================] - 74s 741ms/step - loss: 0.8486 - acc: 0.5960 - val_loss: 0.9001 - val_acc: 0.5910\n",
      "Epoch 10/100\n",
      "100/100 [==============================] - 73s 729ms/step - loss: 0.8266 - acc: 0.6250 - val_loss: 0.8871 - val_acc: 0.5720\n",
      "Epoch 11/100\n",
      "100/100 [==============================] - 73s 727ms/step - loss: 0.8151 - acc: 0.6120 - val_loss: 0.8596 - val_acc: 0.5750\n",
      "Epoch 12/100\n",
      "100/100 [==============================] - 73s 727ms/step - loss: 0.8512 - acc: 0.6000 - val_loss: 0.8796 - val_acc: 0.5980\n",
      "Epoch 13/100\n",
      "100/100 [==============================] - 73s 733ms/step - loss: 0.8330 - acc: 0.6160 - val_loss: 0.8627 - val_acc: 0.5970\n",
      "Epoch 14/100\n",
      "100/100 [==============================] - 73s 728ms/step - loss: 0.8070 - acc: 0.6365 - val_loss: 0.9174 - val_acc: 0.5700\n",
      "Epoch 15/100\n",
      "100/100 [==============================] - 73s 730ms/step - loss: 0.8248 - acc: 0.6150 - val_loss: 0.8518 - val_acc: 0.6010\n",
      "Epoch 16/100\n",
      "100/100 [==============================] - 72s 726ms/step - loss: 0.8050 - acc: 0.6355 - val_loss: 0.8311 - val_acc: 0.6100\n",
      "Epoch 17/100\n",
      "100/100 [==============================] - 73s 729ms/step - loss: 0.7978 - acc: 0.6340 - val_loss: 0.8415 - val_acc: 0.6000\n",
      "Epoch 18/100\n",
      "100/100 [==============================] - 73s 729ms/step - loss: 0.7763 - acc: 0.6370 - val_loss: 0.9122 - val_acc: 0.5900\n",
      "Epoch 19/100\n",
      " 90/100 [==========================>...] - ETA: 5s - loss: 0.8221 - acc: 0.6272"
     ]
    }
   ],
   "source": [
    "model.compile(loss = \"categorical_crossentropy\",optimizer = RMSprop(lr=1e-4),metrics=[\"acc\"])\n",
    "\n",
    "history = model.fit(\n",
    "    train_generator,\n",
    "    steps_per_epoch=100,\n",
    "    validation_data=validation_generator,\n",
    "    validation_steps=50,\n",
    "    epochs=100)"
   ]
  }
 ],
 "metadata": {
  "kernelspec": {
   "display_name": "Python 3 (ipykernel)",
   "language": "python",
   "name": "python3"
  },
  "language_info": {
   "codemirror_mode": {
    "name": "ipython",
    "version": 3
   },
   "file_extension": ".py",
   "mimetype": "text/x-python",
   "name": "python",
   "nbconvert_exporter": "python",
   "pygments_lexer": "ipython3",
   "version": "3.9.13"
  }
 },
 "nbformat": 4,
 "nbformat_minor": 4
}
