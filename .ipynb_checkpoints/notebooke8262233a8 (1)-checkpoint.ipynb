{
 "cells": [
  {
   "cell_type": "code",
   "execution_count": 5,
   "metadata": {},
   "outputs": [],
   "source": [
    "import os\n",
    "base_dir = (r\"D:\\Uygulamalar\\Deep_Learning_Project\")\n",
    "os.mkdir(base_dir)\n",
    "train_dir = os.path.join(base_dir, \"train\")\n",
    "os.mkdir(train_dir)\n",
    "validation_dir = os.path.join(base_dir, \"validation\")\n",
    "os.mkdir(validation_dir)\n",
    "test_dir = os.path.join(base_dir, \"test\")\n",
    "os.mkdir(test_dir)\n"
   ]
  },
  {
   "cell_type": "code",
   "execution_count": 6,
   "metadata": {},
   "outputs": [],
   "source": [
    "train_disappointed_dir = os.path.join(train_dir, \"disappointed\")\n",
    "os.mkdir(train_disappointed_dir)\n",
    "train_interested_dir = os.path.join(train_dir, \"interested\")\n",
    "os.mkdir(train_interested_dir)\n",
    "train_neutral_dir = os.path.join(train_dir,\"neutral\")\n",
    "os.mkdir(train_neutral_dir)\n",
    "val_disappointed_dir = os.path.join(validation_dir, \"disappointed\")\n",
    "os.mkdir(val_disappointed_dir)\n",
    "val_interested_dir = os.path.join(validation_dir, \"interested\")\n",
    "os.mkdir(val_interested_dir)\n",
    "val_neutral_dir = os.path.join(validation_dir,\"neutral\")\n",
    "os.mkdir(val_neutral_dir)\n",
    "test_disappointed_dir = os.path.join(test_dir, \"disappointed\")\n",
    "os.mkdir(test_disappointed_dir)\n",
    "test_interested_dir = os.path.join(test_dir, \"interested\")\n",
    "os.mkdir(test_interested_dir)\n",
    "test_neutral_dir = os.path.join(test_dir,\"neutral\")\n",
    "os.mkdir(test_neutral_dir)\n",
    "\n"
   ]
  },
  {
   "cell_type": "code",
   "execution_count": 1,
   "metadata": {
    "execution": {
     "iopub.execute_input": "2022-11-24T21:50:59.843518Z",
     "iopub.status.busy": "2022-11-24T21:50:59.843001Z",
     "iopub.status.idle": "2022-11-24T21:50:59.871461Z",
     "shell.execute_reply": "2022-11-24T21:50:59.870274Z",
     "shell.execute_reply.started": "2022-11-24T21:50:59.843385Z"
    }
   },
   "outputs": [],
   "source": [
    "import os\n",
    "base_dir = (r\"/kaggle/input/deep-learning2\")\n",
    "train_dir = os.path.join(base_dir, \"train\")\n",
    "validation_dir = os.path.join(base_dir, \"validation\")\n",
    "test_dir = os.path.join(base_dir, \"test\")"
   ]
  },
  {
   "cell_type": "code",
   "execution_count": 7,
   "metadata": {},
   "outputs": [],
   "source": [
    "import shutil\n",
    "fnames = [\"disappointed ({}).jpg\".format(i) for i in range(1, 10001)]\n",
    "for fname in fnames:\n",
    "    src = os.path.join(r\"D:\\Uygulamalar\\Deep_Learning_Project\\FER_Custom_Dataset\\disappointed\", fname)\n",
    "    dst = os.path.join(train_disappointed_dir, fname)\n",
    "    shutil.copyfile(src, dst)\n",
    "\n",
    "fnames = [\"disappointed ({}).jpg\".format(i) for i in range(10001, 12001)]\n",
    "for fname in fnames:\n",
    "    src = os.path.join(r\"D:\\Uygulamalar\\Deep_Learning_Project\\FER_Custom_Dataset\\disappointed\", fname)\n",
    "    dst = os.path.join(val_disappointed_dir, fname)\n",
    "    shutil.copyfile(src, dst)\n",
    "\n",
    "fnames = [\"disappointed ({}).jpg\".format(i) for i in range(12001, 12735)]\n",
    "for fname in fnames:\n",
    "    src = os.path.join(r\"D:\\Uygulamalar\\Deep_Learning_Project\\FER_Custom_Dataset\\disappointed\", fname)\n",
    "    dst = os.path.join(test_disappointed_dir, fname)\n",
    "    shutil.copyfile(src, dst)\n",
    "\n",
    "fnames = [\"interested ({}).jpg\".format(i) for i in range(1, 15001)]\n",
    "for fname in fnames:\n",
    "    src = os.path.join(r\"D:\\Uygulamalar\\Deep_Learning_Project\\FER_Custom_Dataset\\interested\", fname)\n",
    "    dst = os.path.join(train_interested_dir, fname)\n",
    "    shutil.copyfile(src, dst)\n",
    "\n",
    "fnames = [\"interested ({}).jpg\".format(i) for i in range(15001, 17001)]\n",
    "for fname in fnames:\n",
    "    src = os.path.join(r\"D:\\Uygulamalar\\Deep_Learning_Project\\FER_Custom_Dataset\\interested\", fname)\n",
    "    dst = os.path.join(val_interested_dir, fname)\n",
    "    shutil.copyfile(src, dst)\n",
    "\n",
    "fnames = [\"interested ({}).jpg\".format(i) for i in range(17001, 17211)]\n",
    "for fname in fnames:\n",
    "    src = os.path.join(r\"D:\\Uygulamalar\\Deep_Learning_Project\\FER_Custom_Dataset\\interested\", fname)\n",
    "    dst = os.path.join(test_interested_dir, fname)\n",
    "    shutil.copyfile(src, dst)\n",
    "\n",
    "fnames = [\"neutral ({}).jpg\".format(i) for i in range(1, 11001)]\n",
    "for fname in fnames:\n",
    "    src = os.path.join(r\"D:\\Uygulamalar\\Deep_Learning_Project\\FER_Custom_Dataset\\neutral\", fname)\n",
    "    dst = os.path.join(train_neutral_dir, fname)\n",
    "    shutil.copyfile(src, dst)\n",
    "\n",
    "fnames = [\"neutral ({}).jpg\".format(i) for i in range(11001, 13001)]\n",
    "for fname in fnames:\n",
    "    src = os.path.join(r\"D:\\Uygulamalar\\Deep_Learning_Project\\FER_Custom_Dataset\\neutral\", fname)\n",
    "    dst = os.path.join(val_neutral_dir, fname)\n",
    "    shutil.copyfile(src, dst)\n",
    "\n",
    "fnames = [\"neutral ({}).jpg\".format(i) for i in range(13001, 13876)]\n",
    "for fname in fnames:\n",
    "    src = os.path.join(r\"D:\\Uygulamalar\\Deep_Learning_Project\\FER_Custom_Dataset\\neutral\", fname)\n",
    "    dst = os.path.join(test_neutral_dir, fname)\n",
    "    shutil.copyfile(src, dst)"
   ]
  },
  {
   "cell_type": "code",
   "execution_count": 2,
   "metadata": {
    "execution": {
     "iopub.execute_input": "2022-11-24T21:51:03.082377Z",
     "iopub.status.busy": "2022-11-24T21:51:03.081934Z",
     "iopub.status.idle": "2022-11-24T21:51:16.734497Z",
     "shell.execute_reply": "2022-11-24T21:51:16.733274Z",
     "shell.execute_reply.started": "2022-11-24T21:51:03.082339Z"
    }
   },
   "outputs": [
    {
     "name": "stderr",
     "output_type": "stream",
     "text": [
      "2022-11-24 21:51:09.144211: I tensorflow/core/common_runtime/process_util.cc:146] Creating new thread pool with default inter op setting: 2. Tune using inter_op_parallelism_threads for best performance.\n"
     ]
    },
    {
     "name": "stdout",
     "output_type": "stream",
     "text": [
      "Model: \"sequential\"\n",
      "_________________________________________________________________\n",
      "Layer (type)                 Output Shape              Param #   \n",
      "=================================================================\n",
      "conv2d (Conv2D)              (None, 62, 62, 64)        1792      \n",
      "_________________________________________________________________\n",
      "conv2d_1 (Conv2D)            (None, 60, 60, 128)       73856     \n",
      "_________________________________________________________________\n",
      "conv2d_2 (Conv2D)            (None, 58, 58, 256)       295168    \n",
      "_________________________________________________________________\n",
      "conv2d_3 (Conv2D)            (None, 56, 56, 512)       1180160   \n",
      "_________________________________________________________________\n",
      "flatten (Flatten)            (None, 1605632)           0         \n",
      "_________________________________________________________________\n",
      "dense (Dense)                (None, 512)               822084096 \n",
      "_________________________________________________________________\n",
      "dense_1 (Dense)              (None, 3)                 1539      \n",
      "=================================================================\n",
      "Total params: 823,636,611\n",
      "Trainable params: 823,636,611\n",
      "Non-trainable params: 0\n",
      "_________________________________________________________________\n"
     ]
    }
   ],
   "source": [
    "from keras import layers\n",
    "from keras import models\n",
    "\n",
    "model = models.Sequential()\n",
    "model.add(layers.Conv2D(64, (3, 3), activation='relu',input_shape=(64,64,3)))\n",
    "model.add(layers.Conv2D(128, (3, 3), activation='relu'))\n",
    "model.add(layers.Conv2D(256, (3, 3), activation='relu'))\n",
    "model.add(layers.Conv2D(512, (3, 3), activation='relu'))\n",
    "model.add(layers.Flatten())\n",
    "model.add(layers.Dense(512, activation='relu'))\n",
    "model.add(layers.Dense(3, activation='softmax'))\n",
    "\n",
    "model.summary()\n"
   ]
  },
  {
   "cell_type": "code",
   "execution_count": 5,
   "metadata": {
    "execution": {
     "iopub.execute_input": "2022-11-24T21:51:24.088606Z",
     "iopub.status.busy": "2022-11-24T21:51:24.088136Z",
     "iopub.status.idle": "2022-11-24T21:51:24.100080Z",
     "shell.execute_reply": "2022-11-24T21:51:24.098850Z",
     "shell.execute_reply.started": "2022-11-24T21:51:24.088571Z"
    }
   },
   "outputs": [],
   "source": [
    "model.compile(loss = \"categorical_crossentropy\",\n",
    "              optimizer = \"rmsprop\",\n",
    "              metrics = [\"acc\"])"
   ]
  },
  {
   "cell_type": "code",
   "execution_count": 101,
   "metadata": {
    "execution": {
     "iopub.execute_input": "2022-11-24T23:19:54.454923Z",
     "iopub.status.busy": "2022-11-24T23:19:54.454455Z",
     "iopub.status.idle": "2022-11-24T23:20:11.774725Z",
     "shell.execute_reply": "2022-11-24T23:20:11.773402Z",
     "shell.execute_reply.started": "2022-11-24T23:19:54.454887Z"
    }
   },
   "outputs": [
    {
     "name": "stdout",
     "output_type": "stream",
     "text": [
      "Found 36000 images belonging to 3 classes.\n",
      "Found 6000 images belonging to 3 classes.\n"
     ]
    }
   ],
   "source": [
    "from keras.preprocessing.image import ImageDataGenerator\n",
    "\n",
    "train_datagen = ImageDataGenerator(rescale=1./255)\n",
    "test_datagen = ImageDataGenerator(rescale=1./255)\n",
    "\n",
    "train_generator = train_datagen.flow_from_directory(\n",
    "        train_dir,\n",
    "        target_size=(64,64),\n",
    "        batch_size=16,\n",
    "        class_mode='categorical')\n",
    "\n",
    "validation_generator = test_datagen.flow_from_directory(\n",
    "        validation_dir,\n",
    "        target_size=(64, 64),\n",
    "        batch_size=16,\n",
    "        class_mode='categorical')"
   ]
  },
  {
   "cell_type": "code",
   "execution_count": 104,
   "metadata": {
    "execution": {
     "iopub.execute_input": "2022-11-24T23:20:45.288161Z",
     "iopub.status.busy": "2022-11-24T23:20:45.287715Z",
     "iopub.status.idle": "2022-11-24T23:20:45.362660Z",
     "shell.execute_reply": "2022-11-24T23:20:45.361438Z",
     "shell.execute_reply.started": "2022-11-24T23:20:45.288122Z"
    }
   },
   "outputs": [
    {
     "name": "stdout",
     "output_type": "stream",
     "text": [
      "data batch shape: (16, 64, 64, 3)\n",
      "labels batch shape: (16, 3)\n",
      "data batch shape: (16, 64, 64, 3)\n",
      "labels batch shape: (16, 3)\n"
     ]
    }
   ],
   "source": [
    "for data_batch, labels_batch in train_generator:\n",
    "    print('data batch shape:', data_batch.shape)\n",
    "    print('labels batch shape:', labels_batch.shape)\n",
    "    break\n",
    "for data_batch, labels_batch in validation_generator:\n",
    "    print('data batch shape:', data_batch.shape)\n",
    "    print('labels batch shape:', labels_batch.shape)\n",
    "    break"
   ]
  },
  {
   "cell_type": "code",
   "execution_count": 12,
   "metadata": {
    "execution": {
     "iopub.execute_input": "2022-11-24T21:53:38.212346Z",
     "iopub.status.busy": "2022-11-24T21:53:38.211289Z",
     "iopub.status.idle": "2022-11-24T22:17:43.628433Z",
     "shell.execute_reply": "2022-11-24T22:17:43.627196Z",
     "shell.execute_reply.started": "2022-11-24T21:53:38.212296Z"
    }
   },
   "outputs": [
    {
     "name": "stdout",
     "output_type": "stream",
     "text": [
      "Epoch 1/20\n",
      "5/5 [==============================] - 50s 10s/step - loss: 76.1045 - acc: 0.3750 - val_loss: 1.1951 - val_acc: 0.2375\n",
      "Epoch 2/20\n",
      "5/5 [==============================] - 50s 10s/step - loss: 1.7214 - acc: 0.3875 - val_loss: 1.1163 - val_acc: 0.3125\n",
      "Epoch 3/20\n",
      "5/5 [==============================] - 50s 10s/step - loss: 1.1073 - acc: 0.4250 - val_loss: 1.1806 - val_acc: 0.2875\n",
      "Epoch 4/20\n",
      "5/5 [==============================] - 51s 11s/step - loss: 1.1094 - acc: 0.4125 - val_loss: 1.1132 - val_acc: 0.3500\n",
      "Epoch 5/20\n",
      "5/5 [==============================] - 51s 11s/step - loss: 1.1250 - acc: 0.4000 - val_loss: 1.0666 - val_acc: 0.4250\n",
      "Epoch 6/20\n",
      "5/5 [==============================] - 50s 11s/step - loss: 1.1082 - acc: 0.4125 - val_loss: 1.1453 - val_acc: 0.3500\n",
      "Epoch 7/20\n",
      "5/5 [==============================] - 50s 11s/step - loss: 1.0912 - acc: 0.4000 - val_loss: 1.0783 - val_acc: 0.4375\n",
      "Epoch 8/20\n",
      "5/5 [==============================] - 50s 10s/step - loss: 1.0905 - acc: 0.3875 - val_loss: 1.1139 - val_acc: 0.3750\n",
      "Epoch 9/20\n",
      "5/5 [==============================] - 50s 10s/step - loss: 1.1175 - acc: 0.3625 - val_loss: 1.0859 - val_acc: 0.4125\n",
      "Epoch 10/20\n",
      "5/5 [==============================] - 50s 10s/step - loss: 1.0831 - acc: 0.3750 - val_loss: 1.1241 - val_acc: 0.2625\n",
      "Epoch 11/20\n",
      "5/5 [==============================] - 49s 10s/step - loss: 1.4696 - acc: 0.2875 - val_loss: 1.1088 - val_acc: 0.3625\n",
      "Epoch 12/20\n",
      "5/5 [==============================] - 50s 10s/step - loss: 1.1446 - acc: 0.3625 - val_loss: 1.1283 - val_acc: 0.2750\n",
      "Epoch 13/20\n",
      "5/5 [==============================] - 49s 10s/step - loss: 1.0760 - acc: 0.4750 - val_loss: 1.0966 - val_acc: 0.3000\n",
      "Epoch 14/20\n",
      "5/5 [==============================] - 50s 10s/step - loss: 1.1212 - acc: 0.2750 - val_loss: 1.1005 - val_acc: 0.3125\n",
      "Epoch 15/20\n",
      "5/5 [==============================] - 50s 10s/step - loss: 1.0966 - acc: 0.3875 - val_loss: 1.0994 - val_acc: 0.3375\n",
      "Epoch 16/20\n",
      "5/5 [==============================] - 50s 10s/step - loss: 1.0991 - acc: 0.3750 - val_loss: 1.0994 - val_acc: 0.2625\n",
      "Epoch 17/20\n",
      "5/5 [==============================] - 50s 10s/step - loss: 1.0755 - acc: 0.3250 - val_loss: 1.1456 - val_acc: 0.3750\n",
      "Epoch 18/20\n",
      "5/5 [==============================] - 49s 10s/step - loss: 2.5088 - acc: 0.3125 - val_loss: 1.6910 - val_acc: 0.3375\n",
      "Epoch 19/20\n",
      "5/5 [==============================] - 50s 10s/step - loss: 1.1975 - acc: 0.3750 - val_loss: 1.1010 - val_acc: 0.3875\n",
      "Epoch 20/20\n",
      "5/5 [==============================] - 49s 10s/step - loss: 1.1005 - acc: 0.4250 - val_loss: 1.0947 - val_acc: 0.3000\n"
     ]
    }
   ],
   "source": [
    "history = model.fit(\n",
    "    train_generator,\n",
    "    steps_per_epoch=5,\n",
    "    epochs=20,\n",
    "    validation_data=validation_generator,\n",
    "    validation_steps=5)"
   ]
  },
  {
   "cell_type": "code",
   "execution_count": 13,
   "metadata": {
    "execution": {
     "iopub.execute_input": "2022-11-24T22:17:50.475996Z",
     "iopub.status.busy": "2022-11-24T22:17:50.475559Z",
     "iopub.status.idle": "2022-11-24T22:18:12.201455Z",
     "shell.execute_reply": "2022-11-24T22:18:12.200377Z",
     "shell.execute_reply.started": "2022-11-24T22:17:50.475957Z"
    }
   },
   "outputs": [
    {
     "name": "stderr",
     "output_type": "stream",
     "text": [
      "2022-11-24 22:17:50.872962: W tensorflow/python/util/util.cc:348] Sets are not currently considered sequences, but this may change in the future, so consider avoiding using them.\n"
     ]
    }
   ],
   "source": [
    "model.save('/kaggle/working/')"
   ]
  },
  {
   "cell_type": "code",
   "execution_count": 14,
   "metadata": {
    "execution": {
     "iopub.execute_input": "2022-11-24T22:18:38.444670Z",
     "iopub.status.busy": "2022-11-24T22:18:38.444194Z",
     "iopub.status.idle": "2022-11-24T22:18:38.921181Z",
     "shell.execute_reply": "2022-11-24T22:18:38.920094Z",
     "shell.execute_reply.started": "2022-11-24T22:18:38.444630Z"
    }
   },
   "outputs": [
    {
     "data": {
      "image/png": "[encoded data removed]",
      "text/plain": [
       "<Figure size 432x288 with 1 Axes>"
      ]
     },
     "metadata": {
      "needs_background": "light"
     },
     "output_type": "display_data"
    },
    {
     "data": {
      "image/png": "[encoded data removed]",
      "text/plain": [
       "<Figure size 432x288 with 1 Axes>"
      ]
     },
     "metadata": {
      "needs_background": "light"
     },
     "output_type": "display_data"
    }
   ],
   "source": [
    "import matplotlib.pyplot as plt\n",
    "\n",
    "acc = history.history['acc']\n",
    "val_acc = history.history['val_acc']\n",
    "loss = history.history['loss']\n",
    "val_loss = history.history['val_loss']\n",
    "\n",
    "epochs = range(1, len(acc) + 1)\n",
    "\n",
    "plt.plot(epochs, acc, 'b-o', label='Training acc')\n",
    "plt.plot(epochs, val_acc, 'b-', label='Validation acc')\n",
    "plt.title('Training and validation accuracy')\n",
    "plt.legend()\n",
    "\n",
    "plt.figure()\n",
    "\n",
    "plt.plot(epochs, loss, 'b-o', label='Training loss')\n",
    "plt.plot(epochs, val_loss, 'b-', label='Validation loss')\n",
    "plt.title('Training and validation loss')\n",
    "plt.legend()\n",
    "\n",
    "plt.show()\n"
   ]
  },
  {
   "cell_type": "code",
   "execution_count": 48,
   "metadata": {
    "execution": {
     "iopub.execute_input": "2022-11-24T22:45:50.234982Z",
     "iopub.status.busy": "2022-11-24T22:45:50.232321Z",
     "iopub.status.idle": "2022-11-24T22:45:50.244277Z",
     "shell.execute_reply": "2022-11-24T22:45:50.243258Z",
     "shell.execute_reply.started": "2022-11-24T22:45:50.234912Z"
    }
   },
   "outputs": [],
   "source": [
    "train_val_total_dir = os.path.join(r\"/kaggle/working/\", 'train_val_total')\n",
    "os.mkdir(train_val_total_dir)\n",
    "train_val_disappointed = os.path.join(train_val_total_dir,\"disappointed\")\n",
    "os.mkdir(train_val_disappointed)\n",
    "train_val_interested = os.path.join(train_val_total_dir,\"interested\")\n",
    "os.mkdir(train_val_interested)\n",
    "train_val_neutral = os.path.join(train_val_total_dir,\"neutral\")\n",
    "os.mkdir(train_val_neutral)"
   ]
  },
  {
   "cell_type": "code",
   "execution_count": 49,
   "metadata": {
    "execution": {
     "iopub.execute_input": "2022-11-24T22:45:56.234571Z",
     "iopub.status.busy": "2022-11-24T22:45:56.234137Z",
     "iopub.status.idle": "2022-11-24T22:46:45.803953Z",
     "shell.execute_reply": "2022-11-24T22:46:45.802832Z",
     "shell.execute_reply.started": "2022-11-24T22:45:56.234536Z"
    }
   },
   "outputs": [],
   "source": [
    "\n",
    "import shutil\n",
    "fnames = [\"disappointed ({}).jpg\".format(i) for i in range(1, 10001)]\n",
    "for fname in fnames:\n",
    "    src = os.path.join(r\"/kaggle/input/deep-learning2/train/disappointed\", fname)\n",
    "    dst = os.path.join(train_val_disappointed, fname)\n",
    "    shutil.copyfile(src, dst)\n",
    "fnames = [\"interested ({}).jpg\".format(i) for i in range(1, 15001)]\n",
    "for fname in fnames:\n",
    "    src = os.path.join(r\"/kaggle/input/deep-learning2/train/interested\", fname)\n",
    "    dst = os.path.join(train_val_interested, fname)\n",
    "    shutil.copyfile(src, dst)\n",
    "fnames = [\"neutral ({}).jpg\".format(i) for i in range(1, 11001)]\n",
    "for fname in fnames:\n",
    "    src = os.path.join(r\"/kaggle/input/deep-learning2/train/neutral\", fname)\n",
    "    dst = os.path.join(train_val_neutral, fname)\n",
    "    shutil.copyfile(src, dst)   \n",
    "fnames = [\"disappointed ({}).jpg\".format(i) for i in range(10001, 12001)]\n",
    "for fname in fnames:\n",
    "    src = os.path.join(r\"/kaggle/input/deep-learning2/validation/disappointed\", fname)\n",
    "    dst = os.path.join(train_val_disappointed, fname)\n",
    "    shutil.copyfile(src, dst)\n",
    "fnames = [\"interested ({}).jpg\".format(i) for i in range(15001, 17001)]\n",
    "for fname in fnames:\n",
    "    src = os.path.join(r\"/kaggle/input/deep-learning2/validation/interested\", fname)\n",
    "    dst = os.path.join(train_val_interested, fname)\n",
    "    shutil.copyfile(src, dst)\n",
    "fnames = [\"neutral ({}).jpg\".format(i) for i in range(11001, 13001)]\n",
    "for fname in fnames:\n",
    "    src = os.path.join(r\"/kaggle/input/deep-learning2/validation/neutral\", fname)\n",
    "    dst = os.path.join(train_val_neutral, fname)\n",
    "    shutil.copyfile(src, dst)    "
   ]
  },
  {
   "cell_type": "code",
   "execution_count": 106,
   "metadata": {
    "execution": {
     "iopub.execute_input": "2022-11-24T23:21:38.379177Z",
     "iopub.status.busy": "2022-11-24T23:21:38.378449Z",
     "iopub.status.idle": "2022-11-24T23:21:39.513272Z",
     "shell.execute_reply": "2022-11-24T23:21:39.512197Z",
     "shell.execute_reply.started": "2022-11-24T23:21:38.379127Z"
    }
   },
   "outputs": [
    {
     "name": "stdout",
     "output_type": "stream",
     "text": [
      "Found 42000 images belonging to 3 classes.\n"
     ]
    }
   ],
   "source": [
    "train_datagen = ImageDataGenerator(rescale=1./255)\n",
    "train_generator = train_datagen.flow_from_directory(\n",
    "        train_val_total_dir,\n",
    "        target_size=(64,64),\n",
    "        batch_size=16,\n",
    "        class_mode='categorical')\n",
    "\n",
    "model.compile(loss = \"categorical_crossentropy\",\n",
    "              optimizer = \"rmsprop\", \n",
    "              metrics = [\"acc\"],  )\n",
    "\n"
   ]
  },
  {
   "cell_type": "code",
   "execution_count": 107,
   "metadata": {
    "execution": {
     "iopub.execute_input": "2022-11-24T23:21:48.093480Z",
     "iopub.status.busy": "2022-11-24T23:21:48.092426Z",
     "iopub.status.idle": "2022-11-24T23:28:37.745874Z",
     "shell.execute_reply": "2022-11-24T23:28:37.744597Z",
     "shell.execute_reply.started": "2022-11-24T23:21:48.093437Z"
    }
   },
   "outputs": [
    {
     "name": "stdout",
     "output_type": "stream",
     "text": [
      "Epoch 1/10\n",
      "5/5 [==============================] - 42s 8s/step - loss: 18.2164 - acc: 0.3000\n",
      "Epoch 2/10\n",
      "5/5 [==============================] - 41s 8s/step - loss: 1.2787 - acc: 0.3625\n",
      "Epoch 3/10\n",
      "5/5 [==============================] - 41s 8s/step - loss: 1.0754 - acc: 0.3750\n",
      "Epoch 4/10\n",
      "5/5 [==============================] - 42s 8s/step - loss: 1.1132 - acc: 0.3500\n",
      "Epoch 5/10\n",
      "5/5 [==============================] - 40s 8s/step - loss: 1.1003 - acc: 0.4625\n",
      "Epoch 6/10\n",
      "5/5 [==============================] - 41s 8s/step - loss: 1.1164 - acc: 0.3875\n",
      "Epoch 7/10\n",
      "5/5 [==============================] - 40s 8s/step - loss: 1.0907 - acc: 0.4250\n",
      "Epoch 8/10\n",
      "5/5 [==============================] - 41s 8s/step - loss: 1.0836 - acc: 0.4625\n",
      "Epoch 9/10\n",
      "5/5 [==============================] - 41s 8s/step - loss: 1.0301 - acc: 0.5250\n",
      "Epoch 10/10\n",
      "5/5 [==============================] - 41s 8s/step - loss: 1.4328 - acc: 0.3000\n"
     ]
    }
   ],
   "source": [
    "history = model.fit(\n",
    "    train_generator,\n",
    "    steps_per_epoch=5,\n",
    "    epochs=10)"
   ]
  },
  {
   "cell_type": "code",
   "execution_count": 113,
   "metadata": {
    "execution": {
     "iopub.execute_input": "2022-11-24T23:33:33.691788Z",
     "iopub.status.busy": "2022-11-24T23:33:33.691393Z",
     "iopub.status.idle": "2022-11-24T23:36:32.828598Z",
     "shell.execute_reply": "2022-11-24T23:36:32.827744Z",
     "shell.execute_reply.started": "2022-11-24T23:33:33.691758Z"
    }
   },
   "outputs": [
    {
     "name": "stdout",
     "output_type": "stream",
     "text": [
      "Found 1819 images belonging to 3 classes.\n",
      "19/19 [==============================] - 179s 9s/step - loss: 1.1069 - acc: 0.1154\n",
      "0.11544805020093918\n"
     ]
    }
   ],
   "source": [
    "test_generator = test_datagen.flow_from_directory(\n",
    "test_dir,\n",
    "    target_size=(64,64),\n",
    "    batch_size = 100,\n",
    "    class_mode=\"categorical\"\n",
    ")\n",
    "test_loss,test_acc=model.evaluate(test_generator)\n",
    "print(test_acc)"
   ]
  },
  {
   "cell_type": "code",
   "execution_count": 115,
   "metadata": {
    "execution": {
     "iopub.execute_input": "2022-11-24T23:38:21.520603Z",
     "iopub.status.busy": "2022-11-24T23:38:21.520088Z",
     "iopub.status.idle": "2022-11-24T23:38:21.626769Z",
     "shell.execute_reply": "2022-11-24T23:38:21.624751Z",
     "shell.execute_reply.started": "2022-11-24T23:38:21.520562Z"
    }
   },
   "outputs": [
    {
     "name": "stdout",
     "output_type": "stream",
     "text": [
      "Model: \"sequential_2\"\n",
      "_________________________________________________________________\n",
      "Layer (type)                 Output Shape              Param #   \n",
      "=================================================================\n",
      "conv2d_8 (Conv2D)            (None, 62, 62, 64)        1792      \n",
      "_________________________________________________________________\n",
      "max_pooling2d_4 (MaxPooling2 (None, 31, 31, 64)        0         \n",
      "_________________________________________________________________\n",
      "conv2d_9 (Conv2D)            (None, 29, 29, 128)       73856     \n",
      "_________________________________________________________________\n",
      "max_pooling2d_5 (MaxPooling2 (None, 14, 14, 128)       0         \n",
      "_________________________________________________________________\n",
      "conv2d_10 (Conv2D)           (None, 12, 12, 256)       295168    \n",
      "_________________________________________________________________\n",
      "max_pooling2d_6 (MaxPooling2 (None, 6, 6, 256)         0         \n",
      "_________________________________________________________________\n",
      "conv2d_11 (Conv2D)           (None, 4, 4, 512)         1180160   \n",
      "_________________________________________________________________\n",
      "max_pooling2d_7 (MaxPooling2 (None, 2, 2, 512)         0         \n",
      "_________________________________________________________________\n",
      "conv2d_12 (Conv2D)           (None, 1, 1, 512)         1049088   \n",
      "_________________________________________________________________\n",
      "flatten_2 (Flatten)          (None, 512)               0         \n",
      "_________________________________________________________________\n",
      "dense_4 (Dense)              (None, 512)               262656    \n",
      "_________________________________________________________________\n",
      "dense_5 (Dense)              (None, 3)                 1539      \n",
      "=================================================================\n",
      "Total params: 2,864,259\n",
      "Trainable params: 2,864,259\n",
      "Non-trainable params: 0\n",
      "_________________________________________________________________\n"
     ]
    }
   ],
   "source": [
    "from keras import layers\n",
    "from keras import models\n",
    "\n",
    "model = models.Sequential()\n",
    "model.add(layers.Conv2D(64, (3, 3), activation='relu',input_shape=(64,64,3)))\n",
    "model.add(layers.MaxPooling2D((2, 2)))\n",
    "model.add(layers.Conv2D(128, (3, 3), activation='relu'))\n",
    "model.add(layers.MaxPooling2D((2, 2)))\n",
    "model.add(layers.Conv2D(256, (3, 3), activation='relu'))\n",
    "model.add(layers.MaxPooling2D((2, 2)))\n",
    "model.add(layers.Conv2D(512, (3, 3), activation='relu'))\n",
    "model.add(layers.MaxPooling2D((2, 2)))\n",
    "model.add(layers.Conv2D(512, (2, 2), activation='relu'))\n",
    "model.add(layers.Flatten())\n",
    "model.add(layers.Dense(512, activation='relu'))\n",
    "model.add(layers.Dense(3, activation='softmax'))\n",
    "\n",
    "model.summary()"
   ]
  },
  {
   "cell_type": "code",
   "execution_count": 116,
   "metadata": {
    "execution": {
     "iopub.execute_input": "2022-11-24T23:38:39.470940Z",
     "iopub.status.busy": "2022-11-24T23:38:39.470010Z",
     "iopub.status.idle": "2022-11-24T23:38:39.481240Z",
     "shell.execute_reply": "2022-11-24T23:38:39.480092Z",
     "shell.execute_reply.started": "2022-11-24T23:38:39.470903Z"
    }
   },
   "outputs": [],
   "source": [
    "model.compile(loss = \"categorical_crossentropy\",\n",
    "              optimizer = \"rmsprop\",\n",
    "              metrics = [\"acc\"])"
   ]
  },
  {
   "cell_type": "code",
   "execution_count": 118,
   "metadata": {
    "execution": {
     "iopub.execute_input": "2022-11-24T23:39:24.367853Z",
     "iopub.status.busy": "2022-11-24T23:39:24.367418Z",
     "iopub.status.idle": "2022-11-24T23:39:34.959928Z",
     "shell.execute_reply": "2022-11-24T23:39:34.959117Z",
     "shell.execute_reply.started": "2022-11-24T23:39:24.367818Z"
    }
   },
   "outputs": [
    {
     "name": "stdout",
     "output_type": "stream",
     "text": [
      "Found 42000 images belonging to 3 classes.\n",
      "Epoch 1/10\n",
      "5/5 [==============================] - 2s 159ms/step - loss: 1.1408 - acc: 0.2625\n",
      "Epoch 2/10\n",
      "5/5 [==============================] - 1s 160ms/step - loss: 1.0946 - acc: 0.4125\n",
      "Epoch 3/10\n",
      "5/5 [==============================] - 1s 160ms/step - loss: 1.1471 - acc: 0.4000\n",
      "Epoch 4/10\n",
      "5/5 [==============================] - 1s 158ms/step - loss: 1.1006 - acc: 0.3375\n",
      "Epoch 5/10\n",
      "5/5 [==============================] - 1s 160ms/step - loss: 1.0922 - acc: 0.4375\n",
      "Epoch 6/10\n",
      "5/5 [==============================] - 1s 161ms/step - loss: 1.0816 - acc: 0.5125\n",
      "Epoch 7/10\n",
      "5/5 [==============================] - 1s 158ms/step - loss: 1.0980 - acc: 0.3875\n",
      "Epoch 8/10\n",
      "5/5 [==============================] - 1s 159ms/step - loss: 1.1080 - acc: 0.3250\n",
      "Epoch 9/10\n",
      "5/5 [==============================] - 1s 161ms/step - loss: 1.1013 - acc: 0.3375\n",
      "Epoch 10/10\n",
      "5/5 [==============================] - 1s 160ms/step - loss: 1.0845 - acc: 0.5000\n"
     ]
    }
   ],
   "source": [
    "train_datagen = ImageDataGenerator(rescale=1./255)\n",
    "train_generator = train_datagen.flow_from_directory(\n",
    "        train_val_total_dir,\n",
    "        target_size=(64,64),\n",
    "        batch_size=16,\n",
    "        class_mode='categorical')\n",
    "\n",
    "model.compile(loss = \"categorical_crossentropy\",\n",
    "              optimizer = \"rmsprop\", \n",
    "              metrics = [\"acc\"],  )\n",
    "\n",
    "history = model.fit(\n",
    "    train_generator,\n",
    "    steps_per_epoch=5,\n",
    "    epochs=10)\n"
   ]
  },
  {
   "cell_type": "code",
   "execution_count": 121,
   "metadata": {
    "execution": {
     "iopub.execute_input": "2022-11-24T23:40:09.240508Z",
     "iopub.status.busy": "2022-11-24T23:40:09.239183Z",
     "iopub.status.idle": "2022-11-24T23:40:09.246093Z",
     "shell.execute_reply": "2022-11-24T23:40:09.244778Z",
     "shell.execute_reply.started": "2022-11-24T23:40:09.240464Z"
    }
   },
   "outputs": [
    {
     "name": "stdout",
     "output_type": "stream",
     "text": [
      "dict_keys(['loss', 'acc'])\n"
     ]
    }
   ],
   "source": [
    "history_dic =history.history\n",
    "print(history_dic.keys())"
   ]
  },
  {
   "cell_type": "code",
   "execution_count": 123,
   "metadata": {
    "execution": {
     "iopub.execute_input": "2022-11-24T23:41:55.840707Z",
     "iopub.status.busy": "2022-11-24T23:41:55.840264Z",
     "iopub.status.idle": "2022-11-24T23:41:56.063083Z",
     "shell.execute_reply": "2022-11-24T23:41:56.061951Z",
     "shell.execute_reply.started": "2022-11-24T23:41:55.840667Z"
    }
   },
   "outputs": [
    {
     "data": {
      "image/png": "[encoded data removed]",
      "text/plain": [
       "<Figure size 432x288 with 1 Axes>"
      ]
     },
     "metadata": {
      "needs_background": "light"
     },
     "output_type": "display_data"
    }
   ],
   "source": [
    "import matplotlib.pyplot as plt\n",
    "\n",
    "acc = history.history['acc']\n",
    "loss = history.history['loss']\n",
    "\n",
    "epochs = range(1, len(acc) + 1)\n",
    "\n",
    "plt.plot(epochs, loss, 'b-o', label='Training acc')\n",
    "plt.plot(epochs, acc, 'b-', label='Training Loss')\n",
    "plt.title('Training and validation accuracy')\n",
    "plt.legend()\n",
    "plt.show()"
   ]
  },
  {
   "cell_type": "code",
   "execution_count": null,
   "metadata": {},
   "outputs": [],
   "source": [
    "test_val = r\"D:\\Uygulamalar\\Deep_Learning_Project\\test\"\n",
    "model.predict(test_val)"
   ]
  }
 ],
 "metadata": {
  "kernelspec": {
   "display_name": "Python 3 (ipykernel)",
   "language": "python",
   "name": "python3"
  },
  "language_info": {
   "codemirror_mode": {
    "name": "ipython",
    "version": 3
   },
   "file_extension": ".py",
   "mimetype": "text/x-python",
   "name": "python",
   "nbconvert_exporter": "python",
   "pygments_lexer": "ipython3",
   "version": "3.9.13"
  },
  "vscode": {
   "interpreter": {
    "hash": "8d59c9d3a7b42134f8d121118429e312b53e0584621117dc9cf743c951380d96"
   }
  }
 },
 "nbformat": 4,
 "nbformat_minor": 4
}
